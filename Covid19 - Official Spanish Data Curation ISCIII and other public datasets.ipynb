{
 "cells": [
  {
   "cell_type": "markdown",
   "metadata": {},
   "source": [
    "# Covid19\n",
    "## Works on different public datasets\n",
    "\n",
    "The purpose of this notebook is to provide an easy to run tool in order to have better insigts that those found in the press. Here we are going to handle with different files:\n",
    "* [Instituto de Salud Carlos III](https://covid19.isciii.es/)\n",
    "* [ISCIII Daily Mortality Monitoring MoMo](https://momo.isciii.es/public/momo/dashboard/momo_dashboard.html)\n",
    "* [European Centre for Disease Prevention and Control](https://www.ecdc.europa.eu/en/publications-data/download-todays-data-geographic-distribution-covid-19-cases-worldwide)\n",
    "\n",
    "### 0. Loading libraries\n"
   ]
  },
  {
   "cell_type": "code",
   "execution_count": 1,
   "metadata": {},
   "outputs": [],
   "source": [
    "import pandas as pd\n",
    "from datetime import datetime, timedelta\n",
    "import seaborn as sns\n",
    "import matplotlib.pyplot as plt\n",
    "import numpy as np\n",
    "from IPython.display import display, HTML, Markdown"
   ]
  },
  {
   "cell_type": "markdown",
   "metadata": {},
   "source": [
    "### 1. ISCIII Dataset\n",
    "\n",
    "This section will prepare those different datasets in order to make them more easy to work with. \n",
    "\n",
    "#### Preprocessing\n",
    "\n",
    "Some considerations\n",
    "* Separator: usually changes switching between ',' and ';'.\n",
    "* Data is being updated via appending the new data (one record for each autonomous region) day by day, so the last records correspond with the more recent information.\n",
    "* **DISCLAIMER**: data provided from media differs from data displayed at some points. Moreover, several other factors could change in this dataset (as the described separator or the addition of new columns). "
   ]
  },
  {
   "cell_type": "code",
   "execution_count": 2,
   "metadata": {},
   "outputs": [],
   "source": [
    "#Spanish dataset\n",
    "df = pd.read_csv(\"https://cnecovid.isciii.es/covid19/resources/agregados.csv\", sep=',', encoding='iso-8859-1')"
   ]
  },
  {
   "cell_type": "code",
   "execution_count": 3,
   "metadata": {},
   "outputs": [
    {
     "data": {
      "text/markdown": [
       "#### Description"
      ],
      "text/plain": [
       "<IPython.core.display.Markdown object>"
      ]
     },
     "metadata": {},
     "output_type": "display_data"
    },
    {
     "data": {
      "text/html": [
       "<div>\n",
       "<style scoped>\n",
       "    .dataframe tbody tr th:only-of-type {\n",
       "        vertical-align: middle;\n",
       "    }\n",
       "\n",
       "    .dataframe tbody tr th {\n",
       "        vertical-align: top;\n",
       "    }\n",
       "\n",
       "    .dataframe thead th {\n",
       "        text-align: right;\n",
       "    }\n",
       "</style>\n",
       "<table border=\"1\" class=\"dataframe\">\n",
       "  <thead>\n",
       "    <tr style=\"text-align: right;\">\n",
       "      <th></th>\n",
       "      <th>CASOS</th>\n",
       "      <th>PCR+</th>\n",
       "      <th>TestAc+</th>\n",
       "      <th>Hospitalizados</th>\n",
       "      <th>UCI</th>\n",
       "      <th>Fallecidos</th>\n",
       "      <th>Recuperados</th>\n",
       "    </tr>\n",
       "  </thead>\n",
       "  <tbody>\n",
       "    <tr>\n",
       "      <th>count</th>\n",
       "      <td>1.0</td>\n",
       "      <td>1577.000000</td>\n",
       "      <td>541.000000</td>\n",
       "      <td>1237.000000</td>\n",
       "      <td>1271.000000</td>\n",
       "      <td>1254.000000</td>\n",
       "      <td>1235.000000</td>\n",
       "    </tr>\n",
       "    <tr>\n",
       "      <th>mean</th>\n",
       "      <td>0.0</td>\n",
       "      <td>5749.877616</td>\n",
       "      <td>1254.892791</td>\n",
       "      <td>3400.836702</td>\n",
       "      <td>325.426436</td>\n",
       "      <td>737.398724</td>\n",
       "      <td>3042.434818</td>\n",
       "    </tr>\n",
       "    <tr>\n",
       "      <th>std</th>\n",
       "      <td>NaN</td>\n",
       "      <td>11805.696881</td>\n",
       "      <td>1558.900144</td>\n",
       "      <td>6483.180843</td>\n",
       "      <td>608.767674</td>\n",
       "      <td>1520.147616</td>\n",
       "      <td>6521.122484</td>\n",
       "    </tr>\n",
       "    <tr>\n",
       "      <th>min</th>\n",
       "      <td>0.0</td>\n",
       "      <td>0.000000</td>\n",
       "      <td>0.000000</td>\n",
       "      <td>0.000000</td>\n",
       "      <td>0.000000</td>\n",
       "      <td>0.000000</td>\n",
       "      <td>0.000000</td>\n",
       "    </tr>\n",
       "    <tr>\n",
       "      <th>25%</th>\n",
       "      <td>0.0</td>\n",
       "      <td>45.000000</td>\n",
       "      <td>105.000000</td>\n",
       "      <td>206.000000</td>\n",
       "      <td>19.500000</td>\n",
       "      <td>12.000000</td>\n",
       "      <td>30.000000</td>\n",
       "    </tr>\n",
       "    <tr>\n",
       "      <th>50%</th>\n",
       "      <td>0.0</td>\n",
       "      <td>1490.000000</td>\n",
       "      <td>731.000000</td>\n",
       "      <td>1082.000000</td>\n",
       "      <td>109.000000</td>\n",
       "      <td>167.000000</td>\n",
       "      <td>673.000000</td>\n",
       "    </tr>\n",
       "    <tr>\n",
       "      <th>75%</th>\n",
       "      <td>0.0</td>\n",
       "      <td>5110.000000</td>\n",
       "      <td>1529.000000</td>\n",
       "      <td>3492.000000</td>\n",
       "      <td>327.000000</td>\n",
       "      <td>668.000000</td>\n",
       "      <td>2456.500000</td>\n",
       "    </tr>\n",
       "    <tr>\n",
       "      <th>max</th>\n",
       "      <td>0.0</td>\n",
       "      <td>65269.000000</td>\n",
       "      <td>7732.000000</td>\n",
       "      <td>41856.000000</td>\n",
       "      <td>3555.000000</td>\n",
       "      <td>8760.000000</td>\n",
       "      <td>39984.000000</td>\n",
       "    </tr>\n",
       "  </tbody>\n",
       "</table>\n",
       "</div>"
      ],
      "text/plain": [
       "       CASOS          PCR+      TestAc+  Hospitalizados          UCI  \\\n",
       "count    1.0   1577.000000   541.000000     1237.000000  1271.000000   \n",
       "mean     0.0   5749.877616  1254.892791     3400.836702   325.426436   \n",
       "std      NaN  11805.696881  1558.900144     6483.180843   608.767674   \n",
       "min      0.0      0.000000     0.000000        0.000000     0.000000   \n",
       "25%      0.0     45.000000   105.000000      206.000000    19.500000   \n",
       "50%      0.0   1490.000000   731.000000     1082.000000   109.000000   \n",
       "75%      0.0   5110.000000  1529.000000     3492.000000   327.000000   \n",
       "max      0.0  65269.000000  7732.000000    41856.000000  3555.000000   \n",
       "\n",
       "        Fallecidos   Recuperados  \n",
       "count  1254.000000   1235.000000  \n",
       "mean    737.398724   3042.434818  \n",
       "std    1520.147616   6521.122484  \n",
       "min       0.000000      0.000000  \n",
       "25%      12.000000     30.000000  \n",
       "50%     167.000000    673.000000  \n",
       "75%     668.000000   2456.500000  \n",
       "max    8760.000000  39984.000000  "
      ]
     },
     "metadata": {},
     "output_type": "display_data"
    },
    {
     "data": {
      "text/markdown": [
       "#### Head"
      ],
      "text/plain": [
       "<IPython.core.display.Markdown object>"
      ]
     },
     "metadata": {},
     "output_type": "display_data"
    },
    {
     "data": {
      "text/html": [
       "<div>\n",
       "<style scoped>\n",
       "    .dataframe tbody tr th:only-of-type {\n",
       "        vertical-align: middle;\n",
       "    }\n",
       "\n",
       "    .dataframe tbody tr th {\n",
       "        vertical-align: top;\n",
       "    }\n",
       "\n",
       "    .dataframe thead th {\n",
       "        text-align: right;\n",
       "    }\n",
       "</style>\n",
       "<table border=\"1\" class=\"dataframe\">\n",
       "  <thead>\n",
       "    <tr style=\"text-align: right;\">\n",
       "      <th></th>\n",
       "      <th>CCAA</th>\n",
       "      <th>FECHA</th>\n",
       "      <th>CASOS</th>\n",
       "      <th>PCR+</th>\n",
       "      <th>TestAc+</th>\n",
       "      <th>Hospitalizados</th>\n",
       "      <th>UCI</th>\n",
       "      <th>Fallecidos</th>\n",
       "      <th>Recuperados</th>\n",
       "    </tr>\n",
       "  </thead>\n",
       "  <tbody>\n",
       "    <tr>\n",
       "      <th>0</th>\n",
       "      <td>AN</td>\n",
       "      <td>20/2/2020</td>\n",
       "      <td>0.0</td>\n",
       "      <td>0.0</td>\n",
       "      <td>NaN</td>\n",
       "      <td>NaN</td>\n",
       "      <td>NaN</td>\n",
       "      <td>NaN</td>\n",
       "      <td>NaN</td>\n",
       "    </tr>\n",
       "    <tr>\n",
       "      <th>1</th>\n",
       "      <td>AR</td>\n",
       "      <td>20/2/2020</td>\n",
       "      <td>NaN</td>\n",
       "      <td>0.0</td>\n",
       "      <td>NaN</td>\n",
       "      <td>NaN</td>\n",
       "      <td>NaN</td>\n",
       "      <td>NaN</td>\n",
       "      <td>NaN</td>\n",
       "    </tr>\n",
       "    <tr>\n",
       "      <th>2</th>\n",
       "      <td>AS</td>\n",
       "      <td>20/2/2020</td>\n",
       "      <td>NaN</td>\n",
       "      <td>0.0</td>\n",
       "      <td>NaN</td>\n",
       "      <td>NaN</td>\n",
       "      <td>NaN</td>\n",
       "      <td>NaN</td>\n",
       "      <td>NaN</td>\n",
       "    </tr>\n",
       "    <tr>\n",
       "      <th>3</th>\n",
       "      <td>IB</td>\n",
       "      <td>20/2/2020</td>\n",
       "      <td>NaN</td>\n",
       "      <td>1.0</td>\n",
       "      <td>NaN</td>\n",
       "      <td>NaN</td>\n",
       "      <td>NaN</td>\n",
       "      <td>NaN</td>\n",
       "      <td>NaN</td>\n",
       "    </tr>\n",
       "    <tr>\n",
       "      <th>4</th>\n",
       "      <td>CN</td>\n",
       "      <td>20/2/2020</td>\n",
       "      <td>NaN</td>\n",
       "      <td>1.0</td>\n",
       "      <td>NaN</td>\n",
       "      <td>NaN</td>\n",
       "      <td>NaN</td>\n",
       "      <td>NaN</td>\n",
       "      <td>NaN</td>\n",
       "    </tr>\n",
       "  </tbody>\n",
       "</table>\n",
       "</div>"
      ],
      "text/plain": [
       "  CCAA      FECHA  CASOS  PCR+  TestAc+  Hospitalizados  UCI  Fallecidos  \\\n",
       "0   AN  20/2/2020    0.0   0.0      NaN             NaN  NaN         NaN   \n",
       "1   AR  20/2/2020    NaN   0.0      NaN             NaN  NaN         NaN   \n",
       "2   AS  20/2/2020    NaN   0.0      NaN             NaN  NaN         NaN   \n",
       "3   IB  20/2/2020    NaN   1.0      NaN             NaN  NaN         NaN   \n",
       "4   CN  20/2/2020    NaN   1.0      NaN             NaN  NaN         NaN   \n",
       "\n",
       "   Recuperados  \n",
       "0          NaN  \n",
       "1          NaN  \n",
       "2          NaN  \n",
       "3          NaN  \n",
       "4          NaN  "
      ]
     },
     "metadata": {},
     "output_type": "display_data"
    },
    {
     "data": {
      "text/markdown": [
       "#### Tail"
      ],
      "text/plain": [
       "<IPython.core.display.Markdown object>"
      ]
     },
     "metadata": {},
     "output_type": "display_data"
    },
    {
     "data": {
      "text/html": [
       "<div>\n",
       "<style scoped>\n",
       "    .dataframe tbody tr th:only-of-type {\n",
       "        vertical-align: middle;\n",
       "    }\n",
       "\n",
       "    .dataframe tbody tr th {\n",
       "        vertical-align: top;\n",
       "    }\n",
       "\n",
       "    .dataframe thead th {\n",
       "        text-align: right;\n",
       "    }\n",
       "</style>\n",
       "<table border=\"1\" class=\"dataframe\">\n",
       "  <thead>\n",
       "    <tr style=\"text-align: right;\">\n",
       "      <th></th>\n",
       "      <th>CCAA</th>\n",
       "      <th>FECHA</th>\n",
       "      <th>CASOS</th>\n",
       "      <th>PCR+</th>\n",
       "      <th>TestAc+</th>\n",
       "      <th>Hospitalizados</th>\n",
       "      <th>UCI</th>\n",
       "      <th>Fallecidos</th>\n",
       "      <th>Recuperados</th>\n",
       "    </tr>\n",
       "  </thead>\n",
       "  <tbody>\n",
       "    <tr>\n",
       "      <th>1581</th>\n",
       "      <td>*** Desde el día 11/04/2020 las cifras de hosp...</td>\n",
       "      <td>NaN</td>\n",
       "      <td>NaN</td>\n",
       "      <td>NaN</td>\n",
       "      <td>NaN</td>\n",
       "      <td>NaN</td>\n",
       "      <td>NaN</td>\n",
       "      <td>NaN</td>\n",
       "      <td>NaN</td>\n",
       "    </tr>\n",
       "    <tr>\n",
       "      <th>1582</th>\n",
       "      <td>*** Desde el día 12/04/2020 las cifras de UCIs...</td>\n",
       "      <td>NaN</td>\n",
       "      <td>NaN</td>\n",
       "      <td>NaN</td>\n",
       "      <td>NaN</td>\n",
       "      <td>NaN</td>\n",
       "      <td>NaN</td>\n",
       "      <td>NaN</td>\n",
       "      <td>NaN</td>\n",
       "    </tr>\n",
       "    <tr>\n",
       "      <th>1583</th>\n",
       "      <td>**** Desde el día 26/04/2020 las cifras de Hos...</td>\n",
       "      <td>NaN</td>\n",
       "      <td>NaN</td>\n",
       "      <td>NaN</td>\n",
       "      <td>NaN</td>\n",
       "      <td>NaN</td>\n",
       "      <td>NaN</td>\n",
       "      <td>NaN</td>\n",
       "      <td>NaN</td>\n",
       "    </tr>\n",
       "    <tr>\n",
       "      <th>1584</th>\n",
       "      <td>NOTA 3:Se excluyen de la serie las notificacio...</td>\n",
       "      <td>NaN</td>\n",
       "      <td>NaN</td>\n",
       "      <td>NaN</td>\n",
       "      <td>NaN</td>\n",
       "      <td>NaN</td>\n",
       "      <td>NaN</td>\n",
       "      <td>NaN</td>\n",
       "      <td>NaN</td>\n",
       "    </tr>\n",
       "    <tr>\n",
       "      <th>1585</th>\n",
       "      <td>NOTA 4:Los datos de PCR+ de Cataluña del día 1...</td>\n",
       "      <td>NaN</td>\n",
       "      <td>NaN</td>\n",
       "      <td>NaN</td>\n",
       "      <td>NaN</td>\n",
       "      <td>NaN</td>\n",
       "      <td>NaN</td>\n",
       "      <td>NaN</td>\n",
       "      <td>NaN</td>\n",
       "    </tr>\n",
       "  </tbody>\n",
       "</table>\n",
       "</div>"
      ],
      "text/plain": [
       "                                                   CCAA FECHA  CASOS  PCR+  \\\n",
       "1581  *** Desde el día 11/04/2020 las cifras de hosp...   NaN    NaN   NaN   \n",
       "1582  *** Desde el día 12/04/2020 las cifras de UCIs...   NaN    NaN   NaN   \n",
       "1583  **** Desde el día 26/04/2020 las cifras de Hos...   NaN    NaN   NaN   \n",
       "1584  NOTA 3:Se excluyen de la serie las notificacio...   NaN    NaN   NaN   \n",
       "1585  NOTA 4:Los datos de PCR+ de Cataluña del día 1...   NaN    NaN   NaN   \n",
       "\n",
       "      TestAc+  Hospitalizados  UCI  Fallecidos  Recuperados  \n",
       "1581      NaN             NaN  NaN         NaN          NaN  \n",
       "1582      NaN             NaN  NaN         NaN          NaN  \n",
       "1583      NaN             NaN  NaN         NaN          NaN  \n",
       "1584      NaN             NaN  NaN         NaN          NaN  \n",
       "1585      NaN             NaN  NaN         NaN          NaN  "
      ]
     },
     "metadata": {},
     "output_type": "display_data"
    }
   ],
   "source": [
    "display(Markdown(\"#### Description\"))\n",
    "display(df.describe())\n",
    "display(Markdown(\"#### Head\"))\n",
    "display(df.head())\n",
    "display(Markdown(\"#### Tail\"))\n",
    "display(df.tail())"
   ]
  },
  {
   "cell_type": "code",
   "execution_count": 4,
   "metadata": {},
   "outputs": [
    {
     "data": {
      "text/plain": [
       "Index(['CCAA', 'FECHA', 'CASOS', 'PCR+', 'TestAc+', 'Hospitalizados', 'UCI',\n",
       "       'Fallecidos', 'Recuperados'],\n",
       "      dtype='object')"
      ]
     },
     "execution_count": 4,
     "metadata": {},
     "output_type": "execute_result"
    }
   ],
   "source": [
    "df.columns"
   ]
  },
  {
   "cell_type": "markdown",
   "metadata": {},
   "source": [
    "#### Dataset information\n",
    "\n",
    "* ```CCAA```: region code\n",
    "* ```FECHA```: date of the record\n",
    "* ```CASOS```: new infections detected (mainly empty)\n",
    "* ```PCR+```: referring to the ```CASOS``` means the new infections detected via a positive [PCR test](https://en.wikipedia.org/wiki/Polymerase_chain_reaction)\n",
    "* ```TestAc+```: Similar to the ```PCR+```. Quick test focused on Antibodies\n",
    "* ```Hospitalizados```: hospitalized people related with Covid-19\n",
    "* ```UCI```: hospitalized people who require Intensive Care Units\n",
    "* ```Fallecidos```: deceased people\n",
    "* ```Recuperados```: recovered people\n",
    "\n",
    "Let's have a look at their content. "
   ]
  },
  {
   "cell_type": "code",
   "execution_count": 5,
   "metadata": {},
   "outputs": [
    {
     "data": {
      "text/html": [
       "<div>\n",
       "<style scoped>\n",
       "    .dataframe tbody tr th:only-of-type {\n",
       "        vertical-align: middle;\n",
       "    }\n",
       "\n",
       "    .dataframe tbody tr th {\n",
       "        vertical-align: top;\n",
       "    }\n",
       "\n",
       "    .dataframe thead th {\n",
       "        text-align: right;\n",
       "    }\n",
       "</style>\n",
       "<table border=\"1\" class=\"dataframe\">\n",
       "  <thead>\n",
       "    <tr style=\"text-align: right;\">\n",
       "      <th></th>\n",
       "      <th>CCAA</th>\n",
       "      <th>FECHA</th>\n",
       "      <th>CASOS</th>\n",
       "      <th>PCR+</th>\n",
       "      <th>TestAc+</th>\n",
       "      <th>Hospitalizados</th>\n",
       "      <th>UCI</th>\n",
       "      <th>Fallecidos</th>\n",
       "      <th>Recuperados</th>\n",
       "    </tr>\n",
       "  </thead>\n",
       "  <tbody>\n",
       "    <tr>\n",
       "      <th>0</th>\n",
       "      <td>AN</td>\n",
       "      <td>20/2/2020</td>\n",
       "      <td>0.0</td>\n",
       "      <td>0.0</td>\n",
       "      <td>NaN</td>\n",
       "      <td>NaN</td>\n",
       "      <td>NaN</td>\n",
       "      <td>NaN</td>\n",
       "      <td>NaN</td>\n",
       "    </tr>\n",
       "    <tr>\n",
       "      <th>1</th>\n",
       "      <td>AR</td>\n",
       "      <td>20/2/2020</td>\n",
       "      <td>NaN</td>\n",
       "      <td>0.0</td>\n",
       "      <td>NaN</td>\n",
       "      <td>NaN</td>\n",
       "      <td>NaN</td>\n",
       "      <td>NaN</td>\n",
       "      <td>NaN</td>\n",
       "    </tr>\n",
       "    <tr>\n",
       "      <th>2</th>\n",
       "      <td>AS</td>\n",
       "      <td>20/2/2020</td>\n",
       "      <td>NaN</td>\n",
       "      <td>0.0</td>\n",
       "      <td>NaN</td>\n",
       "      <td>NaN</td>\n",
       "      <td>NaN</td>\n",
       "      <td>NaN</td>\n",
       "      <td>NaN</td>\n",
       "    </tr>\n",
       "    <tr>\n",
       "      <th>3</th>\n",
       "      <td>IB</td>\n",
       "      <td>20/2/2020</td>\n",
       "      <td>NaN</td>\n",
       "      <td>1.0</td>\n",
       "      <td>NaN</td>\n",
       "      <td>NaN</td>\n",
       "      <td>NaN</td>\n",
       "      <td>NaN</td>\n",
       "      <td>NaN</td>\n",
       "    </tr>\n",
       "    <tr>\n",
       "      <th>4</th>\n",
       "      <td>CN</td>\n",
       "      <td>20/2/2020</td>\n",
       "      <td>NaN</td>\n",
       "      <td>1.0</td>\n",
       "      <td>NaN</td>\n",
       "      <td>NaN</td>\n",
       "      <td>NaN</td>\n",
       "      <td>NaN</td>\n",
       "      <td>NaN</td>\n",
       "    </tr>\n",
       "  </tbody>\n",
       "</table>\n",
       "</div>"
      ],
      "text/plain": [
       "  CCAA      FECHA  CASOS  PCR+  TestAc+  Hospitalizados  UCI  Fallecidos  \\\n",
       "0   AN  20/2/2020    0.0   0.0      NaN             NaN  NaN         NaN   \n",
       "1   AR  20/2/2020    NaN   0.0      NaN             NaN  NaN         NaN   \n",
       "2   AS  20/2/2020    NaN   0.0      NaN             NaN  NaN         NaN   \n",
       "3   IB  20/2/2020    NaN   1.0      NaN             NaN  NaN         NaN   \n",
       "4   CN  20/2/2020    NaN   1.0      NaN             NaN  NaN         NaN   \n",
       "\n",
       "   Recuperados  \n",
       "0          NaN  \n",
       "1          NaN  \n",
       "2          NaN  \n",
       "3          NaN  \n",
       "4          NaN  "
      ]
     },
     "execution_count": 5,
     "metadata": {},
     "output_type": "execute_result"
    }
   ],
   "source": [
    "df.head()"
   ]
  },
  {
   "cell_type": "code",
   "execution_count": 6,
   "metadata": {},
   "outputs": [
    {
     "data": {
      "text/html": [
       "<div>\n",
       "<style scoped>\n",
       "    .dataframe tbody tr th:only-of-type {\n",
       "        vertical-align: middle;\n",
       "    }\n",
       "\n",
       "    .dataframe tbody tr th {\n",
       "        vertical-align: top;\n",
       "    }\n",
       "\n",
       "    .dataframe thead th {\n",
       "        text-align: right;\n",
       "    }\n",
       "</style>\n",
       "<table border=\"1\" class=\"dataframe\">\n",
       "  <thead>\n",
       "    <tr style=\"text-align: right;\">\n",
       "      <th></th>\n",
       "      <th>CCAA</th>\n",
       "      <th>FECHA</th>\n",
       "      <th>CASOS</th>\n",
       "      <th>PCR+</th>\n",
       "      <th>TestAc+</th>\n",
       "      <th>Hospitalizados</th>\n",
       "      <th>UCI</th>\n",
       "      <th>Fallecidos</th>\n",
       "      <th>Recuperados</th>\n",
       "    </tr>\n",
       "  </thead>\n",
       "  <tbody>\n",
       "    <tr>\n",
       "      <th>1581</th>\n",
       "      <td>*** Desde el día 11/04/2020 las cifras de hosp...</td>\n",
       "      <td>NaN</td>\n",
       "      <td>NaN</td>\n",
       "      <td>NaN</td>\n",
       "      <td>NaN</td>\n",
       "      <td>NaN</td>\n",
       "      <td>NaN</td>\n",
       "      <td>NaN</td>\n",
       "      <td>NaN</td>\n",
       "    </tr>\n",
       "    <tr>\n",
       "      <th>1582</th>\n",
       "      <td>*** Desde el día 12/04/2020 las cifras de UCIs...</td>\n",
       "      <td>NaN</td>\n",
       "      <td>NaN</td>\n",
       "      <td>NaN</td>\n",
       "      <td>NaN</td>\n",
       "      <td>NaN</td>\n",
       "      <td>NaN</td>\n",
       "      <td>NaN</td>\n",
       "      <td>NaN</td>\n",
       "    </tr>\n",
       "    <tr>\n",
       "      <th>1583</th>\n",
       "      <td>**** Desde el día 26/04/2020 las cifras de Hos...</td>\n",
       "      <td>NaN</td>\n",
       "      <td>NaN</td>\n",
       "      <td>NaN</td>\n",
       "      <td>NaN</td>\n",
       "      <td>NaN</td>\n",
       "      <td>NaN</td>\n",
       "      <td>NaN</td>\n",
       "      <td>NaN</td>\n",
       "    </tr>\n",
       "    <tr>\n",
       "      <th>1584</th>\n",
       "      <td>NOTA 3:Se excluyen de la serie las notificacio...</td>\n",
       "      <td>NaN</td>\n",
       "      <td>NaN</td>\n",
       "      <td>NaN</td>\n",
       "      <td>NaN</td>\n",
       "      <td>NaN</td>\n",
       "      <td>NaN</td>\n",
       "      <td>NaN</td>\n",
       "      <td>NaN</td>\n",
       "    </tr>\n",
       "    <tr>\n",
       "      <th>1585</th>\n",
       "      <td>NOTA 4:Los datos de PCR+ de Cataluña del día 1...</td>\n",
       "      <td>NaN</td>\n",
       "      <td>NaN</td>\n",
       "      <td>NaN</td>\n",
       "      <td>NaN</td>\n",
       "      <td>NaN</td>\n",
       "      <td>NaN</td>\n",
       "      <td>NaN</td>\n",
       "      <td>NaN</td>\n",
       "    </tr>\n",
       "  </tbody>\n",
       "</table>\n",
       "</div>"
      ],
      "text/plain": [
       "                                                   CCAA FECHA  CASOS  PCR+  \\\n",
       "1581  *** Desde el día 11/04/2020 las cifras de hosp...   NaN    NaN   NaN   \n",
       "1582  *** Desde el día 12/04/2020 las cifras de UCIs...   NaN    NaN   NaN   \n",
       "1583  **** Desde el día 26/04/2020 las cifras de Hos...   NaN    NaN   NaN   \n",
       "1584  NOTA 3:Se excluyen de la serie las notificacio...   NaN    NaN   NaN   \n",
       "1585  NOTA 4:Los datos de PCR+ de Cataluña del día 1...   NaN    NaN   NaN   \n",
       "\n",
       "      TestAc+  Hospitalizados  UCI  Fallecidos  Recuperados  \n",
       "1581      NaN             NaN  NaN         NaN          NaN  \n",
       "1582      NaN             NaN  NaN         NaN          NaN  \n",
       "1583      NaN             NaN  NaN         NaN          NaN  \n",
       "1584      NaN             NaN  NaN         NaN          NaN  \n",
       "1585      NaN             NaN  NaN         NaN          NaN  "
      ]
     },
     "execution_count": 6,
     "metadata": {},
     "output_type": "execute_result"
    }
   ],
   "source": [
    "df.tail()"
   ]
  },
  {
   "cell_type": "code",
   "execution_count": 7,
   "metadata": {},
   "outputs": [
    {
     "data": {
      "text/plain": [
       "array(['AN', 'AR', 'AS', 'IB', 'CN', 'CB', 'CM', 'CL', 'CT', 'CE', 'VC',\n",
       "       'EX', 'GA', 'MD', 'ML', 'MC', 'NC', 'PV', 'RI',\n",
       "       'NOTA 1: El objetivo de los datos que se publican en esta web es saber el número de casos acumulados a la fecha y que por tanto no se puede deducir que la diferencia entre un día y el anterior es el número de casos nuevos ya que esos casos pueden haber sido recuperados de fechas anteriores. Cualquier inferencia que se haga sobre las diferencias de un día para otro deben hacerse con precaución y son únicamente la responsabilidad del autor.',\n",
       "       'NOTA 2: Los datos de estas comunidades son datos de prevalencia (personas ingresadas a fecha de hoy). No reflejan el total de personas que han sido hospitalizadas o ingresadas en UCI\\xa0 a lo largo del periodo de notificación(CL(UCIs*)-GA(UCIS**)-CM***-MD****)',\n",
       "       '* Desde el día 17/04/2020 las cifras de UCIs de CL son casos acumulados. Previamente se refieren a personas ingresadas ese día.',\n",
       "       '**Desde el día 28/04/2020 las cifras  UCIs de GA  son casos acumulados. Previamente se refieren a personas ingresadas ese día. Se actualizará la serie cuando esté disponible.',\n",
       "       '*** Desde el día 11/04/2020 las cifras de hospitalizados de CM son casos acumulados. Previamente se refieren a personas ingresadas ese día.',\n",
       "       '*** Desde el día 12/04/2020 las cifras de UCIs de CM son casos acumulados. Previamente se refieren a personas ingresadas ese día.',\n",
       "       '**** Desde el día 26/04/2020 las cifras de Hospitalizados y UCIs de MD son casos acumulados. Previamente se refieren a personas ingresadas ese día. Se actualizará la serie cuando esté disponible',\n",
       "       'NOTA 3:Se excluyen de la serie las notificaciones de personas  con anticuerpos positivos sin síntomas en el momento de realización de la prueba en los que no se puede establecer un momento de contagio ni si han padecido o no la enfermedad.',\n",
       "       'NOTA 4:Los datos de PCR+ de Cataluña del día 10 de mayo incluyen 2791 casos acumulados pendientes de reasignar en la serie histórica.'],\n",
       "      dtype=object)"
      ]
     },
     "execution_count": 7,
     "metadata": {},
     "output_type": "execute_result"
    }
   ],
   "source": [
    "df['CCAA'].unique()"
   ]
  },
  {
   "cell_type": "markdown",
   "metadata": {},
   "source": [
    "#### Conclusions up to here\n",
    "\n",
    "There are plenty of missing information and also a lot of noise in the data. Data is not properly indexed by date. In fact, data is being updated via appending the new data (one record for each region) day by day, so the last records correspond with the more recent information. The idea is to correct this problems and reconstruct the whole time series. Let's handle this. \n",
    "\n",
    "First of all, identify the region code in order to filter. "
   ]
  },
  {
   "cell_type": "code",
   "execution_count": 8,
   "metadata": {},
   "outputs": [],
   "source": [
    "region = ['AN', 'AR', 'AS', 'IB', 'CN',\n",
    "         'CB', 'CM', 'CL', 'CT', 'CE',\n",
    "         'VC', 'EX', 'GA', 'MD', 'ML',\n",
    "         'MC', 'NC', 'PV', 'RI']\n"
   ]
  },
  {
   "cell_type": "code",
   "execution_count": 9,
   "metadata": {},
   "outputs": [],
   "source": [
    "# Filter record based on valid region\n",
    "df = df[df['CCAA'].isin(region)]"
   ]
  },
  {
   "cell_type": "code",
   "execution_count": 10,
   "metadata": {},
   "outputs": [
    {
     "data": {
      "text/html": [
       "<div>\n",
       "<style scoped>\n",
       "    .dataframe tbody tr th:only-of-type {\n",
       "        vertical-align: middle;\n",
       "    }\n",
       "\n",
       "    .dataframe tbody tr th {\n",
       "        vertical-align: top;\n",
       "    }\n",
       "\n",
       "    .dataframe thead th {\n",
       "        text-align: right;\n",
       "    }\n",
       "</style>\n",
       "<table border=\"1\" class=\"dataframe\">\n",
       "  <thead>\n",
       "    <tr style=\"text-align: right;\">\n",
       "      <th></th>\n",
       "      <th>CCAA</th>\n",
       "      <th>FECHA</th>\n",
       "      <th>CASOS</th>\n",
       "      <th>PCR+</th>\n",
       "      <th>TestAc+</th>\n",
       "      <th>Hospitalizados</th>\n",
       "      <th>UCI</th>\n",
       "      <th>Fallecidos</th>\n",
       "      <th>Recuperados</th>\n",
       "    </tr>\n",
       "  </thead>\n",
       "  <tbody>\n",
       "    <tr>\n",
       "      <th>0</th>\n",
       "      <td>AN</td>\n",
       "      <td>20/2/2020</td>\n",
       "      <td>0.0</td>\n",
       "      <td>0.0</td>\n",
       "      <td>NaN</td>\n",
       "      <td>NaN</td>\n",
       "      <td>NaN</td>\n",
       "      <td>NaN</td>\n",
       "      <td>NaN</td>\n",
       "    </tr>\n",
       "    <tr>\n",
       "      <th>1</th>\n",
       "      <td>AR</td>\n",
       "      <td>20/2/2020</td>\n",
       "      <td>NaN</td>\n",
       "      <td>0.0</td>\n",
       "      <td>NaN</td>\n",
       "      <td>NaN</td>\n",
       "      <td>NaN</td>\n",
       "      <td>NaN</td>\n",
       "      <td>NaN</td>\n",
       "    </tr>\n",
       "    <tr>\n",
       "      <th>2</th>\n",
       "      <td>AS</td>\n",
       "      <td>20/2/2020</td>\n",
       "      <td>NaN</td>\n",
       "      <td>0.0</td>\n",
       "      <td>NaN</td>\n",
       "      <td>NaN</td>\n",
       "      <td>NaN</td>\n",
       "      <td>NaN</td>\n",
       "      <td>NaN</td>\n",
       "    </tr>\n",
       "    <tr>\n",
       "      <th>3</th>\n",
       "      <td>IB</td>\n",
       "      <td>20/2/2020</td>\n",
       "      <td>NaN</td>\n",
       "      <td>1.0</td>\n",
       "      <td>NaN</td>\n",
       "      <td>NaN</td>\n",
       "      <td>NaN</td>\n",
       "      <td>NaN</td>\n",
       "      <td>NaN</td>\n",
       "    </tr>\n",
       "    <tr>\n",
       "      <th>4</th>\n",
       "      <td>CN</td>\n",
       "      <td>20/2/2020</td>\n",
       "      <td>NaN</td>\n",
       "      <td>1.0</td>\n",
       "      <td>NaN</td>\n",
       "      <td>NaN</td>\n",
       "      <td>NaN</td>\n",
       "      <td>NaN</td>\n",
       "      <td>NaN</td>\n",
       "    </tr>\n",
       "  </tbody>\n",
       "</table>\n",
       "</div>"
      ],
      "text/plain": [
       "  CCAA      FECHA  CASOS  PCR+  TestAc+  Hospitalizados  UCI  Fallecidos  \\\n",
       "0   AN  20/2/2020    0.0   0.0      NaN             NaN  NaN         NaN   \n",
       "1   AR  20/2/2020    NaN   0.0      NaN             NaN  NaN         NaN   \n",
       "2   AS  20/2/2020    NaN   0.0      NaN             NaN  NaN         NaN   \n",
       "3   IB  20/2/2020    NaN   1.0      NaN             NaN  NaN         NaN   \n",
       "4   CN  20/2/2020    NaN   1.0      NaN             NaN  NaN         NaN   \n",
       "\n",
       "   Recuperados  \n",
       "0          NaN  \n",
       "1          NaN  \n",
       "2          NaN  \n",
       "3          NaN  \n",
       "4          NaN  "
      ]
     },
     "execution_count": 10,
     "metadata": {},
     "output_type": "execute_result"
    }
   ],
   "source": [
    "df.head()"
   ]
  },
  {
   "cell_type": "markdown",
   "metadata": {},
   "source": [
    "#### Reconstruct time series\n",
    "\n",
    "In this step we're going to fix some issues in data:\n",
    "* Fill ```CASOS``` column. This could be calculated based on the difference between ```PCR+``` day by day\n",
    "* Reconstruct the time series. At the moment, the features reflect the snapshot of the day by day, but there are no features representing the increments between dates. For this pupose, the reconstruction of the time series consist on calculate those increments on new features. In this manner, the following features will reflect the variation for those data respect the day before:\n",
    "    * ```IncHospitalizados```\n",
    "    * ```IncUCI```\n",
    "    * ```IncFallecidos```\n",
    "    * ```IncRescuperados```"
   ]
  },
  {
   "cell_type": "code",
   "execution_count": 11,
   "metadata": {},
   "outputs": [],
   "source": [
    "def rebuildSeries(df, ndays):\n",
    "    \"\"\"\n",
    "    df: Pandas DataFrame:  dataframe to reconstruct\n",
    "    ndays: Integer: how many days to calculate backwards\n",
    "    return: DataFrame reconstructed with new features\n",
    "    \"\"\"\n",
    "    cols = ['FECHA', 'CCAA', 'CASOS', 'PCR+', 'TestAc+', 'Hospitalizados',\n",
    "            'UCI', 'Fallecidos', 'Recuperados', 'ActiveCases']\n",
    "    rebuilt = list()\n",
    "    for i in range(1,ndays + 1):\n",
    "        limit = -(i-1)*len(region)\n",
    "        if limit != 0:\n",
    "            today = df.iloc[-i*len(region):limit]\n",
    "        else:\n",
    "            today = df.iloc[-i*len(region):]\n",
    "        today = today.sort_values('CCAA')\n",
    "        today['FECHA'] = (datetime.now() - timedelta(days=i-1)).strftime(\"%Y-%m-%d\") \n",
    "        yesterday = df.iloc[-(i+1) *len(region):-i*len(region)].sort_values('CCAA')\n",
    "        assert today.shape == yesterday.shape, \"Shapes do not fit [{}] {} vs {}\".format(i, \n",
    "                                                                                        today.shape,\n",
    "                                                                                        yesterday.shape)\n",
    "        today['CASOS'] = (today['PCR+'].reset_index() - yesterday['PCR+'].reset_index())['PCR+'].to_numpy()\n",
    "        today['ActiveCases'] = today['PCR+'] - today['Recuperados']\n",
    "        today = today[cols]\n",
    "        \n",
    "        for item in ['Hospitalizados', 'UCI', 'Fallecidos', 'Recuperados']:\n",
    "            today['Inc' + item] = (today[item].reset_index() -\n",
    "                                   yesterday[item].reset_index())[item].to_numpy()\n",
    "        today.reset_index()\n",
    "        rebuilt.append(today)\n",
    "    rebuilt.reverse()\n",
    "    return pd.concat(rebuilt, ignore_index=True)"
   ]
  },
  {
   "cell_type": "markdown",
   "metadata": {},
   "source": [
    "#### Rebuild 60 days backwards"
   ]
  },
  {
   "cell_type": "code",
   "execution_count": 12,
   "metadata": {},
   "outputs": [],
   "source": [
    "res = rebuildSeries(df, 60)"
   ]
  },
  {
   "cell_type": "code",
   "execution_count": 13,
   "metadata": {},
   "outputs": [
    {
     "data": {
      "text/html": [
       "<div>\n",
       "<style scoped>\n",
       "    .dataframe tbody tr th:only-of-type {\n",
       "        vertical-align: middle;\n",
       "    }\n",
       "\n",
       "    .dataframe tbody tr th {\n",
       "        vertical-align: top;\n",
       "    }\n",
       "\n",
       "    .dataframe thead th {\n",
       "        text-align: right;\n",
       "    }\n",
       "</style>\n",
       "<table border=\"1\" class=\"dataframe\">\n",
       "  <thead>\n",
       "    <tr style=\"text-align: right;\">\n",
       "      <th></th>\n",
       "      <th>FECHA</th>\n",
       "      <th>CCAA</th>\n",
       "      <th>CASOS</th>\n",
       "      <th>PCR+</th>\n",
       "      <th>TestAc+</th>\n",
       "      <th>Hospitalizados</th>\n",
       "      <th>UCI</th>\n",
       "      <th>Fallecidos</th>\n",
       "      <th>Recuperados</th>\n",
       "      <th>ActiveCases</th>\n",
       "      <th>IncHospitalizados</th>\n",
       "      <th>IncUCI</th>\n",
       "      <th>IncFallecidos</th>\n",
       "      <th>IncRecuperados</th>\n",
       "    </tr>\n",
       "  </thead>\n",
       "  <tbody>\n",
       "    <tr>\n",
       "      <th>1120</th>\n",
       "      <td>2020-05-12</td>\n",
       "      <td>VC</td>\n",
       "      <td>11.0</td>\n",
       "      <td>10740.0</td>\n",
       "      <td>3197.0</td>\n",
       "      <td>5360.0</td>\n",
       "      <td>717.0</td>\n",
       "      <td>1336.0</td>\n",
       "      <td>9089.0</td>\n",
       "      <td>1651.0</td>\n",
       "      <td>5.0</td>\n",
       "      <td>1.0</td>\n",
       "      <td>6.0</td>\n",
       "      <td>144.0</td>\n",
       "    </tr>\n",
       "    <tr>\n",
       "      <th>1121</th>\n",
       "      <td>2020-05-13</td>\n",
       "      <td>AN</td>\n",
       "      <td>24.0</td>\n",
       "      <td>12317.0</td>\n",
       "      <td>3312.0</td>\n",
       "      <td>6114.0</td>\n",
       "      <td>750.0</td>\n",
       "      <td>1332.0</td>\n",
       "      <td>9481.0</td>\n",
       "      <td>2836.0</td>\n",
       "      <td>13.0</td>\n",
       "      <td>5.0</td>\n",
       "      <td>6.0</td>\n",
       "      <td>184.0</td>\n",
       "    </tr>\n",
       "    <tr>\n",
       "      <th>1122</th>\n",
       "      <td>2020-05-13</td>\n",
       "      <td>AR</td>\n",
       "      <td>13.0</td>\n",
       "      <td>5372.0</td>\n",
       "      <td>1484.0</td>\n",
       "      <td>2614.0</td>\n",
       "      <td>265.0</td>\n",
       "      <td>829.0</td>\n",
       "      <td>3312.0</td>\n",
       "      <td>2060.0</td>\n",
       "      <td>8.0</td>\n",
       "      <td>1.0</td>\n",
       "      <td>1.0</td>\n",
       "      <td>126.0</td>\n",
       "    </tr>\n",
       "    <tr>\n",
       "      <th>1123</th>\n",
       "      <td>2020-05-13</td>\n",
       "      <td>AS</td>\n",
       "      <td>5.0</td>\n",
       "      <td>2356.0</td>\n",
       "      <td>896.0</td>\n",
       "      <td>2239.0</td>\n",
       "      <td>151.0</td>\n",
       "      <td>307.0</td>\n",
       "      <td>1038.0</td>\n",
       "      <td>1318.0</td>\n",
       "      <td>27.0</td>\n",
       "      <td>1.0</td>\n",
       "      <td>3.0</td>\n",
       "      <td>7.0</td>\n",
       "    </tr>\n",
       "    <tr>\n",
       "      <th>1124</th>\n",
       "      <td>2020-05-13</td>\n",
       "      <td>CB</td>\n",
       "      <td>10.0</td>\n",
       "      <td>2256.0</td>\n",
       "      <td>477.0</td>\n",
       "      <td>1029.0</td>\n",
       "      <td>79.0</td>\n",
       "      <td>205.0</td>\n",
       "      <td>2054.0</td>\n",
       "      <td>202.0</td>\n",
       "      <td>2.0</td>\n",
       "      <td>0.0</td>\n",
       "      <td>2.0</td>\n",
       "      <td>73.0</td>\n",
       "    </tr>\n",
       "    <tr>\n",
       "      <th>1125</th>\n",
       "      <td>2020-05-13</td>\n",
       "      <td>CE</td>\n",
       "      <td>0.0</td>\n",
       "      <td>114.0</td>\n",
       "      <td>59.0</td>\n",
       "      <td>11.0</td>\n",
       "      <td>4.0</td>\n",
       "      <td>4.0</td>\n",
       "      <td>156.0</td>\n",
       "      <td>-42.0</td>\n",
       "      <td>0.0</td>\n",
       "      <td>0.0</td>\n",
       "      <td>0.0</td>\n",
       "      <td>2.0</td>\n",
       "    </tr>\n",
       "    <tr>\n",
       "      <th>1126</th>\n",
       "      <td>2020-05-13</td>\n",
       "      <td>CL</td>\n",
       "      <td>57.0</td>\n",
       "      <td>18105.0</td>\n",
       "      <td>6157.0</td>\n",
       "      <td>8517.0</td>\n",
       "      <td>547.0</td>\n",
       "      <td>1919.0</td>\n",
       "      <td>7544.0</td>\n",
       "      <td>10561.0</td>\n",
       "      <td>24.0</td>\n",
       "      <td>0.0</td>\n",
       "      <td>5.0</td>\n",
       "      <td>72.0</td>\n",
       "    </tr>\n",
       "    <tr>\n",
       "      <th>1127</th>\n",
       "      <td>2020-05-13</td>\n",
       "      <td>CM</td>\n",
       "      <td>22.0</td>\n",
       "      <td>16453.0</td>\n",
       "      <td>7732.0</td>\n",
       "      <td>8963.0</td>\n",
       "      <td>632.0</td>\n",
       "      <td>2835.0</td>\n",
       "      <td>6205.0</td>\n",
       "      <td>10248.0</td>\n",
       "      <td>23.0</td>\n",
       "      <td>3.0</td>\n",
       "      <td>24.0</td>\n",
       "      <td>24.0</td>\n",
       "    </tr>\n",
       "    <tr>\n",
       "      <th>1128</th>\n",
       "      <td>2020-05-13</td>\n",
       "      <td>CN</td>\n",
       "      <td>3.0</td>\n",
       "      <td>2271.0</td>\n",
       "      <td>0.0</td>\n",
       "      <td>937.0</td>\n",
       "      <td>178.0</td>\n",
       "      <td>151.0</td>\n",
       "      <td>1475.0</td>\n",
       "      <td>796.0</td>\n",
       "      <td>0.0</td>\n",
       "      <td>0.0</td>\n",
       "      <td>0.0</td>\n",
       "      <td>19.0</td>\n",
       "    </tr>\n",
       "    <tr>\n",
       "      <th>1129</th>\n",
       "      <td>2020-05-13</td>\n",
       "      <td>CT</td>\n",
       "      <td>136.0</td>\n",
       "      <td>55280.0</td>\n",
       "      <td>1643.0</td>\n",
       "      <td>29267.0</td>\n",
       "      <td>3034.0</td>\n",
       "      <td>5692.0</td>\n",
       "      <td>25326.0</td>\n",
       "      <td>29954.0</td>\n",
       "      <td>129.0</td>\n",
       "      <td>39.0</td>\n",
       "      <td>71.0</td>\n",
       "      <td>360.0</td>\n",
       "    </tr>\n",
       "    <tr>\n",
       "      <th>1130</th>\n",
       "      <td>2020-05-13</td>\n",
       "      <td>EX</td>\n",
       "      <td>0.0</td>\n",
       "      <td>2919.0</td>\n",
       "      <td>1001.0</td>\n",
       "      <td>1754.0</td>\n",
       "      <td>109.0</td>\n",
       "      <td>489.0</td>\n",
       "      <td>2456.0</td>\n",
       "      <td>463.0</td>\n",
       "      <td>17.0</td>\n",
       "      <td>0.0</td>\n",
       "      <td>2.0</td>\n",
       "      <td>34.0</td>\n",
       "    </tr>\n",
       "    <tr>\n",
       "      <th>1131</th>\n",
       "      <td>2020-05-13</td>\n",
       "      <td>GA</td>\n",
       "      <td>10.0</td>\n",
       "      <td>9301.0</td>\n",
       "      <td>1481.0</td>\n",
       "      <td>2905.0</td>\n",
       "      <td>327.0</td>\n",
       "      <td>597.0</td>\n",
       "      <td>7996.0</td>\n",
       "      <td>1305.0</td>\n",
       "      <td>0.0</td>\n",
       "      <td>1.0</td>\n",
       "      <td>2.0</td>\n",
       "      <td>176.0</td>\n",
       "    </tr>\n",
       "    <tr>\n",
       "      <th>1132</th>\n",
       "      <td>2020-05-13</td>\n",
       "      <td>IB</td>\n",
       "      <td>4.0</td>\n",
       "      <td>1957.0</td>\n",
       "      <td>106.0</td>\n",
       "      <td>1132.0</td>\n",
       "      <td>172.0</td>\n",
       "      <td>215.0</td>\n",
       "      <td>1465.0</td>\n",
       "      <td>492.0</td>\n",
       "      <td>5.0</td>\n",
       "      <td>2.0</td>\n",
       "      <td>5.0</td>\n",
       "      <td>42.0</td>\n",
       "    </tr>\n",
       "    <tr>\n",
       "      <th>1133</th>\n",
       "      <td>2020-05-13</td>\n",
       "      <td>MC</td>\n",
       "      <td>8.0</td>\n",
       "      <td>1525.0</td>\n",
       "      <td>873.0</td>\n",
       "      <td>666.0</td>\n",
       "      <td>112.0</td>\n",
       "      <td>142.0</td>\n",
       "      <td>1861.0</td>\n",
       "      <td>-336.0</td>\n",
       "      <td>1.0</td>\n",
       "      <td>0.0</td>\n",
       "      <td>3.0</td>\n",
       "      <td>42.0</td>\n",
       "    </tr>\n",
       "    <tr>\n",
       "      <th>1134</th>\n",
       "      <td>2020-05-13</td>\n",
       "      <td>MD</td>\n",
       "      <td>75.0</td>\n",
       "      <td>65269.0</td>\n",
       "      <td>4958.0</td>\n",
       "      <td>41856.0</td>\n",
       "      <td>3555.0</td>\n",
       "      <td>8760.0</td>\n",
       "      <td>39984.0</td>\n",
       "      <td>25285.0</td>\n",
       "      <td>121.0</td>\n",
       "      <td>12.0</td>\n",
       "      <td>40.0</td>\n",
       "      <td>233.0</td>\n",
       "    </tr>\n",
       "    <tr>\n",
       "      <th>1135</th>\n",
       "      <td>2020-05-13</td>\n",
       "      <td>ML</td>\n",
       "      <td>0.0</td>\n",
       "      <td>119.0</td>\n",
       "      <td>13.0</td>\n",
       "      <td>44.0</td>\n",
       "      <td>3.0</td>\n",
       "      <td>2.0</td>\n",
       "      <td>115.0</td>\n",
       "      <td>4.0</td>\n",
       "      <td>0.0</td>\n",
       "      <td>0.0</td>\n",
       "      <td>0.0</td>\n",
       "      <td>0.0</td>\n",
       "    </tr>\n",
       "    <tr>\n",
       "      <th>1136</th>\n",
       "      <td>2020-05-13</td>\n",
       "      <td>NC</td>\n",
       "      <td>13.0</td>\n",
       "      <td>5094.0</td>\n",
       "      <td>2658.0</td>\n",
       "      <td>2042.0</td>\n",
       "      <td>135.0</td>\n",
       "      <td>494.0</td>\n",
       "      <td>3297.0</td>\n",
       "      <td>1797.0</td>\n",
       "      <td>3.0</td>\n",
       "      <td>0.0</td>\n",
       "      <td>1.0</td>\n",
       "      <td>142.0</td>\n",
       "    </tr>\n",
       "    <tr>\n",
       "      <th>1137</th>\n",
       "      <td>2020-05-13</td>\n",
       "      <td>PV</td>\n",
       "      <td>38.0</td>\n",
       "      <td>13214.0</td>\n",
       "      <td>4881.0</td>\n",
       "      <td>6955.0</td>\n",
       "      <td>575.0</td>\n",
       "      <td>1442.0</td>\n",
       "      <td>14986.0</td>\n",
       "      <td>-1772.0</td>\n",
       "      <td>26.0</td>\n",
       "      <td>1.0</td>\n",
       "      <td>13.0</td>\n",
       "      <td>73.0</td>\n",
       "    </tr>\n",
       "    <tr>\n",
       "      <th>1138</th>\n",
       "      <td>2020-05-13</td>\n",
       "      <td>RI</td>\n",
       "      <td>1.0</td>\n",
       "      <td>4009.0</td>\n",
       "      <td>1388.0</td>\n",
       "      <td>1481.0</td>\n",
       "      <td>91.0</td>\n",
       "      <td>348.0</td>\n",
       "      <td>2804.0</td>\n",
       "      <td>1205.0</td>\n",
       "      <td>3.0</td>\n",
       "      <td>0.0</td>\n",
       "      <td>1.0</td>\n",
       "      <td>55.0</td>\n",
       "    </tr>\n",
       "    <tr>\n",
       "      <th>1139</th>\n",
       "      <td>2020-05-13</td>\n",
       "      <td>VC</td>\n",
       "      <td>20.0</td>\n",
       "      <td>10760.0</td>\n",
       "      <td>3285.0</td>\n",
       "      <td>5370.0</td>\n",
       "      <td>717.0</td>\n",
       "      <td>1341.0</td>\n",
       "      <td>9268.0</td>\n",
       "      <td>1492.0</td>\n",
       "      <td>10.0</td>\n",
       "      <td>0.0</td>\n",
       "      <td>5.0</td>\n",
       "      <td>179.0</td>\n",
       "    </tr>\n",
       "  </tbody>\n",
       "</table>\n",
       "</div>"
      ],
      "text/plain": [
       "           FECHA CCAA  CASOS     PCR+  TestAc+  Hospitalizados     UCI  \\\n",
       "1120  2020-05-12   VC   11.0  10740.0   3197.0          5360.0   717.0   \n",
       "1121  2020-05-13   AN   24.0  12317.0   3312.0          6114.0   750.0   \n",
       "1122  2020-05-13   AR   13.0   5372.0   1484.0          2614.0   265.0   \n",
       "1123  2020-05-13   AS    5.0   2356.0    896.0          2239.0   151.0   \n",
       "1124  2020-05-13   CB   10.0   2256.0    477.0          1029.0    79.0   \n",
       "1125  2020-05-13   CE    0.0    114.0     59.0            11.0     4.0   \n",
       "1126  2020-05-13   CL   57.0  18105.0   6157.0          8517.0   547.0   \n",
       "1127  2020-05-13   CM   22.0  16453.0   7732.0          8963.0   632.0   \n",
       "1128  2020-05-13   CN    3.0   2271.0      0.0           937.0   178.0   \n",
       "1129  2020-05-13   CT  136.0  55280.0   1643.0         29267.0  3034.0   \n",
       "1130  2020-05-13   EX    0.0   2919.0   1001.0          1754.0   109.0   \n",
       "1131  2020-05-13   GA   10.0   9301.0   1481.0          2905.0   327.0   \n",
       "1132  2020-05-13   IB    4.0   1957.0    106.0          1132.0   172.0   \n",
       "1133  2020-05-13   MC    8.0   1525.0    873.0           666.0   112.0   \n",
       "1134  2020-05-13   MD   75.0  65269.0   4958.0         41856.0  3555.0   \n",
       "1135  2020-05-13   ML    0.0    119.0     13.0            44.0     3.0   \n",
       "1136  2020-05-13   NC   13.0   5094.0   2658.0          2042.0   135.0   \n",
       "1137  2020-05-13   PV   38.0  13214.0   4881.0          6955.0   575.0   \n",
       "1138  2020-05-13   RI    1.0   4009.0   1388.0          1481.0    91.0   \n",
       "1139  2020-05-13   VC   20.0  10760.0   3285.0          5370.0   717.0   \n",
       "\n",
       "      Fallecidos  Recuperados  ActiveCases  IncHospitalizados  IncUCI  \\\n",
       "1120      1336.0       9089.0       1651.0                5.0     1.0   \n",
       "1121      1332.0       9481.0       2836.0               13.0     5.0   \n",
       "1122       829.0       3312.0       2060.0                8.0     1.0   \n",
       "1123       307.0       1038.0       1318.0               27.0     1.0   \n",
       "1124       205.0       2054.0        202.0                2.0     0.0   \n",
       "1125         4.0        156.0        -42.0                0.0     0.0   \n",
       "1126      1919.0       7544.0      10561.0               24.0     0.0   \n",
       "1127      2835.0       6205.0      10248.0               23.0     3.0   \n",
       "1128       151.0       1475.0        796.0                0.0     0.0   \n",
       "1129      5692.0      25326.0      29954.0              129.0    39.0   \n",
       "1130       489.0       2456.0        463.0               17.0     0.0   \n",
       "1131       597.0       7996.0       1305.0                0.0     1.0   \n",
       "1132       215.0       1465.0        492.0                5.0     2.0   \n",
       "1133       142.0       1861.0       -336.0                1.0     0.0   \n",
       "1134      8760.0      39984.0      25285.0              121.0    12.0   \n",
       "1135         2.0        115.0          4.0                0.0     0.0   \n",
       "1136       494.0       3297.0       1797.0                3.0     0.0   \n",
       "1137      1442.0      14986.0      -1772.0               26.0     1.0   \n",
       "1138       348.0       2804.0       1205.0                3.0     0.0   \n",
       "1139      1341.0       9268.0       1492.0               10.0     0.0   \n",
       "\n",
       "      IncFallecidos  IncRecuperados  \n",
       "1120            6.0           144.0  \n",
       "1121            6.0           184.0  \n",
       "1122            1.0           126.0  \n",
       "1123            3.0             7.0  \n",
       "1124            2.0            73.0  \n",
       "1125            0.0             2.0  \n",
       "1126            5.0            72.0  \n",
       "1127           24.0            24.0  \n",
       "1128            0.0            19.0  \n",
       "1129           71.0           360.0  \n",
       "1130            2.0            34.0  \n",
       "1131            2.0           176.0  \n",
       "1132            5.0            42.0  \n",
       "1133            3.0            42.0  \n",
       "1134           40.0           233.0  \n",
       "1135            0.0             0.0  \n",
       "1136            1.0           142.0  \n",
       "1137           13.0            73.0  \n",
       "1138            1.0            55.0  \n",
       "1139            5.0           179.0  "
      ]
     },
     "execution_count": 13,
     "metadata": {},
     "output_type": "execute_result"
    }
   ],
   "source": [
    "res.tail(20)"
   ]
  },
  {
   "cell_type": "code",
   "execution_count": 14,
   "metadata": {},
   "outputs": [
    {
     "data": {
      "text/html": [
       "<div>\n",
       "<style scoped>\n",
       "    .dataframe tbody tr th:only-of-type {\n",
       "        vertical-align: middle;\n",
       "    }\n",
       "\n",
       "    .dataframe tbody tr th {\n",
       "        vertical-align: top;\n",
       "    }\n",
       "\n",
       "    .dataframe thead th {\n",
       "        text-align: right;\n",
       "    }\n",
       "</style>\n",
       "<table border=\"1\" class=\"dataframe\">\n",
       "  <thead>\n",
       "    <tr style=\"text-align: right;\">\n",
       "      <th></th>\n",
       "      <th>FECHA</th>\n",
       "      <th>CCAA</th>\n",
       "      <th>CASOS</th>\n",
       "      <th>PCR+</th>\n",
       "      <th>TestAc+</th>\n",
       "      <th>Hospitalizados</th>\n",
       "      <th>UCI</th>\n",
       "      <th>Fallecidos</th>\n",
       "      <th>Recuperados</th>\n",
       "      <th>ActiveCases</th>\n",
       "      <th>IncHospitalizados</th>\n",
       "      <th>IncUCI</th>\n",
       "      <th>IncFallecidos</th>\n",
       "      <th>IncRecuperados</th>\n",
       "    </tr>\n",
       "  </thead>\n",
       "  <tbody>\n",
       "    <tr>\n",
       "      <th>1051</th>\n",
       "      <td>2020-05-09</td>\n",
       "      <td>CM</td>\n",
       "      <td>41.0</td>\n",
       "      <td>16278.0</td>\n",
       "      <td>7015.0</td>\n",
       "      <td>8867.0</td>\n",
       "      <td>621.0</td>\n",
       "      <td>2738.0</td>\n",
       "      <td>6062.0</td>\n",
       "      <td>10216.0</td>\n",
       "      <td>39.0</td>\n",
       "      <td>4.0</td>\n",
       "      <td>25.0</td>\n",
       "      <td>81.0</td>\n",
       "    </tr>\n",
       "    <tr>\n",
       "      <th>1070</th>\n",
       "      <td>2020-05-10</td>\n",
       "      <td>CM</td>\n",
       "      <td>65.0</td>\n",
       "      <td>16343.0</td>\n",
       "      <td>7319.0</td>\n",
       "      <td>8895.0</td>\n",
       "      <td>623.0</td>\n",
       "      <td>2759.0</td>\n",
       "      <td>6129.0</td>\n",
       "      <td>10214.0</td>\n",
       "      <td>28.0</td>\n",
       "      <td>2.0</td>\n",
       "      <td>21.0</td>\n",
       "      <td>67.0</td>\n",
       "    </tr>\n",
       "    <tr>\n",
       "      <th>1089</th>\n",
       "      <td>2020-05-11</td>\n",
       "      <td>CM</td>\n",
       "      <td>44.0</td>\n",
       "      <td>16387.0</td>\n",
       "      <td>7482.0</td>\n",
       "      <td>8918.0</td>\n",
       "      <td>624.0</td>\n",
       "      <td>2786.0</td>\n",
       "      <td>6172.0</td>\n",
       "      <td>10215.0</td>\n",
       "      <td>23.0</td>\n",
       "      <td>1.0</td>\n",
       "      <td>27.0</td>\n",
       "      <td>43.0</td>\n",
       "    </tr>\n",
       "    <tr>\n",
       "      <th>1108</th>\n",
       "      <td>2020-05-12</td>\n",
       "      <td>CM</td>\n",
       "      <td>44.0</td>\n",
       "      <td>16431.0</td>\n",
       "      <td>7620.0</td>\n",
       "      <td>8940.0</td>\n",
       "      <td>629.0</td>\n",
       "      <td>2811.0</td>\n",
       "      <td>6181.0</td>\n",
       "      <td>10250.0</td>\n",
       "      <td>22.0</td>\n",
       "      <td>5.0</td>\n",
       "      <td>25.0</td>\n",
       "      <td>9.0</td>\n",
       "    </tr>\n",
       "    <tr>\n",
       "      <th>1127</th>\n",
       "      <td>2020-05-13</td>\n",
       "      <td>CM</td>\n",
       "      <td>22.0</td>\n",
       "      <td>16453.0</td>\n",
       "      <td>7732.0</td>\n",
       "      <td>8963.0</td>\n",
       "      <td>632.0</td>\n",
       "      <td>2835.0</td>\n",
       "      <td>6205.0</td>\n",
       "      <td>10248.0</td>\n",
       "      <td>23.0</td>\n",
       "      <td>3.0</td>\n",
       "      <td>24.0</td>\n",
       "      <td>24.0</td>\n",
       "    </tr>\n",
       "  </tbody>\n",
       "</table>\n",
       "</div>"
      ],
      "text/plain": [
       "           FECHA CCAA  CASOS     PCR+  TestAc+  Hospitalizados    UCI  \\\n",
       "1051  2020-05-09   CM   41.0  16278.0   7015.0          8867.0  621.0   \n",
       "1070  2020-05-10   CM   65.0  16343.0   7319.0          8895.0  623.0   \n",
       "1089  2020-05-11   CM   44.0  16387.0   7482.0          8918.0  624.0   \n",
       "1108  2020-05-12   CM   44.0  16431.0   7620.0          8940.0  629.0   \n",
       "1127  2020-05-13   CM   22.0  16453.0   7732.0          8963.0  632.0   \n",
       "\n",
       "      Fallecidos  Recuperados  ActiveCases  IncHospitalizados  IncUCI  \\\n",
       "1051      2738.0       6062.0      10216.0               39.0     4.0   \n",
       "1070      2759.0       6129.0      10214.0               28.0     2.0   \n",
       "1089      2786.0       6172.0      10215.0               23.0     1.0   \n",
       "1108      2811.0       6181.0      10250.0               22.0     5.0   \n",
       "1127      2835.0       6205.0      10248.0               23.0     3.0   \n",
       "\n",
       "      IncFallecidos  IncRecuperados  \n",
       "1051           25.0            81.0  \n",
       "1070           21.0            67.0  \n",
       "1089           27.0            43.0  \n",
       "1108           25.0             9.0  \n",
       "1127           24.0            24.0  "
      ]
     },
     "execution_count": 14,
     "metadata": {},
     "output_type": "execute_result"
    }
   ],
   "source": [
    "res[res['CCAA']=='CM'].tail()"
   ]
  },
  {
   "cell_type": "markdown",
   "metadata": {},
   "source": [
    "### 1.2. Functions to explore data\n",
    "\n",
    "Now we have our data well formatted, is time to explore. For this purpose, several functions are created to easy filter and plot the DataFrame. Interactive plots coming soon :D "
   ]
  },
  {
   "cell_type": "code",
   "execution_count": 15,
   "metadata": {},
   "outputs": [],
   "source": [
    "def displayInfo(df, location=None, date=None, columns=None):\n",
    "    \"\"\"\n",
    "    location: string: region code\n",
    "    date: string: date to query format YYYY-MM-DD\n",
    "    return: dataframe display\n",
    "    \"\"\"\n",
    "    if date == 'today':\n",
    "        date = datetime.now().strftime(\"%Y-%m-%d\") \n",
    "    elif date != None:\n",
    "        df = df[df['FECHA']== date]\n",
    "    if location:\n",
    "        df = df[df['CCAA']==location]\n",
    "    else:\n",
    "        df = df.groupby(['FECHA']).sum().reset_index()\n",
    "    if columns: \n",
    "        df = df[columns]\n",
    "    display(Markdown(\"#### Active cases\"))\n",
    "    display(int(df['PCR+'].iloc[0] - df['Recuperados'].iloc[0]))\n",
    "    display(df)    \n",
    "    \n",
    "def showStats(df, location=None, from_date='2020-03-01', to_date=None, feature='IncFallecidos', aggregate=False):\n",
    "    \"\"\"\n",
    "    df: Pandas DataFrame\n",
    "    location: string: region code\n",
    "    from_date: string: date to start the time window query. Format YYYY-MM-DD\n",
    "    to_date: string: end of the time window query. Format YYYY-MM-DD\n",
    "    feature: string: feature to plot\n",
    "    aggregate: Boolean: if no location provided, aggregation is available\n",
    "    return: None (plot info)\n",
    "    \"\"\"\n",
    "    if location:\n",
    "        print(\"Warning: aggregation not available\")\n",
    "    if location:\n",
    "        df = df[df.CCAA==location]\n",
    "\n",
    "    df = df[df.FECHA >= from_date]\n",
    "    \n",
    "    if to_date:\n",
    "        df = df[df.FECHA >= to_date]\n",
    "\n",
    "    dates = list(df.FECHA.unique())\n",
    "    dates.sort(reverse=False)\n",
    "    \n",
    "    pal = sns.cubehelix_palette(len(df))\n",
    "    rank = df[feature].argsort().argsort()   # http://stackoverflow.com/a/6266510/1628638\n",
    "    if not location and aggregate:\n",
    "        df = df.groupby(['FECHA']).sum().reset_index()\n",
    "        \n",
    "    fig, ax = plt.subplots(1,1, figsize=(16,10))\n",
    "    sns.barplot(data=df,\n",
    "                x='FECHA',\n",
    "                y=feature,\n",
    "                label=feature,\n",
    "                palette=np.array(pal[::1])[rank],\n",
    "                color='lightblue',\n",
    "#                hue='CCAA',\n",
    "                order=dates,\n",
    "                ax=ax)\n",
    "\n",
    "    plt.xticks(rotation=90)\n",
    "    plt.title(\"Evolution {} since {} of {}\".format(location or \"\", from_date, feature, from_date))\n",
    "    plt.legend()\n",
    "    plt.savefig(\"images/{}_{}.png\".format(location or \"\", feature).lower())\n",
    "    plt.show()"
   ]
  },
  {
   "cell_type": "markdown",
   "metadata": {},
   "source": [
    "### Snipet for current situation\n",
    "\n",
    "Use this cell in order to know from the official data ISCIII the evolution. \n",
    "\n",
    "* ```current_day```: controls actual day\n",
    "* ```loc```: specify region or ```None```. Available regions are: \n",
    "```\n",
    "'AN', 'AR', 'AS', 'IB', 'CN',\n",
    "'CB', 'CM', 'CL', 'CT', 'CE',\n",
    "'VC', 'EX', 'GA', 'MD', 'ML',\n",
    "'MC', 'NC', 'PV', 'RI'``` "
   ]
  },
  {
   "cell_type": "code",
   "execution_count": 16,
   "metadata": {},
   "outputs": [],
   "source": [
    "def checkSituation(loc=None, aggregation=False):\n",
    "    # Incremental features\n",
    "    incs = ['FECHA', 'CASOS', 'IncFallecidos', 'IncHospitalizados', 'IncUCI', 'IncRecuperados', 'ActiveCases']\n",
    "    # Absolute features\n",
    "    abss = ['PCR+', 'Hospitalizados', 'Fallecidos', 'UCI', 'Recuperados']\n",
    "    current_day = datetime.now().strftime(\"%Y-%m-%d\")\n",
    "    display(Markdown(\"#### TODAY'S DATA: {} \".format(current_day) + (loc if loc else \"\")))\n",
    "    displayInfo(res, location=loc, date=current_day, columns=incs + abss)\n",
    "    display(Markdown(\"##### Evolution of cases: {} \".format(current_day) + (loc if loc else \"\")))\n",
    "    showStats(res, location=loc, feature='CASOS', aggregate=aggregation)\n",
    "    display(Markdown(\"##### Evolution of deaths: {} \".format(current_day) + (loc if loc else \"\")))\n",
    "    showStats(res, location=loc, feature='IncFallecidos', aggregate=aggregation)\n",
    "    display(Markdown(\"##### Evolution of ActiveCases: {} \".format(current_day) + (loc if loc else \"\")))\n",
    "    showStats(res, location=loc, feature='ActiveCases', aggregate=aggregation)"
   ]
  },
  {
   "cell_type": "markdown",
   "metadata": {},
   "source": [
    "### Checking national situation"
   ]
  },
  {
   "cell_type": "code",
   "execution_count": 17,
   "metadata": {
    "scrolled": false
   },
   "outputs": [
    {
     "data": {
      "text/markdown": [
       "#### TODAY'S DATA: 2020-05-13 "
      ],
      "text/plain": [
       "<IPython.core.display.Markdown object>"
      ]
     },
     "metadata": {},
     "output_type": "display_data"
    },
    {
     "data": {
      "text/markdown": [
       "#### Active cases"
      ],
      "text/plain": [
       "<IPython.core.display.Markdown object>"
      ]
     },
     "metadata": {},
     "output_type": "display_data"
    },
    {
     "data": {
      "text/plain": [
       "87868"
      ]
     },
     "metadata": {},
     "output_type": "display_data"
    },
    {
     "data": {
      "text/html": [
       "<div>\n",
       "<style scoped>\n",
       "    .dataframe tbody tr th:only-of-type {\n",
       "        vertical-align: middle;\n",
       "    }\n",
       "\n",
       "    .dataframe tbody tr th {\n",
       "        vertical-align: top;\n",
       "    }\n",
       "\n",
       "    .dataframe thead th {\n",
       "        text-align: right;\n",
       "    }\n",
       "</style>\n",
       "<table border=\"1\" class=\"dataframe\">\n",
       "  <thead>\n",
       "    <tr style=\"text-align: right;\">\n",
       "      <th></th>\n",
       "      <th>FECHA</th>\n",
       "      <th>CASOS</th>\n",
       "      <th>IncFallecidos</th>\n",
       "      <th>IncHospitalizados</th>\n",
       "      <th>IncUCI</th>\n",
       "      <th>IncRecuperados</th>\n",
       "      <th>ActiveCases</th>\n",
       "      <th>PCR+</th>\n",
       "      <th>Hospitalizados</th>\n",
       "      <th>Fallecidos</th>\n",
       "      <th>UCI</th>\n",
       "      <th>Recuperados</th>\n",
       "    </tr>\n",
       "  </thead>\n",
       "  <tbody>\n",
       "    <tr>\n",
       "      <th>0</th>\n",
       "      <td>2020-05-13</td>\n",
       "      <td>439.0</td>\n",
       "      <td>184.0</td>\n",
       "      <td>412.0</td>\n",
       "      <td>65.0</td>\n",
       "      <td>1843.0</td>\n",
       "      <td>87868.0</td>\n",
       "      <td>228691.0</td>\n",
       "      <td>123896.0</td>\n",
       "      <td>27104.0</td>\n",
       "      <td>11436.0</td>\n",
       "      <td>140823.0</td>\n",
       "    </tr>\n",
       "  </tbody>\n",
       "</table>\n",
       "</div>"
      ],
      "text/plain": [
       "        FECHA  CASOS  IncFallecidos  IncHospitalizados  IncUCI  \\\n",
       "0  2020-05-13  439.0          184.0              412.0    65.0   \n",
       "\n",
       "   IncRecuperados  ActiveCases      PCR+  Hospitalizados  Fallecidos      UCI  \\\n",
       "0          1843.0      87868.0  228691.0        123896.0     27104.0  11436.0   \n",
       "\n",
       "   Recuperados  \n",
       "0     140823.0  "
      ]
     },
     "metadata": {},
     "output_type": "display_data"
    },
    {
     "data": {
      "text/markdown": [
       "##### Evolution of cases: 2020-05-13 "
      ],
      "text/plain": [
       "<IPython.core.display.Markdown object>"
      ]
     },
     "metadata": {},
     "output_type": "display_data"
    },
    {
     "data": {
      "image/png": "[encoded data removed]",
      "text/plain": [
       "<Figure size 1152x720 with 1 Axes>"
      ]
     },
     "metadata": {
      "needs_background": "light"
     },
     "output_type": "display_data"
    },
    {
     "data": {
      "text/markdown": [
       "##### Evolution of deaths: 2020-05-13 "
      ],
      "text/plain": [
       "<IPython.core.display.Markdown object>"
      ]
     },
     "metadata": {},
     "output_type": "display_data"
    },
    {
     "data": {
      "image/png": "[encoded data removed]",
      "text/plain": [
       "<Figure size 1152x720 with 1 Axes>"
      ]
     },
     "metadata": {
      "needs_background": "light"
     },
     "output_type": "display_data"
    },
    {
     "data": {
      "text/markdown": [
       "##### Evolution of ActiveCases: 2020-05-13 "
      ],
      "text/plain": [
       "<IPython.core.display.Markdown object>"
      ]
     },
     "metadata": {},
     "output_type": "display_data"
    },
    {
     "data": {
      "image/png": "[encoded data removed]",
      "text/plain": [
       "<Figure size 1152x720 with 1 Axes>"
      ]
     },
     "metadata": {
      "needs_background": "light"
     },
     "output_type": "display_data"
    }
   ],
   "source": [
    "checkSituation(loc=None, aggregation=True)"
   ]
  },
  {
   "cell_type": "markdown",
   "metadata": {},
   "source": [
    "### Checking Madrid situation"
   ]
  },
  {
   "cell_type": "code",
   "execution_count": 18,
   "metadata": {
    "scrolled": false
   },
   "outputs": [
    {
     "data": {
      "text/markdown": [
       "#### TODAY'S DATA: 2020-05-13 MD"
      ],
      "text/plain": [
       "<IPython.core.display.Markdown object>"
      ]
     },
     "metadata": {},
     "output_type": "display_data"
    },
    {
     "data": {
      "text/markdown": [
       "#### Active cases"
      ],
      "text/plain": [
       "<IPython.core.display.Markdown object>"
      ]
     },
     "metadata": {},
     "output_type": "display_data"
    },
    {
     "data": {
      "text/plain": [
       "25285"
      ]
     },
     "metadata": {},
     "output_type": "display_data"
    },
    {
     "data": {
      "text/html": [
       "<div>\n",
       "<style scoped>\n",
       "    .dataframe tbody tr th:only-of-type {\n",
       "        vertical-align: middle;\n",
       "    }\n",
       "\n",
       "    .dataframe tbody tr th {\n",
       "        vertical-align: top;\n",
       "    }\n",
       "\n",
       "    .dataframe thead th {\n",
       "        text-align: right;\n",
       "    }\n",
       "</style>\n",
       "<table border=\"1\" class=\"dataframe\">\n",
       "  <thead>\n",
       "    <tr style=\"text-align: right;\">\n",
       "      <th></th>\n",
       "      <th>FECHA</th>\n",
       "      <th>CASOS</th>\n",
       "      <th>IncFallecidos</th>\n",
       "      <th>IncHospitalizados</th>\n",
       "      <th>IncUCI</th>\n",
       "      <th>IncRecuperados</th>\n",
       "      <th>ActiveCases</th>\n",
       "      <th>PCR+</th>\n",
       "      <th>Hospitalizados</th>\n",
       "      <th>Fallecidos</th>\n",
       "      <th>UCI</th>\n",
       "      <th>Recuperados</th>\n",
       "    </tr>\n",
       "  </thead>\n",
       "  <tbody>\n",
       "    <tr>\n",
       "      <th>1134</th>\n",
       "      <td>2020-05-13</td>\n",
       "      <td>75.0</td>\n",
       "      <td>40.0</td>\n",
       "      <td>121.0</td>\n",
       "      <td>12.0</td>\n",
       "      <td>233.0</td>\n",
       "      <td>25285.0</td>\n",
       "      <td>65269.0</td>\n",
       "      <td>41856.0</td>\n",
       "      <td>8760.0</td>\n",
       "      <td>3555.0</td>\n",
       "      <td>39984.0</td>\n",
       "    </tr>\n",
       "  </tbody>\n",
       "</table>\n",
       "</div>"
      ],
      "text/plain": [
       "           FECHA  CASOS  IncFallecidos  IncHospitalizados  IncUCI  \\\n",
       "1134  2020-05-13   75.0           40.0              121.0    12.0   \n",
       "\n",
       "      IncRecuperados  ActiveCases     PCR+  Hospitalizados  Fallecidos  \\\n",
       "1134           233.0      25285.0  65269.0         41856.0      8760.0   \n",
       "\n",
       "         UCI  Recuperados  \n",
       "1134  3555.0      39984.0  "
      ]
     },
     "metadata": {},
     "output_type": "display_data"
    },
    {
     "data": {
      "text/markdown": [
       "##### Evolution of cases: 2020-05-13 MD"
      ],
      "text/plain": [
       "<IPython.core.display.Markdown object>"
      ]
     },
     "metadata": {},
     "output_type": "display_data"
    },
    {
     "name": "stdout",
     "output_type": "stream",
     "text": [
      "Warning: aggregation not available\n"
     ]
    },
    {
     "data": {
      "image/png": "[encoded data removed]",
      "text/plain": [
       "<Figure size 1152x720 with 1 Axes>"
      ]
     },
     "metadata": {
      "needs_background": "light"
     },
     "output_type": "display_data"
    },
    {
     "data": {
      "text/markdown": [
       "##### Evolution of deaths: 2020-05-13 MD"
      ],
      "text/plain": [
       "<IPython.core.display.Markdown object>"
      ]
     },
     "metadata": {},
     "output_type": "display_data"
    },
    {
     "name": "stdout",
     "output_type": "stream",
     "text": [
      "Warning: aggregation not available\n"
     ]
    },
    {
     "data": {
      "image/png": "[encoded data removed]",
      "text/plain": [
       "<Figure size 1152x720 with 1 Axes>"
      ]
     },
     "metadata": {
      "needs_background": "light"
     },
     "output_type": "display_data"
    },
    {
     "data": {
      "text/markdown": [
       "##### Evolution of ActiveCases: 2020-05-13 MD"
      ],
      "text/plain": [
       "<IPython.core.display.Markdown object>"
      ]
     },
     "metadata": {},
     "output_type": "display_data"
    },
    {
     "name": "stdout",
     "output_type": "stream",
     "text": [
      "Warning: aggregation not available\n"
     ]
    },
    {
     "data": {
      "image/png": "[encoded data removed]",
      "text/plain": [
       "<Figure size 1152x720 with 1 Axes>"
      ]
     },
     "metadata": {
      "needs_background": "light"
     },
     "output_type": "display_data"
    }
   ],
   "source": [
    "checkSituation(loc='MD')"
   ]
  },
  {
   "cell_type": "markdown",
   "metadata": {},
   "source": [
    "### Checking Castille-La Mancha situation"
   ]
  },
  {
   "cell_type": "code",
   "execution_count": 19,
   "metadata": {
    "scrolled": false
   },
   "outputs": [
    {
     "data": {
      "text/markdown": [
       "#### TODAY'S DATA: 2020-05-13 CM"
      ],
      "text/plain": [
       "<IPython.core.display.Markdown object>"
      ]
     },
     "metadata": {},
     "output_type": "display_data"
    },
    {
     "data": {
      "text/markdown": [
       "#### Active cases"
      ],
      "text/plain": [
       "<IPython.core.display.Markdown object>"
      ]
     },
     "metadata": {},
     "output_type": "display_data"
    },
    {
     "data": {
      "text/plain": [
       "10248"
      ]
     },
     "metadata": {},
     "output_type": "display_data"
    },
    {
     "data": {
      "text/html": [
       "<div>\n",
       "<style scoped>\n",
       "    .dataframe tbody tr th:only-of-type {\n",
       "        vertical-align: middle;\n",
       "    }\n",
       "\n",
       "    .dataframe tbody tr th {\n",
       "        vertical-align: top;\n",
       "    }\n",
       "\n",
       "    .dataframe thead th {\n",
       "        text-align: right;\n",
       "    }\n",
       "</style>\n",
       "<table border=\"1\" class=\"dataframe\">\n",
       "  <thead>\n",
       "    <tr style=\"text-align: right;\">\n",
       "      <th></th>\n",
       "      <th>FECHA</th>\n",
       "      <th>CASOS</th>\n",
       "      <th>IncFallecidos</th>\n",
       "      <th>IncHospitalizados</th>\n",
       "      <th>IncUCI</th>\n",
       "      <th>IncRecuperados</th>\n",
       "      <th>ActiveCases</th>\n",
       "      <th>PCR+</th>\n",
       "      <th>Hospitalizados</th>\n",
       "      <th>Fallecidos</th>\n",
       "      <th>UCI</th>\n",
       "      <th>Recuperados</th>\n",
       "    </tr>\n",
       "  </thead>\n",
       "  <tbody>\n",
       "    <tr>\n",
       "      <th>1127</th>\n",
       "      <td>2020-05-13</td>\n",
       "      <td>22.0</td>\n",
       "      <td>24.0</td>\n",
       "      <td>23.0</td>\n",
       "      <td>3.0</td>\n",
       "      <td>24.0</td>\n",
       "      <td>10248.0</td>\n",
       "      <td>16453.0</td>\n",
       "      <td>8963.0</td>\n",
       "      <td>2835.0</td>\n",
       "      <td>632.0</td>\n",
       "      <td>6205.0</td>\n",
       "    </tr>\n",
       "  </tbody>\n",
       "</table>\n",
       "</div>"
      ],
      "text/plain": [
       "           FECHA  CASOS  IncFallecidos  IncHospitalizados  IncUCI  \\\n",
       "1127  2020-05-13   22.0           24.0               23.0     3.0   \n",
       "\n",
       "      IncRecuperados  ActiveCases     PCR+  Hospitalizados  Fallecidos    UCI  \\\n",
       "1127            24.0      10248.0  16453.0          8963.0      2835.0  632.0   \n",
       "\n",
       "      Recuperados  \n",
       "1127       6205.0  "
      ]
     },
     "metadata": {},
     "output_type": "display_data"
    },
    {
     "data": {
      "text/markdown": [
       "##### Evolution of cases: 2020-05-13 CM"
      ],
      "text/plain": [
       "<IPython.core.display.Markdown object>"
      ]
     },
     "metadata": {},
     "output_type": "display_data"
    },
    {
     "name": "stdout",
     "output_type": "stream",
     "text": [
      "Warning: aggregation not available\n"
     ]
    },
    {
     "data": {
      "image/png": "[encoded data removed]",
      "text/plain": [
       "<Figure size 1152x720 with 1 Axes>"
      ]
     },
     "metadata": {
      "needs_background": "light"
     },
     "output_type": "display_data"
    },
    {
     "data": {
      "text/markdown": [
       "##### Evolution of deaths: 2020-05-13 CM"
      ],
      "text/plain": [
       "<IPython.core.display.Markdown object>"
      ]
     },
     "metadata": {},
     "output_type": "display_data"
    },
    {
     "name": "stdout",
     "output_type": "stream",
     "text": [
      "Warning: aggregation not available\n"
     ]
    },
    {
     "data": {
      "image/png": "[encoded data removed]",
      "text/plain": [
       "<Figure size 1152x720 with 1 Axes>"
      ]
     },
     "metadata": {
      "needs_background": "light"
     },
     "output_type": "display_data"
    },
    {
     "data": {
      "text/markdown": [
       "##### Evolution of ActiveCases: 2020-05-13 CM"
      ],
      "text/plain": [
       "<IPython.core.display.Markdown object>"
      ]
     },
     "metadata": {},
     "output_type": "display_data"
    },
    {
     "name": "stdout",
     "output_type": "stream",
     "text": [
      "Warning: aggregation not available\n"
     ]
    },
    {
     "data": {
      "image/png": "[encoded data removed]",
      "text/plain": [
       "<Figure size 1152x720 with 1 Axes>"
      ]
     },
     "metadata": {
      "needs_background": "light"
     },
     "output_type": "display_data"
    }
   ],
   "source": [
    "checkSituation(loc='CM')"
   ]
  },
  {
   "cell_type": "markdown",
   "metadata": {},
   "source": [
    "Ready to work with. Interactive graphs coming soon ; )"
   ]
  },
  {
   "cell_type": "markdown",
   "metadata": {},
   "source": [
    "### 2. MoMo Dataset\n",
    "\n",
    "MoMo dataset is aimed to mortality data. Is well prepared and no extra preprocessing is needed in order to have good insights. Here we have the features: \n",
    "\n",
    "* ```ambito```: nacional or ccaa (national or regional)\n",
    "* ```cod_ambito```: empty if nacional. Region ISO code if regional\n",
    "* ```cod_ine_ambito```: INE region code\n",
    "* ```nombre_ambito```: Name of the region\n",
    "* ```cod_sexo```: INE Sex code. man: 1, woman: 6 \n",
    "* ```nombre_sexo```: Sex name (hombres, mujeres)\n",
    "* ```cod_gedad```: Age group: menos_65, 65_74, mas_74\n",
    "* ```nombre_gedad```: name of age group\n",
    "* ```fecha_defuncion```: decease date\n",
    "* ```defunciones_observadas```: number of deceases observed (included delay corrections)\n",
    "* ```defunciones_observadas_lim_inf```: inferior limit of confidence interval\n",
    "* ```defunciones_observadas_lim_sup```: superior limit of confidence interval\n",
    "* ```defunciones_esperadas```: expected deceases\n",
    "* ```defunciones_esperadas_q01```: Percentil 1 of expecteds\n",
    "* ```defunciones_esperadas_q99```: Percentil 99 of expecteds"
   ]
  },
  {
   "cell_type": "code",
   "execution_count": 20,
   "metadata": {},
   "outputs": [],
   "source": [
    "momo = pd.read_csv(\"https://momo.isciii.es/public/momo/data\")"
   ]
  },
  {
   "cell_type": "code",
   "execution_count": 21,
   "metadata": {},
   "outputs": [
    {
     "data": {
      "text/markdown": [
       "#### Description"
      ],
      "text/plain": [
       "<IPython.core.display.Markdown object>"
      ]
     },
     "metadata": {},
     "output_type": "display_data"
    },
    {
     "data": {
      "text/html": [
       "<div>\n",
       "<style scoped>\n",
       "    .dataframe tbody tr th:only-of-type {\n",
       "        vertical-align: middle;\n",
       "    }\n",
       "\n",
       "    .dataframe tbody tr th {\n",
       "        vertical-align: top;\n",
       "    }\n",
       "\n",
       "    .dataframe thead th {\n",
       "        text-align: right;\n",
       "    }\n",
       "</style>\n",
       "<table border=\"1\" class=\"dataframe\">\n",
       "  <thead>\n",
       "    <tr style=\"text-align: right;\">\n",
       "      <th></th>\n",
       "      <th>cod_ine_ambito</th>\n",
       "      <th>defunciones_observadas</th>\n",
       "      <th>defunciones_observadas_lim_inf</th>\n",
       "      <th>defunciones_observadas_lim_sup</th>\n",
       "      <th>defunciones_esperadas</th>\n",
       "      <th>defunciones_esperadas_q01</th>\n",
       "      <th>defunciones_esperadas_q99</th>\n",
       "    </tr>\n",
       "  </thead>\n",
       "  <tbody>\n",
       "    <tr>\n",
       "      <th>count</th>\n",
       "      <td>170772.000000</td>\n",
       "      <td>179760.000000</td>\n",
       "      <td>179760.000000</td>\n",
       "      <td>179760.000000</td>\n",
       "      <td>179760.000000</td>\n",
       "      <td>179760.000000</td>\n",
       "      <td>179760.000000</td>\n",
       "    </tr>\n",
       "    <tr>\n",
       "      <th>mean</th>\n",
       "      <td>10.000000</td>\n",
       "      <td>36.846011</td>\n",
       "      <td>36.816405</td>\n",
       "      <td>36.882575</td>\n",
       "      <td>36.099367</td>\n",
       "      <td>27.359848</td>\n",
       "      <td>47.594358</td>\n",
       "    </tr>\n",
       "    <tr>\n",
       "      <th>std</th>\n",
       "      <td>5.477242</td>\n",
       "      <td>112.226872</td>\n",
       "      <td>112.184751</td>\n",
       "      <td>112.273542</td>\n",
       "      <td>107.811651</td>\n",
       "      <td>95.251317</td>\n",
       "      <td>125.378955</td>\n",
       "    </tr>\n",
       "    <tr>\n",
       "      <th>min</th>\n",
       "      <td>1.000000</td>\n",
       "      <td>0.000000</td>\n",
       "      <td>0.000000</td>\n",
       "      <td>0.000000</td>\n",
       "      <td>0.000000</td>\n",
       "      <td>0.000000</td>\n",
       "      <td>0.000000</td>\n",
       "    </tr>\n",
       "    <tr>\n",
       "      <th>25%</th>\n",
       "      <td>5.000000</td>\n",
       "      <td>2.000000</td>\n",
       "      <td>2.000000</td>\n",
       "      <td>2.000000</td>\n",
       "      <td>2.000000</td>\n",
       "      <td>0.000000</td>\n",
       "      <td>6.310000</td>\n",
       "    </tr>\n",
       "    <tr>\n",
       "      <th>50%</th>\n",
       "      <td>10.000000</td>\n",
       "      <td>8.000000</td>\n",
       "      <td>8.000000</td>\n",
       "      <td>8.000000</td>\n",
       "      <td>8.000000</td>\n",
       "      <td>2.690000</td>\n",
       "      <td>15.000000</td>\n",
       "    </tr>\n",
       "    <tr>\n",
       "      <th>75%</th>\n",
       "      <td>15.000000</td>\n",
       "      <td>27.000000</td>\n",
       "      <td>27.000000</td>\n",
       "      <td>27.000000</td>\n",
       "      <td>26.500000</td>\n",
       "      <td>16.380000</td>\n",
       "      <td>38.930000</td>\n",
       "    </tr>\n",
       "    <tr>\n",
       "      <th>max</th>\n",
       "      <td>19.000000</td>\n",
       "      <td>2466.000000</td>\n",
       "      <td>2466.000000</td>\n",
       "      <td>2466.000000</td>\n",
       "      <td>1328.000000</td>\n",
       "      <td>1177.280000</td>\n",
       "      <td>1694.270000</td>\n",
       "    </tr>\n",
       "  </tbody>\n",
       "</table>\n",
       "</div>"
      ],
      "text/plain": [
       "       cod_ine_ambito  defunciones_observadas  defunciones_observadas_lim_inf  \\\n",
       "count   170772.000000           179760.000000                   179760.000000   \n",
       "mean        10.000000               36.846011                       36.816405   \n",
       "std          5.477242              112.226872                      112.184751   \n",
       "min          1.000000                0.000000                        0.000000   \n",
       "25%          5.000000                2.000000                        2.000000   \n",
       "50%         10.000000                8.000000                        8.000000   \n",
       "75%         15.000000               27.000000                       27.000000   \n",
       "max         19.000000             2466.000000                     2466.000000   \n",
       "\n",
       "       defunciones_observadas_lim_sup  defunciones_esperadas  \\\n",
       "count                   179760.000000          179760.000000   \n",
       "mean                        36.882575              36.099367   \n",
       "std                        112.273542             107.811651   \n",
       "min                          0.000000               0.000000   \n",
       "25%                          2.000000               2.000000   \n",
       "50%                          8.000000               8.000000   \n",
       "75%                         27.000000              26.500000   \n",
       "max                       2466.000000            1328.000000   \n",
       "\n",
       "       defunciones_esperadas_q01  defunciones_esperadas_q99  \n",
       "count              179760.000000              179760.000000  \n",
       "mean                   27.359848                  47.594358  \n",
       "std                    95.251317                 125.378955  \n",
       "min                     0.000000                   0.000000  \n",
       "25%                     0.000000                   6.310000  \n",
       "50%                     2.690000                  15.000000  \n",
       "75%                    16.380000                  38.930000  \n",
       "max                  1177.280000                1694.270000  "
      ]
     },
     "metadata": {},
     "output_type": "display_data"
    },
    {
     "data": {
      "text/markdown": [
       "#### Head"
      ],
      "text/plain": [
       "<IPython.core.display.Markdown object>"
      ]
     },
     "metadata": {},
     "output_type": "display_data"
    },
    {
     "data": {
      "text/html": [
       "<div>\n",
       "<style scoped>\n",
       "    .dataframe tbody tr th:only-of-type {\n",
       "        vertical-align: middle;\n",
       "    }\n",
       "\n",
       "    .dataframe tbody tr th {\n",
       "        vertical-align: top;\n",
       "    }\n",
       "\n",
       "    .dataframe thead th {\n",
       "        text-align: right;\n",
       "    }\n",
       "</style>\n",
       "<table border=\"1\" class=\"dataframe\">\n",
       "  <thead>\n",
       "    <tr style=\"text-align: right;\">\n",
       "      <th></th>\n",
       "      <th>ambito</th>\n",
       "      <th>cod_ambito</th>\n",
       "      <th>cod_ine_ambito</th>\n",
       "      <th>nombre_ambito</th>\n",
       "      <th>cod_sexo</th>\n",
       "      <th>nombre_sexo</th>\n",
       "      <th>cod_gedad</th>\n",
       "      <th>nombre_gedad</th>\n",
       "      <th>fecha_defuncion</th>\n",
       "      <th>defunciones_observadas</th>\n",
       "      <th>defunciones_observadas_lim_inf</th>\n",
       "      <th>defunciones_observadas_lim_sup</th>\n",
       "      <th>defunciones_esperadas</th>\n",
       "      <th>defunciones_esperadas_q01</th>\n",
       "      <th>defunciones_esperadas_q99</th>\n",
       "    </tr>\n",
       "  </thead>\n",
       "  <tbody>\n",
       "    <tr>\n",
       "      <th>0</th>\n",
       "      <td>nacional</td>\n",
       "      <td>NaN</td>\n",
       "      <td>NaN</td>\n",
       "      <td>NaN</td>\n",
       "      <td>all</td>\n",
       "      <td>todos</td>\n",
       "      <td>all</td>\n",
       "      <td>todos</td>\n",
       "      <td>2018-04-25</td>\n",
       "      <td>1107</td>\n",
       "      <td>1107.0</td>\n",
       "      <td>1107.0</td>\n",
       "      <td>1067.75</td>\n",
       "      <td>967.14</td>\n",
       "      <td>1154.745</td>\n",
       "    </tr>\n",
       "    <tr>\n",
       "      <th>1</th>\n",
       "      <td>nacional</td>\n",
       "      <td>NaN</td>\n",
       "      <td>NaN</td>\n",
       "      <td>NaN</td>\n",
       "      <td>all</td>\n",
       "      <td>todos</td>\n",
       "      <td>all</td>\n",
       "      <td>todos</td>\n",
       "      <td>2018-04-26</td>\n",
       "      <td>1065</td>\n",
       "      <td>1065.0</td>\n",
       "      <td>1065.0</td>\n",
       "      <td>1068.00</td>\n",
       "      <td>967.14</td>\n",
       "      <td>1154.745</td>\n",
       "    </tr>\n",
       "    <tr>\n",
       "      <th>2</th>\n",
       "      <td>nacional</td>\n",
       "      <td>NaN</td>\n",
       "      <td>NaN</td>\n",
       "      <td>NaN</td>\n",
       "      <td>all</td>\n",
       "      <td>todos</td>\n",
       "      <td>all</td>\n",
       "      <td>todos</td>\n",
       "      <td>2018-04-27</td>\n",
       "      <td>1135</td>\n",
       "      <td>1135.0</td>\n",
       "      <td>1135.0</td>\n",
       "      <td>1064.25</td>\n",
       "      <td>967.14</td>\n",
       "      <td>1154.745</td>\n",
       "    </tr>\n",
       "    <tr>\n",
       "      <th>3</th>\n",
       "      <td>nacional</td>\n",
       "      <td>NaN</td>\n",
       "      <td>NaN</td>\n",
       "      <td>NaN</td>\n",
       "      <td>all</td>\n",
       "      <td>todos</td>\n",
       "      <td>all</td>\n",
       "      <td>todos</td>\n",
       "      <td>2018-04-28</td>\n",
       "      <td>1036</td>\n",
       "      <td>1036.0</td>\n",
       "      <td>1036.0</td>\n",
       "      <td>1056.00</td>\n",
       "      <td>952.56</td>\n",
       "      <td>1141.120</td>\n",
       "    </tr>\n",
       "    <tr>\n",
       "      <th>4</th>\n",
       "      <td>nacional</td>\n",
       "      <td>NaN</td>\n",
       "      <td>NaN</td>\n",
       "      <td>NaN</td>\n",
       "      <td>all</td>\n",
       "      <td>todos</td>\n",
       "      <td>all</td>\n",
       "      <td>todos</td>\n",
       "      <td>2018-04-29</td>\n",
       "      <td>933</td>\n",
       "      <td>933.0</td>\n",
       "      <td>933.0</td>\n",
       "      <td>1055.00</td>\n",
       "      <td>952.56</td>\n",
       "      <td>1132.565</td>\n",
       "    </tr>\n",
       "  </tbody>\n",
       "</table>\n",
       "</div>"
      ],
      "text/plain": [
       "     ambito cod_ambito  cod_ine_ambito nombre_ambito cod_sexo nombre_sexo  \\\n",
       "0  nacional        NaN             NaN           NaN      all       todos   \n",
       "1  nacional        NaN             NaN           NaN      all       todos   \n",
       "2  nacional        NaN             NaN           NaN      all       todos   \n",
       "3  nacional        NaN             NaN           NaN      all       todos   \n",
       "4  nacional        NaN             NaN           NaN      all       todos   \n",
       "\n",
       "  cod_gedad nombre_gedad fecha_defuncion  defunciones_observadas  \\\n",
       "0       all        todos      2018-04-25                    1107   \n",
       "1       all        todos      2018-04-26                    1065   \n",
       "2       all        todos      2018-04-27                    1135   \n",
       "3       all        todos      2018-04-28                    1036   \n",
       "4       all        todos      2018-04-29                     933   \n",
       "\n",
       "   defunciones_observadas_lim_inf  defunciones_observadas_lim_sup  \\\n",
       "0                          1107.0                          1107.0   \n",
       "1                          1065.0                          1065.0   \n",
       "2                          1135.0                          1135.0   \n",
       "3                          1036.0                          1036.0   \n",
       "4                           933.0                           933.0   \n",
       "\n",
       "   defunciones_esperadas  defunciones_esperadas_q01  defunciones_esperadas_q99  \n",
       "0                1067.75                     967.14                   1154.745  \n",
       "1                1068.00                     967.14                   1154.745  \n",
       "2                1064.25                     967.14                   1154.745  \n",
       "3                1056.00                     952.56                   1141.120  \n",
       "4                1055.00                     952.56                   1132.565  "
      ]
     },
     "metadata": {},
     "output_type": "display_data"
    },
    {
     "data": {
      "text/markdown": [
       "#### Tail"
      ],
      "text/plain": [
       "<IPython.core.display.Markdown object>"
      ]
     },
     "metadata": {},
     "output_type": "display_data"
    },
    {
     "data": {
      "text/html": [
       "<div>\n",
       "<style scoped>\n",
       "    .dataframe tbody tr th:only-of-type {\n",
       "        vertical-align: middle;\n",
       "    }\n",
       "\n",
       "    .dataframe tbody tr th {\n",
       "        vertical-align: top;\n",
       "    }\n",
       "\n",
       "    .dataframe thead th {\n",
       "        text-align: right;\n",
       "    }\n",
       "</style>\n",
       "<table border=\"1\" class=\"dataframe\">\n",
       "  <thead>\n",
       "    <tr style=\"text-align: right;\">\n",
       "      <th></th>\n",
       "      <th>ambito</th>\n",
       "      <th>cod_ambito</th>\n",
       "      <th>cod_ine_ambito</th>\n",
       "      <th>nombre_ambito</th>\n",
       "      <th>cod_sexo</th>\n",
       "      <th>nombre_sexo</th>\n",
       "      <th>cod_gedad</th>\n",
       "      <th>nombre_gedad</th>\n",
       "      <th>fecha_defuncion</th>\n",
       "      <th>defunciones_observadas</th>\n",
       "      <th>defunciones_observadas_lim_inf</th>\n",
       "      <th>defunciones_observadas_lim_sup</th>\n",
       "      <th>defunciones_esperadas</th>\n",
       "      <th>defunciones_esperadas_q01</th>\n",
       "      <th>defunciones_esperadas_q99</th>\n",
       "    </tr>\n",
       "  </thead>\n",
       "  <tbody>\n",
       "    <tr>\n",
       "      <th>179755</th>\n",
       "      <td>ccaa</td>\n",
       "      <td>ML</td>\n",
       "      <td>19.0</td>\n",
       "      <td>Melilla</td>\n",
       "      <td>6</td>\n",
       "      <td>mujeres</td>\n",
       "      <td>mas_74</td>\n",
       "      <td>edad &gt; 75</td>\n",
       "      <td>2020-05-08</td>\n",
       "      <td>0</td>\n",
       "      <td>0.000000</td>\n",
       "      <td>0.245047</td>\n",
       "      <td>0.0</td>\n",
       "      <td>0.0</td>\n",
       "      <td>2.0</td>\n",
       "    </tr>\n",
       "    <tr>\n",
       "      <th>179756</th>\n",
       "      <td>ccaa</td>\n",
       "      <td>ML</td>\n",
       "      <td>19.0</td>\n",
       "      <td>Melilla</td>\n",
       "      <td>6</td>\n",
       "      <td>mujeres</td>\n",
       "      <td>mas_74</td>\n",
       "      <td>edad &gt; 75</td>\n",
       "      <td>2020-05-09</td>\n",
       "      <td>0</td>\n",
       "      <td>0.000000</td>\n",
       "      <td>0.347539</td>\n",
       "      <td>0.0</td>\n",
       "      <td>0.0</td>\n",
       "      <td>2.0</td>\n",
       "    </tr>\n",
       "    <tr>\n",
       "      <th>179757</th>\n",
       "      <td>ccaa</td>\n",
       "      <td>ML</td>\n",
       "      <td>19.0</td>\n",
       "      <td>Melilla</td>\n",
       "      <td>6</td>\n",
       "      <td>mujeres</td>\n",
       "      <td>mas_74</td>\n",
       "      <td>edad &gt; 75</td>\n",
       "      <td>2020-05-10</td>\n",
       "      <td>0</td>\n",
       "      <td>0.000000</td>\n",
       "      <td>0.447576</td>\n",
       "      <td>0.0</td>\n",
       "      <td>0.0</td>\n",
       "      <td>2.0</td>\n",
       "    </tr>\n",
       "    <tr>\n",
       "      <th>179758</th>\n",
       "      <td>ccaa</td>\n",
       "      <td>ML</td>\n",
       "      <td>19.0</td>\n",
       "      <td>Melilla</td>\n",
       "      <td>6</td>\n",
       "      <td>mujeres</td>\n",
       "      <td>mas_74</td>\n",
       "      <td>edad &gt; 75</td>\n",
       "      <td>2020-05-11</td>\n",
       "      <td>1</td>\n",
       "      <td>0.527043</td>\n",
       "      <td>1.709639</td>\n",
       "      <td>0.0</td>\n",
       "      <td>0.0</td>\n",
       "      <td>2.0</td>\n",
       "    </tr>\n",
       "    <tr>\n",
       "      <th>179759</th>\n",
       "      <td>ccaa</td>\n",
       "      <td>ML</td>\n",
       "      <td>19.0</td>\n",
       "      <td>Melilla</td>\n",
       "      <td>6</td>\n",
       "      <td>mujeres</td>\n",
       "      <td>mas_74</td>\n",
       "      <td>edad &gt; 75</td>\n",
       "      <td>2020-05-12</td>\n",
       "      <td>1</td>\n",
       "      <td>0.218479</td>\n",
       "      <td>1.926936</td>\n",
       "      <td>0.0</td>\n",
       "      <td>0.0</td>\n",
       "      <td>2.0</td>\n",
       "    </tr>\n",
       "  </tbody>\n",
       "</table>\n",
       "</div>"
      ],
      "text/plain": [
       "       ambito cod_ambito  cod_ine_ambito nombre_ambito cod_sexo nombre_sexo  \\\n",
       "179755   ccaa         ML            19.0       Melilla        6     mujeres   \n",
       "179756   ccaa         ML            19.0       Melilla        6     mujeres   \n",
       "179757   ccaa         ML            19.0       Melilla        6     mujeres   \n",
       "179758   ccaa         ML            19.0       Melilla        6     mujeres   \n",
       "179759   ccaa         ML            19.0       Melilla        6     mujeres   \n",
       "\n",
       "       cod_gedad nombre_gedad fecha_defuncion  defunciones_observadas  \\\n",
       "179755    mas_74    edad > 75      2020-05-08                       0   \n",
       "179756    mas_74    edad > 75      2020-05-09                       0   \n",
       "179757    mas_74    edad > 75      2020-05-10                       0   \n",
       "179758    mas_74    edad > 75      2020-05-11                       1   \n",
       "179759    mas_74    edad > 75      2020-05-12                       1   \n",
       "\n",
       "        defunciones_observadas_lim_inf  defunciones_observadas_lim_sup  \\\n",
       "179755                        0.000000                        0.245047   \n",
       "179756                        0.000000                        0.347539   \n",
       "179757                        0.000000                        0.447576   \n",
       "179758                        0.527043                        1.709639   \n",
       "179759                        0.218479                        1.926936   \n",
       "\n",
       "        defunciones_esperadas  defunciones_esperadas_q01  \\\n",
       "179755                    0.0                        0.0   \n",
       "179756                    0.0                        0.0   \n",
       "179757                    0.0                        0.0   \n",
       "179758                    0.0                        0.0   \n",
       "179759                    0.0                        0.0   \n",
       "\n",
       "        defunciones_esperadas_q99  \n",
       "179755                        2.0  \n",
       "179756                        2.0  \n",
       "179757                        2.0  \n",
       "179758                        2.0  \n",
       "179759                        2.0  "
      ]
     },
     "metadata": {},
     "output_type": "display_data"
    }
   ],
   "source": [
    "display(Markdown(\"#### Description\"))\n",
    "display(momo.describe())\n",
    "display(Markdown(\"#### Head\"))\n",
    "display(momo.head())\n",
    "display(Markdown(\"#### Tail\"))\n",
    "display(momo.tail())"
   ]
  },
  {
   "cell_type": "code",
   "execution_count": 22,
   "metadata": {},
   "outputs": [
    {
     "data": {
      "text/plain": [
       "array(['AN', 'AR', 'AS', 'IB', 'CN', 'CB', 'CL', 'CM', 'CT', 'VC', 'EX',\n",
       "       'GA', 'MD', 'MC', 'NC', 'PV', 'RI', 'CE', 'ML'], dtype=object)"
      ]
     },
     "execution_count": 22,
     "metadata": {},
     "output_type": "execute_result"
    }
   ],
   "source": [
    "momo[momo.ambito=='ccaa'].cod_ambito.unique()"
   ]
  },
  {
   "cell_type": "code",
   "execution_count": 23,
   "metadata": {},
   "outputs": [],
   "source": [
    "def showDeceases(df, location=None, from_date='2020-03-01', sex='all', age='all'):\n",
    "    \"\"\"\n",
    "    df: Pandas DataFrame\n",
    "    location: string: code of the region\n",
    "    from_date: string: date to start the time window query. Format YYYY-MM-DD\n",
    "    sex: string: sex code for filters\n",
    "    age: string: age code for filters\n",
    "    \"\"\"\n",
    "\n",
    "    if location:\n",
    "        df = df[df.cod_ambito==location]\n",
    "    df = df[df.cod_gedad==age]\n",
    "    df = df[df.cod_sexo==sex]\n",
    "    df = df[df['fecha_defuncion']>=from_date]\n",
    "    covid = res[res['FECHA'] >= from_date]\n",
    "\n",
    "    extra_q99 = df['defunciones_esperadas_q99'].sum()\n",
    "    extra_q01 = df['defunciones_esperadas_q01'].sum()\n",
    "    extra =  df['defunciones_esperadas'].sum()\n",
    "    total_obs = df['defunciones_observadas'].sum()\n",
    "    covid_deaths = covid['IncFallecidos'].sum()\n",
    "\n",
    "    \n",
    "    display(Markdown(\"### Period observed deaths\"))\n",
    "    display(int(total_obs))\n",
    "#    display(Markdown(\"### Period Covid19 deaths\"))\n",
    "#    display(int(covid_deaths))\n",
    "    display(Markdown(\"### Extra over expected deaths\"))\n",
    "    display(int(extra))\n",
    "    display(Markdown(\"### Extra over expected deaths (inferior limit)\"))\n",
    "    display(int(extra_q99))\n",
    "    display(Markdown(\"### Extra over expected deaths (superior limit)\"))\n",
    "    display(int(extra_q01))\n",
    "    \n",
    "    dates = list(df.fecha_defuncion.unique())\n",
    "    dates.sort(reverse=False)\n",
    "    \n",
    "    pal = sns.cubehelix_palette(len(df))\n",
    "    rank = df['defunciones_observadas'].argsort().argsort()   # http://stackoverflow.com/a/6266510/1628638\n",
    "\n",
    "    fig, ax = plt.subplots(1,1, figsize=(16,10))\n",
    "    sns.barplot(data=df,\n",
    "                x='fecha_defuncion',\n",
    "                y='defunciones_observadas',\n",
    "                label='Observed deceases',\n",
    "#                palette=np.array(pal[::1])[rank],\n",
    "                color='lightblue',\n",
    "                order=dates,\n",
    "                ax=ax)\n",
    "    sns.lineplot(data=df,\n",
    "                 x='fecha_defuncion',\n",
    "                 y='defunciones_esperadas',\n",
    "                 label='Expected deceases',\n",
    "                 markers=True,\n",
    "                 dashes=False,\n",
    "                 color='g'\n",
    "                )\n",
    "    sns.lineplot(data=df,\n",
    "                 x='fecha_defuncion',\n",
    "                 y='defunciones_esperadas_q01',\n",
    "                 label='Expected deceases (inf)',\n",
    "                 markers=True,\n",
    "                 dashes=True,\n",
    "                 color='y'\n",
    "                )\n",
    "    sns.lineplot(data=df,\n",
    "                 x='fecha_defuncion',\n",
    "                 y='defunciones_esperadas_q99',\n",
    "                 label='Expected deceases (sup)',\n",
    "                 markers=True,\n",
    "                 dashes=True,\n",
    "                 color='r'\n",
    "                )\n",
    "    plt.xticks(rotation=90)\n",
    "    plt.title(\"Deceases {} since {} - Age {} Sex {}\".format(location, from_date, age, sex))\n",
    "    plt.legend()\n",
    "    plt.savefig(\"images/momo_data.png\")\n",
    "    plt.show()"
   ]
  },
  {
   "cell_type": "code",
   "execution_count": 24,
   "metadata": {},
   "outputs": [
    {
     "data": {
      "text/markdown": [
       "### Period observed deaths"
      ],
      "text/plain": [
       "<IPython.core.display.Markdown object>"
      ]
     },
     "metadata": {},
     "output_type": "display_data"
    },
    {
     "data": {
      "text/plain": [
       "21378"
      ]
     },
     "metadata": {},
     "output_type": "display_data"
    },
    {
     "data": {
      "text/markdown": [
       "### Extra over expected deaths"
      ],
      "text/plain": [
       "<IPython.core.display.Markdown object>"
      ]
     },
     "metadata": {},
     "output_type": "display_data"
    },
    {
     "data": {
      "text/plain": [
       "9676"
      ]
     },
     "metadata": {},
     "output_type": "display_data"
    },
    {
     "data": {
      "text/markdown": [
       "### Extra over expected deaths (inferior limit)"
      ],
      "text/plain": [
       "<IPython.core.display.Markdown object>"
      ]
     },
     "metadata": {},
     "output_type": "display_data"
    },
    {
     "data": {
      "text/plain": [
       "11751"
      ]
     },
     "metadata": {},
     "output_type": "display_data"
    },
    {
     "data": {
      "text/markdown": [
       "### Extra over expected deaths (superior limit)"
      ],
      "text/plain": [
       "<IPython.core.display.Markdown object>"
      ]
     },
     "metadata": {},
     "output_type": "display_data"
    },
    {
     "data": {
      "text/plain": [
       "7841"
      ]
     },
     "metadata": {},
     "output_type": "display_data"
    },
    {
     "data": {
      "image/png": "[encoded data removed]",
      "text/plain": [
       "<Figure size 1152x720 with 1 Axes>"
      ]
     },
     "metadata": {
      "needs_background": "light"
     },
     "output_type": "display_data"
    }
   ],
   "source": [
    "showDeceases(momo, from_date='2020-02-20', location = 'MD')"
   ]
  },
  {
   "cell_type": "markdown",
   "metadata": {},
   "source": [
    "### 3. \tEuropean Centre for Disease Prevention and Control\n",
    "\n",
    "As is said at the [link](https://www.ecdc.europa.eu/en/publications-data/download-todays-data-geographic-distribution-covid-19-cases-worldwide), the downloadable data file is updated daily and contains the latest available public data on COVID-19. Each row/entry contains the number of new cases reported per day and per country. You may use the data in line with ECDC’s copyright policy.\n",
    "\n",
    "#### Columns\n",
    "\n",
    "* ```dateRep```: date of the record (format DD/MM/YYYY)\n",
    "* ```day```: disaggregated data from ```dateRep```\n",
    "* ```month```: disaggregated data from ```dateRep```\n",
    "* ```year```: disaggregated data from ```dateRep```\n",
    "* ```cases```: number of new cases \n",
    "* ```deaths```: number of new deceases\n",
    "* ```countriesAndTerritories```: name of the country \n",
    "* ```geoId```: two letter geolocation identifier\n",
    "* ```countryterritoryCode```: three letter country code\n",
    "* ```popData2018```: population accounted at 2018\n",
    "* ```continentExp```: continent related to that country\n"
   ]
  },
  {
   "cell_type": "code",
   "execution_count": 25,
   "metadata": {},
   "outputs": [],
   "source": [
    "eur = pd.read_csv(\"https://opendata.ecdc.europa.eu/covid19/casedistribution/csv\")"
   ]
  },
  {
   "cell_type": "code",
   "execution_count": 26,
   "metadata": {},
   "outputs": [
    {
     "data": {
      "text/markdown": [
       "#### Description"
      ],
      "text/plain": [
       "<IPython.core.display.Markdown object>"
      ]
     },
     "metadata": {},
     "output_type": "display_data"
    },
    {
     "data": {
      "text/html": [
       "<div>\n",
       "<style scoped>\n",
       "    .dataframe tbody tr th:only-of-type {\n",
       "        vertical-align: middle;\n",
       "    }\n",
       "\n",
       "    .dataframe tbody tr th {\n",
       "        vertical-align: top;\n",
       "    }\n",
       "\n",
       "    .dataframe thead th {\n",
       "        text-align: right;\n",
       "    }\n",
       "</style>\n",
       "<table border=\"1\" class=\"dataframe\">\n",
       "  <thead>\n",
       "    <tr style=\"text-align: right;\">\n",
       "      <th></th>\n",
       "      <th>day</th>\n",
       "      <th>month</th>\n",
       "      <th>year</th>\n",
       "      <th>cases</th>\n",
       "      <th>deaths</th>\n",
       "      <th>popData2018</th>\n",
       "    </tr>\n",
       "  </thead>\n",
       "  <tbody>\n",
       "    <tr>\n",
       "      <th>count</th>\n",
       "      <td>16741.000000</td>\n",
       "      <td>16741.000000</td>\n",
       "      <td>16741.000000</td>\n",
       "      <td>16741.000000</td>\n",
       "      <td>16741.000000</td>\n",
       "      <td>1.654000e+04</td>\n",
       "    </tr>\n",
       "    <tr>\n",
       "      <th>mean</th>\n",
       "      <td>15.232244</td>\n",
       "      <td>3.360492</td>\n",
       "      <td>2019.995998</td>\n",
       "      <td>252.257750</td>\n",
       "      <td>17.413476</td>\n",
       "      <td>5.253378e+07</td>\n",
       "    </tr>\n",
       "    <tr>\n",
       "      <th>std</th>\n",
       "      <td>8.921405</td>\n",
       "      <td>1.348379</td>\n",
       "      <td>0.063138</td>\n",
       "      <td>1654.897379</td>\n",
       "      <td>125.236691</td>\n",
       "      <td>1.780738e+08</td>\n",
       "    </tr>\n",
       "    <tr>\n",
       "      <th>min</th>\n",
       "      <td>1.000000</td>\n",
       "      <td>1.000000</td>\n",
       "      <td>2019.000000</td>\n",
       "      <td>-2461.000000</td>\n",
       "      <td>-6.000000</td>\n",
       "      <td>1.000000e+03</td>\n",
       "    </tr>\n",
       "    <tr>\n",
       "      <th>25%</th>\n",
       "      <td>7.000000</td>\n",
       "      <td>3.000000</td>\n",
       "      <td>2020.000000</td>\n",
       "      <td>0.000000</td>\n",
       "      <td>0.000000</td>\n",
       "      <td>2.448255e+06</td>\n",
       "    </tr>\n",
       "    <tr>\n",
       "      <th>50%</th>\n",
       "      <td>15.000000</td>\n",
       "      <td>4.000000</td>\n",
       "      <td>2020.000000</td>\n",
       "      <td>2.000000</td>\n",
       "      <td>0.000000</td>\n",
       "      <td>9.630959e+06</td>\n",
       "    </tr>\n",
       "    <tr>\n",
       "      <th>75%</th>\n",
       "      <td>23.000000</td>\n",
       "      <td>4.000000</td>\n",
       "      <td>2020.000000</td>\n",
       "      <td>36.000000</td>\n",
       "      <td>1.000000</td>\n",
       "      <td>3.705886e+07</td>\n",
       "    </tr>\n",
       "    <tr>\n",
       "      <th>max</th>\n",
       "      <td>31.000000</td>\n",
       "      <td>12.000000</td>\n",
       "      <td>2020.000000</td>\n",
       "      <td>48529.000000</td>\n",
       "      <td>4928.000000</td>\n",
       "      <td>1.392730e+09</td>\n",
       "    </tr>\n",
       "  </tbody>\n",
       "</table>\n",
       "</div>"
      ],
      "text/plain": [
       "                day         month          year         cases        deaths  \\\n",
       "count  16741.000000  16741.000000  16741.000000  16741.000000  16741.000000   \n",
       "mean      15.232244      3.360492   2019.995998    252.257750     17.413476   \n",
       "std        8.921405      1.348379      0.063138   1654.897379    125.236691   \n",
       "min        1.000000      1.000000   2019.000000  -2461.000000     -6.000000   \n",
       "25%        7.000000      3.000000   2020.000000      0.000000      0.000000   \n",
       "50%       15.000000      4.000000   2020.000000      2.000000      0.000000   \n",
       "75%       23.000000      4.000000   2020.000000     36.000000      1.000000   \n",
       "max       31.000000     12.000000   2020.000000  48529.000000   4928.000000   \n",
       "\n",
       "        popData2018  \n",
       "count  1.654000e+04  \n",
       "mean   5.253378e+07  \n",
       "std    1.780738e+08  \n",
       "min    1.000000e+03  \n",
       "25%    2.448255e+06  \n",
       "50%    9.630959e+06  \n",
       "75%    3.705886e+07  \n",
       "max    1.392730e+09  "
      ]
     },
     "metadata": {},
     "output_type": "display_data"
    },
    {
     "data": {
      "text/markdown": [
       "#### Head"
      ],
      "text/plain": [
       "<IPython.core.display.Markdown object>"
      ]
     },
     "metadata": {},
     "output_type": "display_data"
    },
    {
     "data": {
      "text/html": [
       "<div>\n",
       "<style scoped>\n",
       "    .dataframe tbody tr th:only-of-type {\n",
       "        vertical-align: middle;\n",
       "    }\n",
       "\n",
       "    .dataframe tbody tr th {\n",
       "        vertical-align: top;\n",
       "    }\n",
       "\n",
       "    .dataframe thead th {\n",
       "        text-align: right;\n",
       "    }\n",
       "</style>\n",
       "<table border=\"1\" class=\"dataframe\">\n",
       "  <thead>\n",
       "    <tr style=\"text-align: right;\">\n",
       "      <th></th>\n",
       "      <th>dateRep</th>\n",
       "      <th>day</th>\n",
       "      <th>month</th>\n",
       "      <th>year</th>\n",
       "      <th>cases</th>\n",
       "      <th>deaths</th>\n",
       "      <th>countriesAndTerritories</th>\n",
       "      <th>geoId</th>\n",
       "      <th>countryterritoryCode</th>\n",
       "      <th>popData2018</th>\n",
       "      <th>continentExp</th>\n",
       "    </tr>\n",
       "  </thead>\n",
       "  <tbody>\n",
       "    <tr>\n",
       "      <th>0</th>\n",
       "      <td>13/05/2020</td>\n",
       "      <td>13</td>\n",
       "      <td>5</td>\n",
       "      <td>2020</td>\n",
       "      <td>280</td>\n",
       "      <td>5</td>\n",
       "      <td>Afghanistan</td>\n",
       "      <td>AF</td>\n",
       "      <td>AFG</td>\n",
       "      <td>37172386.0</td>\n",
       "      <td>Asia</td>\n",
       "    </tr>\n",
       "    <tr>\n",
       "      <th>1</th>\n",
       "      <td>12/05/2020</td>\n",
       "      <td>12</td>\n",
       "      <td>5</td>\n",
       "      <td>2020</td>\n",
       "      <td>285</td>\n",
       "      <td>2</td>\n",
       "      <td>Afghanistan</td>\n",
       "      <td>AF</td>\n",
       "      <td>AFG</td>\n",
       "      <td>37172386.0</td>\n",
       "      <td>Asia</td>\n",
       "    </tr>\n",
       "    <tr>\n",
       "      <th>2</th>\n",
       "      <td>11/05/2020</td>\n",
       "      <td>11</td>\n",
       "      <td>5</td>\n",
       "      <td>2020</td>\n",
       "      <td>369</td>\n",
       "      <td>5</td>\n",
       "      <td>Afghanistan</td>\n",
       "      <td>AF</td>\n",
       "      <td>AFG</td>\n",
       "      <td>37172386.0</td>\n",
       "      <td>Asia</td>\n",
       "    </tr>\n",
       "    <tr>\n",
       "      <th>3</th>\n",
       "      <td>10/05/2020</td>\n",
       "      <td>10</td>\n",
       "      <td>5</td>\n",
       "      <td>2020</td>\n",
       "      <td>255</td>\n",
       "      <td>6</td>\n",
       "      <td>Afghanistan</td>\n",
       "      <td>AF</td>\n",
       "      <td>AFG</td>\n",
       "      <td>37172386.0</td>\n",
       "      <td>Asia</td>\n",
       "    </tr>\n",
       "    <tr>\n",
       "      <th>4</th>\n",
       "      <td>09/05/2020</td>\n",
       "      <td>9</td>\n",
       "      <td>5</td>\n",
       "      <td>2020</td>\n",
       "      <td>215</td>\n",
       "      <td>3</td>\n",
       "      <td>Afghanistan</td>\n",
       "      <td>AF</td>\n",
       "      <td>AFG</td>\n",
       "      <td>37172386.0</td>\n",
       "      <td>Asia</td>\n",
       "    </tr>\n",
       "  </tbody>\n",
       "</table>\n",
       "</div>"
      ],
      "text/plain": [
       "      dateRep  day  month  year  cases  deaths countriesAndTerritories geoId  \\\n",
       "0  13/05/2020   13      5  2020    280       5             Afghanistan    AF   \n",
       "1  12/05/2020   12      5  2020    285       2             Afghanistan    AF   \n",
       "2  11/05/2020   11      5  2020    369       5             Afghanistan    AF   \n",
       "3  10/05/2020   10      5  2020    255       6             Afghanistan    AF   \n",
       "4  09/05/2020    9      5  2020    215       3             Afghanistan    AF   \n",
       "\n",
       "  countryterritoryCode  popData2018 continentExp  \n",
       "0                  AFG   37172386.0         Asia  \n",
       "1                  AFG   37172386.0         Asia  \n",
       "2                  AFG   37172386.0         Asia  \n",
       "3                  AFG   37172386.0         Asia  \n",
       "4                  AFG   37172386.0         Asia  "
      ]
     },
     "metadata": {},
     "output_type": "display_data"
    },
    {
     "data": {
      "text/markdown": [
       "#### Tail"
      ],
      "text/plain": [
       "<IPython.core.display.Markdown object>"
      ]
     },
     "metadata": {},
     "output_type": "display_data"
    },
    {
     "data": {
      "text/html": [
       "<div>\n",
       "<style scoped>\n",
       "    .dataframe tbody tr th:only-of-type {\n",
       "        vertical-align: middle;\n",
       "    }\n",
       "\n",
       "    .dataframe tbody tr th {\n",
       "        vertical-align: top;\n",
       "    }\n",
       "\n",
       "    .dataframe thead th {\n",
       "        text-align: right;\n",
       "    }\n",
       "</style>\n",
       "<table border=\"1\" class=\"dataframe\">\n",
       "  <thead>\n",
       "    <tr style=\"text-align: right;\">\n",
       "      <th></th>\n",
       "      <th>dateRep</th>\n",
       "      <th>day</th>\n",
       "      <th>month</th>\n",
       "      <th>year</th>\n",
       "      <th>cases</th>\n",
       "      <th>deaths</th>\n",
       "      <th>countriesAndTerritories</th>\n",
       "      <th>geoId</th>\n",
       "      <th>countryterritoryCode</th>\n",
       "      <th>popData2018</th>\n",
       "      <th>continentExp</th>\n",
       "    </tr>\n",
       "  </thead>\n",
       "  <tbody>\n",
       "    <tr>\n",
       "      <th>16736</th>\n",
       "      <td>25/03/2020</td>\n",
       "      <td>25</td>\n",
       "      <td>3</td>\n",
       "      <td>2020</td>\n",
       "      <td>0</td>\n",
       "      <td>0</td>\n",
       "      <td>Zimbabwe</td>\n",
       "      <td>ZW</td>\n",
       "      <td>ZWE</td>\n",
       "      <td>14439018.0</td>\n",
       "      <td>Africa</td>\n",
       "    </tr>\n",
       "    <tr>\n",
       "      <th>16737</th>\n",
       "      <td>24/03/2020</td>\n",
       "      <td>24</td>\n",
       "      <td>3</td>\n",
       "      <td>2020</td>\n",
       "      <td>0</td>\n",
       "      <td>1</td>\n",
       "      <td>Zimbabwe</td>\n",
       "      <td>ZW</td>\n",
       "      <td>ZWE</td>\n",
       "      <td>14439018.0</td>\n",
       "      <td>Africa</td>\n",
       "    </tr>\n",
       "    <tr>\n",
       "      <th>16738</th>\n",
       "      <td>23/03/2020</td>\n",
       "      <td>23</td>\n",
       "      <td>3</td>\n",
       "      <td>2020</td>\n",
       "      <td>0</td>\n",
       "      <td>0</td>\n",
       "      <td>Zimbabwe</td>\n",
       "      <td>ZW</td>\n",
       "      <td>ZWE</td>\n",
       "      <td>14439018.0</td>\n",
       "      <td>Africa</td>\n",
       "    </tr>\n",
       "    <tr>\n",
       "      <th>16739</th>\n",
       "      <td>22/03/2020</td>\n",
       "      <td>22</td>\n",
       "      <td>3</td>\n",
       "      <td>2020</td>\n",
       "      <td>1</td>\n",
       "      <td>0</td>\n",
       "      <td>Zimbabwe</td>\n",
       "      <td>ZW</td>\n",
       "      <td>ZWE</td>\n",
       "      <td>14439018.0</td>\n",
       "      <td>Africa</td>\n",
       "    </tr>\n",
       "    <tr>\n",
       "      <th>16740</th>\n",
       "      <td>21/03/2020</td>\n",
       "      <td>21</td>\n",
       "      <td>3</td>\n",
       "      <td>2020</td>\n",
       "      <td>1</td>\n",
       "      <td>0</td>\n",
       "      <td>Zimbabwe</td>\n",
       "      <td>ZW</td>\n",
       "      <td>ZWE</td>\n",
       "      <td>14439018.0</td>\n",
       "      <td>Africa</td>\n",
       "    </tr>\n",
       "  </tbody>\n",
       "</table>\n",
       "</div>"
      ],
      "text/plain": [
       "          dateRep  day  month  year  cases  deaths countriesAndTerritories  \\\n",
       "16736  25/03/2020   25      3  2020      0       0                Zimbabwe   \n",
       "16737  24/03/2020   24      3  2020      0       1                Zimbabwe   \n",
       "16738  23/03/2020   23      3  2020      0       0                Zimbabwe   \n",
       "16739  22/03/2020   22      3  2020      1       0                Zimbabwe   \n",
       "16740  21/03/2020   21      3  2020      1       0                Zimbabwe   \n",
       "\n",
       "      geoId countryterritoryCode  popData2018 continentExp  \n",
       "16736    ZW                  ZWE   14439018.0       Africa  \n",
       "16737    ZW                  ZWE   14439018.0       Africa  \n",
       "16738    ZW                  ZWE   14439018.0       Africa  \n",
       "16739    ZW                  ZWE   14439018.0       Africa  \n",
       "16740    ZW                  ZWE   14439018.0       Africa  "
      ]
     },
     "metadata": {},
     "output_type": "display_data"
    }
   ],
   "source": [
    "display(Markdown(\"#### Description\"))\n",
    "display(eur.describe())\n",
    "display(Markdown(\"#### Head\"))\n",
    "display(eur.head())\n",
    "display(Markdown(\"#### Tail\"))\n",
    "display(eur.tail())"
   ]
  },
  {
   "cell_type": "code",
   "execution_count": 27,
   "metadata": {},
   "outputs": [
    {
     "data": {
      "text/plain": [
       "Index(['dateRep', 'day', 'month', 'year', 'cases', 'deaths',\n",
       "       'countriesAndTerritories', 'geoId', 'countryterritoryCode',\n",
       "       'popData2018', 'continentExp'],\n",
       "      dtype='object')"
      ]
     },
     "execution_count": 27,
     "metadata": {},
     "output_type": "execute_result"
    }
   ],
   "source": [
    "eur.columns"
   ]
  },
  {
   "cell_type": "markdown",
   "metadata": {},
   "source": [
    "#### Date processing\n",
    "\n",
    "In order to have an easy way to filter rows, let's generate a date column compliant with format ```YYYY-MM-DD```."
   ]
  },
  {
   "cell_type": "code",
   "execution_count": 28,
   "metadata": {},
   "outputs": [],
   "source": [
    "eur['date'] = pd.to_datetime(eur['dateRep'], infer_datetime_format=True).apply(\n",
    "    lambda x: str(x).split(\" \")[0])"
   ]
  },
  {
   "cell_type": "code",
   "execution_count": 29,
   "metadata": {},
   "outputs": [],
   "source": [
    "def showCases(df, location='ES', from_date='2020-03-01', date_limit=None):\n",
    "    if not date_limit:\n",
    "        from datetime import date\n",
    "        date_limit = date.today().strftime(\"%Y-%m-%d\")\n",
    "\n",
    "    if type(location) == 'str':\n",
    "        df = df[df.geoId==location]\n",
    "    elif type(location) == list:\n",
    "        df = df[df.geoId.isin(location)]\n",
    "    \n",
    "    df = df[df['date']>=from_date]\n",
    "    df = df[df['date']<=date_limit]\n",
    "\n",
    "    dates = list(df.date.unique())\n",
    "    dates.sort(reverse=False)\n",
    "    \n",
    "    fig, ax = plt.subplots(1,1, figsize=(16,10))\n",
    "    sns.barplot(data=df,\n",
    "                x='date',\n",
    "                y='cases',\n",
    "                label='Observed infections',\n",
    "                color='lightblue',\n",
    "                order=dates,\n",
    "                ax=ax)\n",
    "    sns.lineplot(data=df,\n",
    "                 x='date',\n",
    "                 y='deaths',\n",
    "                 label='Deaths',\n",
    "                 markers=True,\n",
    "                 dashes=True,\n",
    "                 color='m'\n",
    "                )\n",
    "    plt.xticks(rotation=90)\n",
    "    plt.title(\"Cases {} since {}\".format(location or \"Europe\", from_date))\n",
    "    plt.legend()\n",
    "    plt.savefig(\"images/eur_data.png\")\n",
    "    plt.show()"
   ]
  },
  {
   "cell_type": "code",
   "execution_count": 30,
   "metadata": {},
   "outputs": [
    {
     "data": {
      "text/plain": [
       "array(['AF', 'AL', 'DZ', 'AD', 'AO', 'AI', 'AG', 'AR', 'AM', 'AW', 'AU',\n",
       "       'AT', 'AZ', 'BS', 'BH', 'BD', 'BB', 'BY', 'BE', 'BZ', 'BJ', 'BM',\n",
       "       'BT', 'BO', 'BQ', 'BA', 'BW', 'BR', 'VG', 'BN', 'BG', 'BF', 'BI',\n",
       "       'KH', 'CM', 'CA', 'CV', 'JPG11668', 'KY', 'CF', 'TD', 'CL', 'CN',\n",
       "       'CO', 'KM', 'CG', 'CR', 'CI', 'HR', 'CU', 'CW', 'CY', 'CZ', 'CD',\n",
       "       'DK', 'DJ', 'DM', 'DO', 'EC', 'EG', 'SV', 'GQ', 'ER', 'EE', 'SZ',\n",
       "       'ET', 'FK', 'FO', 'FJ', 'FI', 'FR', 'PF', 'GA', 'GM', 'GE', 'DE',\n",
       "       'GH', 'GI', 'EL', 'GL', 'GD', 'GU', 'GT', 'GG', 'GN', 'GW', 'GY',\n",
       "       'HT', 'VA', 'HN', 'HU', 'IS', 'IN', 'ID', 'IR', 'IQ', 'IE', 'IM',\n",
       "       'IL', 'IT', 'JM', 'JP', 'JE', 'JO', 'KZ', 'KE', 'XK', 'KW', 'KG',\n",
       "       'LA', 'LV', 'LB', 'LR', 'LY', 'LI', 'LT', 'LU', 'MG', 'MW', 'MY',\n",
       "       'MV', 'ML', 'MT', 'MR', 'MU', 'MX', 'MD', 'MC', 'MN', 'ME', 'MS',\n",
       "       'MA', 'MZ', 'MM', nan, 'NP', 'NL', 'NC', 'NZ', 'NI', 'NE', 'NG',\n",
       "       'MK', 'MP', 'NO', 'OM', 'PK', 'PS', 'PA', 'PG', 'PY', 'PE', 'PH',\n",
       "       'PL', 'PT', 'PR', 'QA', 'RO', 'RU', 'RW', 'KN', 'LC', 'VC', 'SM',\n",
       "       'ST', 'SA', 'SN', 'RS', 'SC', 'SL', 'SG', 'SX', 'SK', 'SI', 'SO',\n",
       "       'ZA', 'KR', 'SS', 'ES', 'LK', 'SD', 'SR', 'SE', 'CH', 'SY', 'TW',\n",
       "       'TJ', 'TH', 'TL', 'TG', 'TT', 'TN', 'TR', 'TC', 'UG', 'UA', 'AE',\n",
       "       'UK', 'TZ', 'US', 'VI', 'UY', 'UZ', 'VE', 'VN', 'EH', 'YE', 'ZM',\n",
       "       'ZW'], dtype=object)"
      ]
     },
     "execution_count": 30,
     "metadata": {},
     "output_type": "execute_result"
    }
   ],
   "source": [
    "eur.geoId.unique()"
   ]
  },
  {
   "cell_type": "code",
   "execution_count": 31,
   "metadata": {
    "scrolled": false
   },
   "outputs": [
    {
     "data": {
      "image/png": "[encoded data removed]",
      "text/plain": [
       "<Figure size 1152x720 with 1 Axes>"
      ]
     },
     "metadata": {
      "needs_background": "light"
     },
     "output_type": "display_data"
    },
    {
     "data": {
      "image/png": "[encoded data removed]",
      "text/plain": [
       "<Figure size 1152x720 with 1 Axes>"
      ]
     },
     "metadata": {
      "needs_background": "light"
     },
     "output_type": "display_data"
    },
    {
     "data": {
      "image/png": "[encoded data removed]",
      "text/plain": [
       "<Figure size 1152x720 with 1 Axes>"
      ]
     },
     "metadata": {
      "needs_background": "light"
     },
     "output_type": "display_data"
    }
   ],
   "source": [
    "showCases(eur, location='ES', from_date='2020-03-29')\n",
    "showCases(eur, location=None, from_date='2020-03-29')\n",
    "showCases(eur, location=['ES', 'FR', 'IT', 'GE'], from_date='2020-03-15')"
   ]
  }
 ],
 "metadata": {
  "kernelspec": {
   "display_name": "Python 3",
   "language": "python",
   "name": "python3"
  },
  "language_info": {
   "codemirror_mode": {
    "name": "ipython",
    "version": 3
   },
   "file_extension": ".py",
   "mimetype": "text/x-python",
   "name": "python",
   "nbconvert_exporter": "python",
   "pygments_lexer": "ipython3",
   "version": "3.6.8"
  }
 },
 "nbformat": 4,
 "nbformat_minor": 2
}
