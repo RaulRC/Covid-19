{
 "cells": [
  {
   "cell_type": "markdown",
   "metadata": {},
   "source": [
    "# Covid19\n",
    "## Works on different public datasets\n",
    "\n",
    "The purpose of this notebook is to provide an easy to run tool in order to have better insigts that those found in the press. Here we are going to handle with different files:\n",
    "* [Instituto de Salud Carlos III](https://covid19.isciii.es/)\n",
    "* [ISCIII Daily Mortality Monitoring MoMo](https://momo.isciii.es/public/momo/dashboard/momo_dashboard.html)\n",
    "* [European Centre for Disease Prevention and Control](https://www.ecdc.europa.eu/en/publications-data/download-todays-data-geographic-distribution-covid-19-cases-worldwide)\n",
    "\n",
    "### 0. Loading libraries\n"
   ]
  },
  {
   "cell_type": "code",
   "execution_count": 1,
   "metadata": {},
   "outputs": [],
   "source": [
    "import pandas as pd\n",
    "from datetime import datetime, timedelta\n",
    "import seaborn as sns\n",
    "import matplotlib.pyplot as plt\n",
    "import numpy as np\n",
    "from IPython.display import display, HTML, Markdown"
   ]
  },
  {
   "cell_type": "markdown",
   "metadata": {},
   "source": [
    "### 1. ISCIII Dataset\n",
    "\n",
    "This section will prepare those different datasets in order to make them more easy to work with. \n",
    "\n",
    "#### Preprocessing\n",
    "\n",
    "Some considerations\n",
    "* Separator: usually changes switching between ',' and ';'.\n",
    "* Data is being updated via appending the new data (one record for each autonomous region) day by day, so the last records correspond with the more recent information.\n",
    "* **DISCLAIMER**: data provided from media differs from data displayed at some points. Moreover, several other factors could change in this dataset (as the described separator or the addition of new columns). "
   ]
  },
  {
   "cell_type": "code",
   "execution_count": 2,
   "metadata": {},
   "outputs": [],
   "source": [
    "#Spanish dataset\n",
    "df = pd.read_csv(\"https://cnecovid.isciii.es/covid19/resources/agregados.csv\", sep=',', encoding='iso-8859-1')"
   ]
  },
  {
   "cell_type": "code",
   "execution_count": 3,
   "metadata": {},
   "outputs": [
    {
     "data": {
      "text/markdown": [
       "#### Description"
      ],
      "text/plain": [
       "<IPython.core.display.Markdown object>"
      ]
     },
     "metadata": {},
     "output_type": "display_data"
    },
    {
     "data": {
      "text/html": [
       "<div>\n",
       "<style scoped>\n",
       "    .dataframe tbody tr th:only-of-type {\n",
       "        vertical-align: middle;\n",
       "    }\n",
       "\n",
       "    .dataframe tbody tr th {\n",
       "        vertical-align: top;\n",
       "    }\n",
       "\n",
       "    .dataframe thead th {\n",
       "        text-align: right;\n",
       "    }\n",
       "</style>\n",
       "<table border=\"1\" class=\"dataframe\">\n",
       "  <thead>\n",
       "    <tr style=\"text-align: right;\">\n",
       "      <th></th>\n",
       "      <th>CASOS</th>\n",
       "      <th>PCR+</th>\n",
       "      <th>TestAc+</th>\n",
       "      <th>Hospitalizados</th>\n",
       "      <th>UCI</th>\n",
       "      <th>Fallecidos</th>\n",
       "      <th>Recuperados</th>\n",
       "    </tr>\n",
       "  </thead>\n",
       "  <tbody>\n",
       "    <tr>\n",
       "      <th>count</th>\n",
       "      <td>1.0</td>\n",
       "      <td>1672.000000</td>\n",
       "      <td>636.000000</td>\n",
       "      <td>1332.000000</td>\n",
       "      <td>1366.000000</td>\n",
       "      <td>1349.000000</td>\n",
       "      <td>1344.00000</td>\n",
       "    </tr>\n",
       "    <tr>\n",
       "      <th>mean</th>\n",
       "      <td>0.0</td>\n",
       "      <td>6116.005383</td>\n",
       "      <td>1422.831761</td>\n",
       "      <td>3626.777027</td>\n",
       "      <td>348.263543</td>\n",
       "      <td>787.598962</td>\n",
       "      <td>3342.34003</td>\n",
       "    </tr>\n",
       "    <tr>\n",
       "      <th>std</th>\n",
       "      <td>NaN</td>\n",
       "      <td>12324.601297</td>\n",
       "      <td>1739.491199</td>\n",
       "      <td>6905.646643</td>\n",
       "      <td>640.803237</td>\n",
       "      <td>1588.900422</td>\n",
       "      <td>6899.42937</td>\n",
       "    </tr>\n",
       "    <tr>\n",
       "      <th>min</th>\n",
       "      <td>0.0</td>\n",
       "      <td>0.000000</td>\n",
       "      <td>0.000000</td>\n",
       "      <td>0.000000</td>\n",
       "      <td>0.000000</td>\n",
       "      <td>0.000000</td>\n",
       "      <td>0.00000</td>\n",
       "    </tr>\n",
       "    <tr>\n",
       "      <th>25%</th>\n",
       "      <td>0.0</td>\n",
       "      <td>62.000000</td>\n",
       "      <td>110.750000</td>\n",
       "      <td>240.000000</td>\n",
       "      <td>25.000000</td>\n",
       "      <td>15.000000</td>\n",
       "      <td>36.75000</td>\n",
       "    </tr>\n",
       "    <tr>\n",
       "      <th>50%</th>\n",
       "      <td>0.0</td>\n",
       "      <td>1636.500000</td>\n",
       "      <td>838.500000</td>\n",
       "      <td>1134.000000</td>\n",
       "      <td>118.000000</td>\n",
       "      <td>188.000000</td>\n",
       "      <td>799.00000</td>\n",
       "    </tr>\n",
       "    <tr>\n",
       "      <th>75%</th>\n",
       "      <td>0.0</td>\n",
       "      <td>5461.500000</td>\n",
       "      <td>1830.000000</td>\n",
       "      <td>3808.250000</td>\n",
       "      <td>359.250000</td>\n",
       "      <td>739.000000</td>\n",
       "      <td>2870.25000</td>\n",
       "    </tr>\n",
       "    <tr>\n",
       "      <th>max</th>\n",
       "      <td>0.0</td>\n",
       "      <td>66302.000000</td>\n",
       "      <td>8366.000000</td>\n",
       "      <td>42283.000000</td>\n",
       "      <td>3594.000000</td>\n",
       "      <td>8863.000000</td>\n",
       "      <td>40736.00000</td>\n",
       "    </tr>\n",
       "  </tbody>\n",
       "</table>\n",
       "</div>"
      ],
      "text/plain": [
       "       CASOS          PCR+      TestAc+  Hospitalizados          UCI  \\\n",
       "count    1.0   1672.000000   636.000000     1332.000000  1366.000000   \n",
       "mean     0.0   6116.005383  1422.831761     3626.777027   348.263543   \n",
       "std      NaN  12324.601297  1739.491199     6905.646643   640.803237   \n",
       "min      0.0      0.000000     0.000000        0.000000     0.000000   \n",
       "25%      0.0     62.000000   110.750000      240.000000    25.000000   \n",
       "50%      0.0   1636.500000   838.500000     1134.000000   118.000000   \n",
       "75%      0.0   5461.500000  1830.000000     3808.250000   359.250000   \n",
       "max      0.0  66302.000000  8366.000000    42283.000000  3594.000000   \n",
       "\n",
       "        Fallecidos  Recuperados  \n",
       "count  1349.000000   1344.00000  \n",
       "mean    787.598962   3342.34003  \n",
       "std    1588.900422   6899.42937  \n",
       "min       0.000000      0.00000  \n",
       "25%      15.000000     36.75000  \n",
       "50%     188.000000    799.00000  \n",
       "75%     739.000000   2870.25000  \n",
       "max    8863.000000  40736.00000  "
      ]
     },
     "metadata": {},
     "output_type": "display_data"
    },
    {
     "data": {
      "text/markdown": [
       "#### Head"
      ],
      "text/plain": [
       "<IPython.core.display.Markdown object>"
      ]
     },
     "metadata": {},
     "output_type": "display_data"
    },
    {
     "data": {
      "text/html": [
       "<div>\n",
       "<style scoped>\n",
       "    .dataframe tbody tr th:only-of-type {\n",
       "        vertical-align: middle;\n",
       "    }\n",
       "\n",
       "    .dataframe tbody tr th {\n",
       "        vertical-align: top;\n",
       "    }\n",
       "\n",
       "    .dataframe thead th {\n",
       "        text-align: right;\n",
       "    }\n",
       "</style>\n",
       "<table border=\"1\" class=\"dataframe\">\n",
       "  <thead>\n",
       "    <tr style=\"text-align: right;\">\n",
       "      <th></th>\n",
       "      <th>CCAA</th>\n",
       "      <th>FECHA</th>\n",
       "      <th>CASOS</th>\n",
       "      <th>PCR+</th>\n",
       "      <th>TestAc+</th>\n",
       "      <th>Hospitalizados</th>\n",
       "      <th>UCI</th>\n",
       "      <th>Fallecidos</th>\n",
       "      <th>Recuperados</th>\n",
       "    </tr>\n",
       "  </thead>\n",
       "  <tbody>\n",
       "    <tr>\n",
       "      <th>0</th>\n",
       "      <td>AN</td>\n",
       "      <td>20/2/2020</td>\n",
       "      <td>0.0</td>\n",
       "      <td>0.0</td>\n",
       "      <td>NaN</td>\n",
       "      <td>NaN</td>\n",
       "      <td>NaN</td>\n",
       "      <td>NaN</td>\n",
       "      <td>NaN</td>\n",
       "    </tr>\n",
       "    <tr>\n",
       "      <th>1</th>\n",
       "      <td>AR</td>\n",
       "      <td>20/2/2020</td>\n",
       "      <td>NaN</td>\n",
       "      <td>0.0</td>\n",
       "      <td>NaN</td>\n",
       "      <td>NaN</td>\n",
       "      <td>NaN</td>\n",
       "      <td>NaN</td>\n",
       "      <td>NaN</td>\n",
       "    </tr>\n",
       "    <tr>\n",
       "      <th>2</th>\n",
       "      <td>AS</td>\n",
       "      <td>20/2/2020</td>\n",
       "      <td>NaN</td>\n",
       "      <td>0.0</td>\n",
       "      <td>NaN</td>\n",
       "      <td>NaN</td>\n",
       "      <td>NaN</td>\n",
       "      <td>NaN</td>\n",
       "      <td>NaN</td>\n",
       "    </tr>\n",
       "    <tr>\n",
       "      <th>3</th>\n",
       "      <td>IB</td>\n",
       "      <td>20/2/2020</td>\n",
       "      <td>NaN</td>\n",
       "      <td>1.0</td>\n",
       "      <td>NaN</td>\n",
       "      <td>NaN</td>\n",
       "      <td>NaN</td>\n",
       "      <td>NaN</td>\n",
       "      <td>NaN</td>\n",
       "    </tr>\n",
       "    <tr>\n",
       "      <th>4</th>\n",
       "      <td>CN</td>\n",
       "      <td>20/2/2020</td>\n",
       "      <td>NaN</td>\n",
       "      <td>1.0</td>\n",
       "      <td>NaN</td>\n",
       "      <td>NaN</td>\n",
       "      <td>NaN</td>\n",
       "      <td>NaN</td>\n",
       "      <td>NaN</td>\n",
       "    </tr>\n",
       "  </tbody>\n",
       "</table>\n",
       "</div>"
      ],
      "text/plain": [
       "  CCAA      FECHA  CASOS  PCR+  TestAc+  Hospitalizados  UCI  Fallecidos  \\\n",
       "0   AN  20/2/2020    0.0   0.0      NaN             NaN  NaN         NaN   \n",
       "1   AR  20/2/2020    NaN   0.0      NaN             NaN  NaN         NaN   \n",
       "2   AS  20/2/2020    NaN   0.0      NaN             NaN  NaN         NaN   \n",
       "3   IB  20/2/2020    NaN   1.0      NaN             NaN  NaN         NaN   \n",
       "4   CN  20/2/2020    NaN   1.0      NaN             NaN  NaN         NaN   \n",
       "\n",
       "   Recuperados  \n",
       "0          NaN  \n",
       "1          NaN  \n",
       "2          NaN  \n",
       "3          NaN  \n",
       "4          NaN  "
      ]
     },
     "metadata": {},
     "output_type": "display_data"
    },
    {
     "data": {
      "text/markdown": [
       "#### Tail"
      ],
      "text/plain": [
       "<IPython.core.display.Markdown object>"
      ]
     },
     "metadata": {},
     "output_type": "display_data"
    },
    {
     "data": {
      "text/html": [
       "<div>\n",
       "<style scoped>\n",
       "    .dataframe tbody tr th:only-of-type {\n",
       "        vertical-align: middle;\n",
       "    }\n",
       "\n",
       "    .dataframe tbody tr th {\n",
       "        vertical-align: top;\n",
       "    }\n",
       "\n",
       "    .dataframe thead th {\n",
       "        text-align: right;\n",
       "    }\n",
       "</style>\n",
       "<table border=\"1\" class=\"dataframe\">\n",
       "  <thead>\n",
       "    <tr style=\"text-align: right;\">\n",
       "      <th></th>\n",
       "      <th>CCAA</th>\n",
       "      <th>FECHA</th>\n",
       "      <th>CASOS</th>\n",
       "      <th>PCR+</th>\n",
       "      <th>TestAc+</th>\n",
       "      <th>Hospitalizados</th>\n",
       "      <th>UCI</th>\n",
       "      <th>Fallecidos</th>\n",
       "      <th>Recuperados</th>\n",
       "    </tr>\n",
       "  </thead>\n",
       "  <tbody>\n",
       "    <tr>\n",
       "      <th>1675</th>\n",
       "      <td>**Desde el día 28/04/2020 las cifras  UCIs de ...</td>\n",
       "      <td>NaN</td>\n",
       "      <td>NaN</td>\n",
       "      <td>NaN</td>\n",
       "      <td>NaN</td>\n",
       "      <td>NaN</td>\n",
       "      <td>NaN</td>\n",
       "      <td>NaN</td>\n",
       "      <td>NaN</td>\n",
       "    </tr>\n",
       "    <tr>\n",
       "      <th>1676</th>\n",
       "      <td>*** Desde el día 11/04/2020 las cifras de hosp...</td>\n",
       "      <td>NaN</td>\n",
       "      <td>NaN</td>\n",
       "      <td>NaN</td>\n",
       "      <td>NaN</td>\n",
       "      <td>NaN</td>\n",
       "      <td>NaN</td>\n",
       "      <td>NaN</td>\n",
       "      <td>NaN</td>\n",
       "    </tr>\n",
       "    <tr>\n",
       "      <th>1677</th>\n",
       "      <td>*** Desde el día 12/04/2020 las cifras de UCIs...</td>\n",
       "      <td>NaN</td>\n",
       "      <td>NaN</td>\n",
       "      <td>NaN</td>\n",
       "      <td>NaN</td>\n",
       "      <td>NaN</td>\n",
       "      <td>NaN</td>\n",
       "      <td>NaN</td>\n",
       "      <td>NaN</td>\n",
       "    </tr>\n",
       "    <tr>\n",
       "      <th>1678</th>\n",
       "      <td>**** Desde el día 26/04/2020 las cifras de Hos...</td>\n",
       "      <td>NaN</td>\n",
       "      <td>NaN</td>\n",
       "      <td>NaN</td>\n",
       "      <td>NaN</td>\n",
       "      <td>NaN</td>\n",
       "      <td>NaN</td>\n",
       "      <td>NaN</td>\n",
       "      <td>NaN</td>\n",
       "    </tr>\n",
       "    <tr>\n",
       "      <th>1679</th>\n",
       "      <td>NOTA 3:Se excluyen de la serie las notificacio...</td>\n",
       "      <td>NaN</td>\n",
       "      <td>NaN</td>\n",
       "      <td>NaN</td>\n",
       "      <td>NaN</td>\n",
       "      <td>NaN</td>\n",
       "      <td>NaN</td>\n",
       "      <td>NaN</td>\n",
       "      <td>NaN</td>\n",
       "    </tr>\n",
       "  </tbody>\n",
       "</table>\n",
       "</div>"
      ],
      "text/plain": [
       "                                                   CCAA FECHA  CASOS  PCR+  \\\n",
       "1675  **Desde el día 28/04/2020 las cifras  UCIs de ...   NaN    NaN   NaN   \n",
       "1676  *** Desde el día 11/04/2020 las cifras de hosp...   NaN    NaN   NaN   \n",
       "1677  *** Desde el día 12/04/2020 las cifras de UCIs...   NaN    NaN   NaN   \n",
       "1678  **** Desde el día 26/04/2020 las cifras de Hos...   NaN    NaN   NaN   \n",
       "1679  NOTA 3:Se excluyen de la serie las notificacio...   NaN    NaN   NaN   \n",
       "\n",
       "      TestAc+  Hospitalizados  UCI  Fallecidos  Recuperados  \n",
       "1675      NaN             NaN  NaN         NaN          NaN  \n",
       "1676      NaN             NaN  NaN         NaN          NaN  \n",
       "1677      NaN             NaN  NaN         NaN          NaN  \n",
       "1678      NaN             NaN  NaN         NaN          NaN  \n",
       "1679      NaN             NaN  NaN         NaN          NaN  "
      ]
     },
     "metadata": {},
     "output_type": "display_data"
    }
   ],
   "source": [
    "display(Markdown(\"#### Description\"))\n",
    "display(df.describe())\n",
    "display(Markdown(\"#### Head\"))\n",
    "display(df.head())\n",
    "display(Markdown(\"#### Tail\"))\n",
    "display(df.tail())"
   ]
  },
  {
   "cell_type": "code",
   "execution_count": 4,
   "metadata": {},
   "outputs": [
    {
     "data": {
      "text/plain": [
       "Index(['CCAA', 'FECHA', 'CASOS', 'PCR+', 'TestAc+', 'Hospitalizados', 'UCI',\n",
       "       'Fallecidos', 'Recuperados'],\n",
       "      dtype='object')"
      ]
     },
     "execution_count": 4,
     "metadata": {},
     "output_type": "execute_result"
    }
   ],
   "source": [
    "df.columns"
   ]
  },
  {
   "cell_type": "markdown",
   "metadata": {},
   "source": [
    "#### Dataset information\n",
    "\n",
    "* ```CCAA```: region code\n",
    "* ```FECHA```: date of the record\n",
    "* ```CASOS```: new infections detected (mainly empty)\n",
    "* ```PCR+```: referring to the ```CASOS``` means the new infections detected via a positive [PCR test](https://en.wikipedia.org/wiki/Polymerase_chain_reaction)\n",
    "* ```TestAc+```: Similar to the ```PCR+```. Quick test focused on Antibodies\n",
    "* ```Hospitalizados```: hospitalized people related with Covid-19\n",
    "* ```UCI```: hospitalized people who require Intensive Care Units\n",
    "* ```Fallecidos```: deceased people\n",
    "* ```Recuperados```: recovered people\n",
    "\n",
    "Let's have a look at their content. "
   ]
  },
  {
   "cell_type": "code",
   "execution_count": 5,
   "metadata": {},
   "outputs": [
    {
     "data": {
      "text/html": [
       "<div>\n",
       "<style scoped>\n",
       "    .dataframe tbody tr th:only-of-type {\n",
       "        vertical-align: middle;\n",
       "    }\n",
       "\n",
       "    .dataframe tbody tr th {\n",
       "        vertical-align: top;\n",
       "    }\n",
       "\n",
       "    .dataframe thead th {\n",
       "        text-align: right;\n",
       "    }\n",
       "</style>\n",
       "<table border=\"1\" class=\"dataframe\">\n",
       "  <thead>\n",
       "    <tr style=\"text-align: right;\">\n",
       "      <th></th>\n",
       "      <th>CCAA</th>\n",
       "      <th>FECHA</th>\n",
       "      <th>CASOS</th>\n",
       "      <th>PCR+</th>\n",
       "      <th>TestAc+</th>\n",
       "      <th>Hospitalizados</th>\n",
       "      <th>UCI</th>\n",
       "      <th>Fallecidos</th>\n",
       "      <th>Recuperados</th>\n",
       "    </tr>\n",
       "  </thead>\n",
       "  <tbody>\n",
       "    <tr>\n",
       "      <th>0</th>\n",
       "      <td>AN</td>\n",
       "      <td>20/2/2020</td>\n",
       "      <td>0.0</td>\n",
       "      <td>0.0</td>\n",
       "      <td>NaN</td>\n",
       "      <td>NaN</td>\n",
       "      <td>NaN</td>\n",
       "      <td>NaN</td>\n",
       "      <td>NaN</td>\n",
       "    </tr>\n",
       "    <tr>\n",
       "      <th>1</th>\n",
       "      <td>AR</td>\n",
       "      <td>20/2/2020</td>\n",
       "      <td>NaN</td>\n",
       "      <td>0.0</td>\n",
       "      <td>NaN</td>\n",
       "      <td>NaN</td>\n",
       "      <td>NaN</td>\n",
       "      <td>NaN</td>\n",
       "      <td>NaN</td>\n",
       "    </tr>\n",
       "    <tr>\n",
       "      <th>2</th>\n",
       "      <td>AS</td>\n",
       "      <td>20/2/2020</td>\n",
       "      <td>NaN</td>\n",
       "      <td>0.0</td>\n",
       "      <td>NaN</td>\n",
       "      <td>NaN</td>\n",
       "      <td>NaN</td>\n",
       "      <td>NaN</td>\n",
       "      <td>NaN</td>\n",
       "    </tr>\n",
       "    <tr>\n",
       "      <th>3</th>\n",
       "      <td>IB</td>\n",
       "      <td>20/2/2020</td>\n",
       "      <td>NaN</td>\n",
       "      <td>1.0</td>\n",
       "      <td>NaN</td>\n",
       "      <td>NaN</td>\n",
       "      <td>NaN</td>\n",
       "      <td>NaN</td>\n",
       "      <td>NaN</td>\n",
       "    </tr>\n",
       "    <tr>\n",
       "      <th>4</th>\n",
       "      <td>CN</td>\n",
       "      <td>20/2/2020</td>\n",
       "      <td>NaN</td>\n",
       "      <td>1.0</td>\n",
       "      <td>NaN</td>\n",
       "      <td>NaN</td>\n",
       "      <td>NaN</td>\n",
       "      <td>NaN</td>\n",
       "      <td>NaN</td>\n",
       "    </tr>\n",
       "  </tbody>\n",
       "</table>\n",
       "</div>"
      ],
      "text/plain": [
       "  CCAA      FECHA  CASOS  PCR+  TestAc+  Hospitalizados  UCI  Fallecidos  \\\n",
       "0   AN  20/2/2020    0.0   0.0      NaN             NaN  NaN         NaN   \n",
       "1   AR  20/2/2020    NaN   0.0      NaN             NaN  NaN         NaN   \n",
       "2   AS  20/2/2020    NaN   0.0      NaN             NaN  NaN         NaN   \n",
       "3   IB  20/2/2020    NaN   1.0      NaN             NaN  NaN         NaN   \n",
       "4   CN  20/2/2020    NaN   1.0      NaN             NaN  NaN         NaN   \n",
       "\n",
       "   Recuperados  \n",
       "0          NaN  \n",
       "1          NaN  \n",
       "2          NaN  \n",
       "3          NaN  \n",
       "4          NaN  "
      ]
     },
     "execution_count": 5,
     "metadata": {},
     "output_type": "execute_result"
    }
   ],
   "source": [
    "df.head()"
   ]
  },
  {
   "cell_type": "code",
   "execution_count": 6,
   "metadata": {},
   "outputs": [
    {
     "data": {
      "text/html": [
       "<div>\n",
       "<style scoped>\n",
       "    .dataframe tbody tr th:only-of-type {\n",
       "        vertical-align: middle;\n",
       "    }\n",
       "\n",
       "    .dataframe tbody tr th {\n",
       "        vertical-align: top;\n",
       "    }\n",
       "\n",
       "    .dataframe thead th {\n",
       "        text-align: right;\n",
       "    }\n",
       "</style>\n",
       "<table border=\"1\" class=\"dataframe\">\n",
       "  <thead>\n",
       "    <tr style=\"text-align: right;\">\n",
       "      <th></th>\n",
       "      <th>CCAA</th>\n",
       "      <th>FECHA</th>\n",
       "      <th>CASOS</th>\n",
       "      <th>PCR+</th>\n",
       "      <th>TestAc+</th>\n",
       "      <th>Hospitalizados</th>\n",
       "      <th>UCI</th>\n",
       "      <th>Fallecidos</th>\n",
       "      <th>Recuperados</th>\n",
       "    </tr>\n",
       "  </thead>\n",
       "  <tbody>\n",
       "    <tr>\n",
       "      <th>1675</th>\n",
       "      <td>**Desde el día 28/04/2020 las cifras  UCIs de ...</td>\n",
       "      <td>NaN</td>\n",
       "      <td>NaN</td>\n",
       "      <td>NaN</td>\n",
       "      <td>NaN</td>\n",
       "      <td>NaN</td>\n",
       "      <td>NaN</td>\n",
       "      <td>NaN</td>\n",
       "      <td>NaN</td>\n",
       "    </tr>\n",
       "    <tr>\n",
       "      <th>1676</th>\n",
       "      <td>*** Desde el día 11/04/2020 las cifras de hosp...</td>\n",
       "      <td>NaN</td>\n",
       "      <td>NaN</td>\n",
       "      <td>NaN</td>\n",
       "      <td>NaN</td>\n",
       "      <td>NaN</td>\n",
       "      <td>NaN</td>\n",
       "      <td>NaN</td>\n",
       "      <td>NaN</td>\n",
       "    </tr>\n",
       "    <tr>\n",
       "      <th>1677</th>\n",
       "      <td>*** Desde el día 12/04/2020 las cifras de UCIs...</td>\n",
       "      <td>NaN</td>\n",
       "      <td>NaN</td>\n",
       "      <td>NaN</td>\n",
       "      <td>NaN</td>\n",
       "      <td>NaN</td>\n",
       "      <td>NaN</td>\n",
       "      <td>NaN</td>\n",
       "      <td>NaN</td>\n",
       "    </tr>\n",
       "    <tr>\n",
       "      <th>1678</th>\n",
       "      <td>**** Desde el día 26/04/2020 las cifras de Hos...</td>\n",
       "      <td>NaN</td>\n",
       "      <td>NaN</td>\n",
       "      <td>NaN</td>\n",
       "      <td>NaN</td>\n",
       "      <td>NaN</td>\n",
       "      <td>NaN</td>\n",
       "      <td>NaN</td>\n",
       "      <td>NaN</td>\n",
       "    </tr>\n",
       "    <tr>\n",
       "      <th>1679</th>\n",
       "      <td>NOTA 3:Se excluyen de la serie las notificacio...</td>\n",
       "      <td>NaN</td>\n",
       "      <td>NaN</td>\n",
       "      <td>NaN</td>\n",
       "      <td>NaN</td>\n",
       "      <td>NaN</td>\n",
       "      <td>NaN</td>\n",
       "      <td>NaN</td>\n",
       "      <td>NaN</td>\n",
       "    </tr>\n",
       "  </tbody>\n",
       "</table>\n",
       "</div>"
      ],
      "text/plain": [
       "                                                   CCAA FECHA  CASOS  PCR+  \\\n",
       "1675  **Desde el día 28/04/2020 las cifras  UCIs de ...   NaN    NaN   NaN   \n",
       "1676  *** Desde el día 11/04/2020 las cifras de hosp...   NaN    NaN   NaN   \n",
       "1677  *** Desde el día 12/04/2020 las cifras de UCIs...   NaN    NaN   NaN   \n",
       "1678  **** Desde el día 26/04/2020 las cifras de Hos...   NaN    NaN   NaN   \n",
       "1679  NOTA 3:Se excluyen de la serie las notificacio...   NaN    NaN   NaN   \n",
       "\n",
       "      TestAc+  Hospitalizados  UCI  Fallecidos  Recuperados  \n",
       "1675      NaN             NaN  NaN         NaN          NaN  \n",
       "1676      NaN             NaN  NaN         NaN          NaN  \n",
       "1677      NaN             NaN  NaN         NaN          NaN  \n",
       "1678      NaN             NaN  NaN         NaN          NaN  \n",
       "1679      NaN             NaN  NaN         NaN          NaN  "
      ]
     },
     "execution_count": 6,
     "metadata": {},
     "output_type": "execute_result"
    }
   ],
   "source": [
    "df.tail()"
   ]
  },
  {
   "cell_type": "code",
   "execution_count": 7,
   "metadata": {},
   "outputs": [
    {
     "data": {
      "text/plain": [
       "array(['AN', 'AR', 'AS', 'IB', 'CN', 'CB', 'CM', 'CL', 'CT', 'CE', 'VC',\n",
       "       'EX', 'GA', 'MD', 'ML', 'MC', 'NC', 'PV', 'RI',\n",
       "       'NOTA 1: El objetivo de los datos que se publican en esta web es saber el número de casos acumulados a la fecha y que por tanto no se puede deducir que la diferencia entre un día y el anterior es el número de casos nuevos ya que esos casos pueden haber sido recuperados de fechas anteriores. Cualquier inferencia que se haga sobre las diferencias de un día para otro deben hacerse con precaución y son únicamente la responsabilidad del autor.',\n",
       "       'NOTA 2: Los datos de estas comunidades son datos de prevalencia (personas ingresadas a fecha de hoy). No reflejan el total de personas que han sido hospitalizadas o ingresadas en UCI\\xa0 a lo largo del periodo de notificación(CL(UCIs*)-GA(UCIS**)-CM***-MD****)',\n",
       "       '* Desde el día 17/04/2020 las cifras de UCIs de CL son casos acumulados. Previamente se refieren a personas ingresadas ese día.',\n",
       "       '**Desde el día 28/04/2020 las cifras  UCIs de GA  son casos acumulados. Previamente se refieren a personas ingresadas ese día. Se actualizará la serie cuando esté disponible.',\n",
       "       '*** Desde el día 11/04/2020 las cifras de hospitalizados de CM son casos acumulados. Previamente se refieren a personas ingresadas ese día.',\n",
       "       '*** Desde el día 12/04/2020 las cifras de UCIs de CM son casos acumulados. Previamente se refieren a personas ingresadas ese día.',\n",
       "       '**** Desde el día 26/04/2020 las cifras de Hospitalizados y UCIs de MD son casos acumulados. Previamente se refieren a personas ingresadas ese día. Se actualizará la serie cuando esté disponible',\n",
       "       'NOTA 3:Se excluyen de la serie las notificaciones de personas  con anticuerpos positivos sin síntomas en el momento de realización de la prueba en los que no se puede establecer un momento de contagio ni si han padecido o no la enfermedad.'],\n",
       "      dtype=object)"
      ]
     },
     "execution_count": 7,
     "metadata": {},
     "output_type": "execute_result"
    }
   ],
   "source": [
    "df['CCAA'].unique()"
   ]
  },
  {
   "cell_type": "markdown",
   "metadata": {},
   "source": [
    "#### Conclusions up to here\n",
    "\n",
    "There are plenty of missing information and also a lot of noise in the data. Data is not properly indexed by date. In fact, data is being updated via appending the new data (one record for each region) day by day, so the last records correspond with the more recent information. The idea is to correct this problems and reconstruct the whole time series. Let's handle this. \n",
    "\n",
    "First of all, identify the region code in order to filter. "
   ]
  },
  {
   "cell_type": "code",
   "execution_count": 8,
   "metadata": {},
   "outputs": [],
   "source": [
    "region = ['AN', 'AR', 'AS', 'IB', 'CN',\n",
    "         'CB', 'CM', 'CL', 'CT', 'CE',\n",
    "         'VC', 'EX', 'GA', 'MD', 'ML',\n",
    "         'MC', 'NC', 'PV', 'RI']\n"
   ]
  },
  {
   "cell_type": "code",
   "execution_count": 9,
   "metadata": {},
   "outputs": [],
   "source": [
    "# Filter record based on valid region\n",
    "df = df[df['CCAA'].isin(region)]"
   ]
  },
  {
   "cell_type": "code",
   "execution_count": 10,
   "metadata": {},
   "outputs": [
    {
     "data": {
      "text/html": [
       "<div>\n",
       "<style scoped>\n",
       "    .dataframe tbody tr th:only-of-type {\n",
       "        vertical-align: middle;\n",
       "    }\n",
       "\n",
       "    .dataframe tbody tr th {\n",
       "        vertical-align: top;\n",
       "    }\n",
       "\n",
       "    .dataframe thead th {\n",
       "        text-align: right;\n",
       "    }\n",
       "</style>\n",
       "<table border=\"1\" class=\"dataframe\">\n",
       "  <thead>\n",
       "    <tr style=\"text-align: right;\">\n",
       "      <th></th>\n",
       "      <th>CCAA</th>\n",
       "      <th>FECHA</th>\n",
       "      <th>CASOS</th>\n",
       "      <th>PCR+</th>\n",
       "      <th>TestAc+</th>\n",
       "      <th>Hospitalizados</th>\n",
       "      <th>UCI</th>\n",
       "      <th>Fallecidos</th>\n",
       "      <th>Recuperados</th>\n",
       "    </tr>\n",
       "  </thead>\n",
       "  <tbody>\n",
       "    <tr>\n",
       "      <th>0</th>\n",
       "      <td>AN</td>\n",
       "      <td>20/2/2020</td>\n",
       "      <td>0.0</td>\n",
       "      <td>0.0</td>\n",
       "      <td>NaN</td>\n",
       "      <td>NaN</td>\n",
       "      <td>NaN</td>\n",
       "      <td>NaN</td>\n",
       "      <td>NaN</td>\n",
       "    </tr>\n",
       "    <tr>\n",
       "      <th>1</th>\n",
       "      <td>AR</td>\n",
       "      <td>20/2/2020</td>\n",
       "      <td>NaN</td>\n",
       "      <td>0.0</td>\n",
       "      <td>NaN</td>\n",
       "      <td>NaN</td>\n",
       "      <td>NaN</td>\n",
       "      <td>NaN</td>\n",
       "      <td>NaN</td>\n",
       "    </tr>\n",
       "    <tr>\n",
       "      <th>2</th>\n",
       "      <td>AS</td>\n",
       "      <td>20/2/2020</td>\n",
       "      <td>NaN</td>\n",
       "      <td>0.0</td>\n",
       "      <td>NaN</td>\n",
       "      <td>NaN</td>\n",
       "      <td>NaN</td>\n",
       "      <td>NaN</td>\n",
       "      <td>NaN</td>\n",
       "    </tr>\n",
       "    <tr>\n",
       "      <th>3</th>\n",
       "      <td>IB</td>\n",
       "      <td>20/2/2020</td>\n",
       "      <td>NaN</td>\n",
       "      <td>1.0</td>\n",
       "      <td>NaN</td>\n",
       "      <td>NaN</td>\n",
       "      <td>NaN</td>\n",
       "      <td>NaN</td>\n",
       "      <td>NaN</td>\n",
       "    </tr>\n",
       "    <tr>\n",
       "      <th>4</th>\n",
       "      <td>CN</td>\n",
       "      <td>20/2/2020</td>\n",
       "      <td>NaN</td>\n",
       "      <td>1.0</td>\n",
       "      <td>NaN</td>\n",
       "      <td>NaN</td>\n",
       "      <td>NaN</td>\n",
       "      <td>NaN</td>\n",
       "      <td>NaN</td>\n",
       "    </tr>\n",
       "  </tbody>\n",
       "</table>\n",
       "</div>"
      ],
      "text/plain": [
       "  CCAA      FECHA  CASOS  PCR+  TestAc+  Hospitalizados  UCI  Fallecidos  \\\n",
       "0   AN  20/2/2020    0.0   0.0      NaN             NaN  NaN         NaN   \n",
       "1   AR  20/2/2020    NaN   0.0      NaN             NaN  NaN         NaN   \n",
       "2   AS  20/2/2020    NaN   0.0      NaN             NaN  NaN         NaN   \n",
       "3   IB  20/2/2020    NaN   1.0      NaN             NaN  NaN         NaN   \n",
       "4   CN  20/2/2020    NaN   1.0      NaN             NaN  NaN         NaN   \n",
       "\n",
       "   Recuperados  \n",
       "0          NaN  \n",
       "1          NaN  \n",
       "2          NaN  \n",
       "3          NaN  \n",
       "4          NaN  "
      ]
     },
     "execution_count": 10,
     "metadata": {},
     "output_type": "execute_result"
    }
   ],
   "source": [
    "df.head()"
   ]
  },
  {
   "cell_type": "markdown",
   "metadata": {},
   "source": [
    "#### Reconstruct time series\n",
    "\n",
    "In this step we're going to fix some issues in data:\n",
    "* Fill ```CASOS``` column. This could be calculated based on the difference between ```PCR+``` day by day\n",
    "* Reconstruct the time series. At the moment, the features reflect the snapshot of the day by day, but there are no features representing the increments between dates. For this pupose, the reconstruction of the time series consist on calculate those increments on new features. In this manner, the following features will reflect the variation for those data respect the day before:\n",
    "    * ```IncHospitalizados```\n",
    "    * ```IncUCI```\n",
    "    * ```IncFallecidos```\n",
    "    * ```IncRescuperados```"
   ]
  },
  {
   "cell_type": "code",
   "execution_count": 11,
   "metadata": {},
   "outputs": [],
   "source": [
    "def rebuildSeries(df, ndays):\n",
    "    \"\"\"\n",
    "    df: Pandas DataFrame:  dataframe to reconstruct\n",
    "    ndays: Integer: how many days to calculate backwards\n",
    "    return: DataFrame reconstructed with new features\n",
    "    \"\"\"\n",
    "    cols = ['FECHA', 'CCAA', 'CASOS', 'PCR+', 'TestAc+', 'Hospitalizados',\n",
    "            'UCI', 'Fallecidos', 'Recuperados', 'ActiveCases']\n",
    "    rebuilt = list()\n",
    "    for i in range(1,ndays + 1):\n",
    "        limit = -(i-1)*len(region)\n",
    "        if limit != 0:\n",
    "            today = df.iloc[-i*len(region):limit]\n",
    "        else:\n",
    "            today = df.iloc[-i*len(region):]\n",
    "        today = today.sort_values('CCAA')\n",
    "        today['FECHA'] = (datetime.now() - timedelta(days=i-1)).strftime(\"%Y-%m-%d\") \n",
    "        yesterday = df.iloc[-(i+1) *len(region):-i*len(region)].sort_values('CCAA')\n",
    "        assert today.shape == yesterday.shape, \"Shapes do not fit [{}] {} vs {}\".format(i, \n",
    "                                                                                        today.shape,\n",
    "                                                                                        yesterday.shape)\n",
    "        today['CASOS'] = (today['PCR+'].reset_index() - yesterday['PCR+'].reset_index())['PCR+'].to_numpy()\n",
    "        today['ActiveCases'] = today['PCR+'] - today['Recuperados']\n",
    "        today = today[cols]\n",
    "        \n",
    "        for item in ['Hospitalizados', 'UCI', 'Fallecidos', 'Recuperados']:\n",
    "            today['Inc' + item] = (today[item].reset_index() -\n",
    "                                   yesterday[item].reset_index())[item].to_numpy()\n",
    "        today.reset_index()\n",
    "        rebuilt.append(today)\n",
    "    rebuilt.reverse()\n",
    "    return pd.concat(rebuilt, ignore_index=True)"
   ]
  },
  {
   "cell_type": "markdown",
   "metadata": {},
   "source": [
    "#### Rebuild 60 days backwards"
   ]
  },
  {
   "cell_type": "code",
   "execution_count": 12,
   "metadata": {},
   "outputs": [],
   "source": [
    "res = rebuildSeries(df, 60)"
   ]
  },
  {
   "cell_type": "code",
   "execution_count": 13,
   "metadata": {},
   "outputs": [
    {
     "data": {
      "text/html": [
       "<div>\n",
       "<style scoped>\n",
       "    .dataframe tbody tr th:only-of-type {\n",
       "        vertical-align: middle;\n",
       "    }\n",
       "\n",
       "    .dataframe tbody tr th {\n",
       "        vertical-align: top;\n",
       "    }\n",
       "\n",
       "    .dataframe thead th {\n",
       "        text-align: right;\n",
       "    }\n",
       "</style>\n",
       "<table border=\"1\" class=\"dataframe\">\n",
       "  <thead>\n",
       "    <tr style=\"text-align: right;\">\n",
       "      <th></th>\n",
       "      <th>FECHA</th>\n",
       "      <th>CCAA</th>\n",
       "      <th>CASOS</th>\n",
       "      <th>PCR+</th>\n",
       "      <th>TestAc+</th>\n",
       "      <th>Hospitalizados</th>\n",
       "      <th>UCI</th>\n",
       "      <th>Fallecidos</th>\n",
       "      <th>Recuperados</th>\n",
       "      <th>ActiveCases</th>\n",
       "      <th>IncHospitalizados</th>\n",
       "      <th>IncUCI</th>\n",
       "      <th>IncFallecidos</th>\n",
       "      <th>IncRecuperados</th>\n",
       "    </tr>\n",
       "  </thead>\n",
       "  <tbody>\n",
       "    <tr>\n",
       "      <th>1120</th>\n",
       "      <td>2020-05-19</td>\n",
       "      <td>VC</td>\n",
       "      <td>43.0</td>\n",
       "      <td>10893.0</td>\n",
       "      <td>3787.0</td>\n",
       "      <td>5454.0</td>\n",
       "      <td>723.0</td>\n",
       "      <td>1366.0</td>\n",
       "      <td>9907.0</td>\n",
       "      <td>986.0</td>\n",
       "      <td>19.0</td>\n",
       "      <td>1.0</td>\n",
       "      <td>1.0</td>\n",
       "      <td>146.0</td>\n",
       "    </tr>\n",
       "    <tr>\n",
       "      <th>1121</th>\n",
       "      <td>2020-05-20</td>\n",
       "      <td>AN</td>\n",
       "      <td>8.0</td>\n",
       "      <td>12458.0</td>\n",
       "      <td>3999.0</td>\n",
       "      <td>6178.0</td>\n",
       "      <td>761.0</td>\n",
       "      <td>1358.0</td>\n",
       "      <td>10671.0</td>\n",
       "      <td>1787.0</td>\n",
       "      <td>4.0</td>\n",
       "      <td>1.0</td>\n",
       "      <td>0.0</td>\n",
       "      <td>60.0</td>\n",
       "    </tr>\n",
       "    <tr>\n",
       "      <th>1122</th>\n",
       "      <td>2020-05-20</td>\n",
       "      <td>AR</td>\n",
       "      <td>25.0</td>\n",
       "      <td>5503.0</td>\n",
       "      <td>1698.0</td>\n",
       "      <td>2659.0</td>\n",
       "      <td>267.0</td>\n",
       "      <td>838.0</td>\n",
       "      <td>3772.0</td>\n",
       "      <td>1731.0</td>\n",
       "      <td>4.0</td>\n",
       "      <td>1.0</td>\n",
       "      <td>0.0</td>\n",
       "      <td>45.0</td>\n",
       "    </tr>\n",
       "    <tr>\n",
       "      <th>1123</th>\n",
       "      <td>2020-05-20</td>\n",
       "      <td>AS</td>\n",
       "      <td>3.0</td>\n",
       "      <td>2369.0</td>\n",
       "      <td>985.0</td>\n",
       "      <td>2328.0</td>\n",
       "      <td>153.0</td>\n",
       "      <td>317.0</td>\n",
       "      <td>1063.0</td>\n",
       "      <td>1306.0</td>\n",
       "      <td>17.0</td>\n",
       "      <td>0.0</td>\n",
       "      <td>2.0</td>\n",
       "      <td>2.0</td>\n",
       "    </tr>\n",
       "    <tr>\n",
       "      <th>1124</th>\n",
       "      <td>2020-05-20</td>\n",
       "      <td>CB</td>\n",
       "      <td>3.0</td>\n",
       "      <td>2271.0</td>\n",
       "      <td>503.0</td>\n",
       "      <td>1035.0</td>\n",
       "      <td>79.0</td>\n",
       "      <td>207.0</td>\n",
       "      <td>2287.0</td>\n",
       "      <td>-16.0</td>\n",
       "      <td>2.0</td>\n",
       "      <td>0.0</td>\n",
       "      <td>0.0</td>\n",
       "      <td>14.0</td>\n",
       "    </tr>\n",
       "    <tr>\n",
       "      <th>1125</th>\n",
       "      <td>2020-05-20</td>\n",
       "      <td>CE</td>\n",
       "      <td>0.0</td>\n",
       "      <td>116.0</td>\n",
       "      <td>59.0</td>\n",
       "      <td>11.0</td>\n",
       "      <td>4.0</td>\n",
       "      <td>4.0</td>\n",
       "      <td>163.0</td>\n",
       "      <td>-47.0</td>\n",
       "      <td>0.0</td>\n",
       "      <td>0.0</td>\n",
       "      <td>0.0</td>\n",
       "      <td>0.0</td>\n",
       "    </tr>\n",
       "    <tr>\n",
       "      <th>1126</th>\n",
       "      <td>2020-05-20</td>\n",
       "      <td>CL</td>\n",
       "      <td>42.0</td>\n",
       "      <td>18512.0</td>\n",
       "      <td>6234.0</td>\n",
       "      <td>8717.0</td>\n",
       "      <td>551.0</td>\n",
       "      <td>1953.0</td>\n",
       "      <td>8716.0</td>\n",
       "      <td>9796.0</td>\n",
       "      <td>27.0</td>\n",
       "      <td>1.0</td>\n",
       "      <td>7.0</td>\n",
       "      <td>0.0</td>\n",
       "    </tr>\n",
       "    <tr>\n",
       "      <th>1127</th>\n",
       "      <td>2020-05-20</td>\n",
       "      <td>CM</td>\n",
       "      <td>30.0</td>\n",
       "      <td>16648.0</td>\n",
       "      <td>8366.0</td>\n",
       "      <td>9066.0</td>\n",
       "      <td>637.0</td>\n",
       "      <td>2898.0</td>\n",
       "      <td>6392.0</td>\n",
       "      <td>10256.0</td>\n",
       "      <td>12.0</td>\n",
       "      <td>0.0</td>\n",
       "      <td>5.0</td>\n",
       "      <td>14.0</td>\n",
       "    </tr>\n",
       "    <tr>\n",
       "      <th>1128</th>\n",
       "      <td>2020-05-20</td>\n",
       "      <td>CN</td>\n",
       "      <td>5.0</td>\n",
       "      <td>2294.0</td>\n",
       "      <td>0.0</td>\n",
       "      <td>942.0</td>\n",
       "      <td>178.0</td>\n",
       "      <td>153.0</td>\n",
       "      <td>1537.0</td>\n",
       "      <td>757.0</td>\n",
       "      <td>3.0</td>\n",
       "      <td>0.0</td>\n",
       "      <td>2.0</td>\n",
       "      <td>13.0</td>\n",
       "    </tr>\n",
       "    <tr>\n",
       "      <th>1129</th>\n",
       "      <td>2020-05-20</td>\n",
       "      <td>CT</td>\n",
       "      <td>85.0</td>\n",
       "      <td>55921.0</td>\n",
       "      <td>1643.0</td>\n",
       "      <td>29421.0</td>\n",
       "      <td>2957.0</td>\n",
       "      <td>5956.0</td>\n",
       "      <td>26203.0</td>\n",
       "      <td>29718.0</td>\n",
       "      <td>21.0</td>\n",
       "      <td>0.0</td>\n",
       "      <td>12.0</td>\n",
       "      <td>31.0</td>\n",
       "    </tr>\n",
       "    <tr>\n",
       "      <th>1130</th>\n",
       "      <td>2020-05-20</td>\n",
       "      <td>EX</td>\n",
       "      <td>1.0</td>\n",
       "      <td>2948.0</td>\n",
       "      <td>1001.0</td>\n",
       "      <td>1775.0</td>\n",
       "      <td>110.0</td>\n",
       "      <td>500.0</td>\n",
       "      <td>2652.0</td>\n",
       "      <td>296.0</td>\n",
       "      <td>0.0</td>\n",
       "      <td>0.0</td>\n",
       "      <td>0.0</td>\n",
       "      <td>16.0</td>\n",
       "    </tr>\n",
       "    <tr>\n",
       "      <th>1131</th>\n",
       "      <td>2020-05-20</td>\n",
       "      <td>GA</td>\n",
       "      <td>5.0</td>\n",
       "      <td>9056.0</td>\n",
       "      <td>1926.0</td>\n",
       "      <td>2934.0</td>\n",
       "      <td>332.0</td>\n",
       "      <td>607.0</td>\n",
       "      <td>9204.0</td>\n",
       "      <td>-148.0</td>\n",
       "      <td>8.0</td>\n",
       "      <td>0.0</td>\n",
       "      <td>1.0</td>\n",
       "      <td>49.0</td>\n",
       "    </tr>\n",
       "    <tr>\n",
       "      <th>1132</th>\n",
       "      <td>2020-05-20</td>\n",
       "      <td>IB</td>\n",
       "      <td>2.0</td>\n",
       "      <td>1993.0</td>\n",
       "      <td>105.0</td>\n",
       "      <td>1136.0</td>\n",
       "      <td>169.0</td>\n",
       "      <td>218.0</td>\n",
       "      <td>1533.0</td>\n",
       "      <td>460.0</td>\n",
       "      <td>0.0</td>\n",
       "      <td>0.0</td>\n",
       "      <td>0.0</td>\n",
       "      <td>10.0</td>\n",
       "    </tr>\n",
       "    <tr>\n",
       "      <th>1133</th>\n",
       "      <td>2020-05-20</td>\n",
       "      <td>MC</td>\n",
       "      <td>5.0</td>\n",
       "      <td>1556.0</td>\n",
       "      <td>1039.0</td>\n",
       "      <td>678.0</td>\n",
       "      <td>112.0</td>\n",
       "      <td>145.0</td>\n",
       "      <td>2180.0</td>\n",
       "      <td>-624.0</td>\n",
       "      <td>2.0</td>\n",
       "      <td>0.0</td>\n",
       "      <td>1.0</td>\n",
       "      <td>96.0</td>\n",
       "    </tr>\n",
       "    <tr>\n",
       "      <th>1134</th>\n",
       "      <td>2020-05-20</td>\n",
       "      <td>MD</td>\n",
       "      <td>5.0</td>\n",
       "      <td>66302.0</td>\n",
       "      <td>5293.0</td>\n",
       "      <td>42283.0</td>\n",
       "      <td>3594.0</td>\n",
       "      <td>8863.0</td>\n",
       "      <td>40736.0</td>\n",
       "      <td>25566.0</td>\n",
       "      <td>56.0</td>\n",
       "      <td>10.0</td>\n",
       "      <td>16.0</td>\n",
       "      <td>38.0</td>\n",
       "    </tr>\n",
       "    <tr>\n",
       "      <th>1135</th>\n",
       "      <td>2020-05-20</td>\n",
       "      <td>ML</td>\n",
       "      <td>0.0</td>\n",
       "      <td>121.0</td>\n",
       "      <td>13.0</td>\n",
       "      <td>44.0</td>\n",
       "      <td>3.0</td>\n",
       "      <td>2.0</td>\n",
       "      <td>125.0</td>\n",
       "      <td>-4.0</td>\n",
       "      <td>0.0</td>\n",
       "      <td>0.0</td>\n",
       "      <td>0.0</td>\n",
       "      <td>1.0</td>\n",
       "    </tr>\n",
       "    <tr>\n",
       "      <th>1136</th>\n",
       "      <td>2020-05-20</td>\n",
       "      <td>NC</td>\n",
       "      <td>30.0</td>\n",
       "      <td>5178.0</td>\n",
       "      <td>3157.0</td>\n",
       "      <td>2045.0</td>\n",
       "      <td>136.0</td>\n",
       "      <td>503.0</td>\n",
       "      <td>3905.0</td>\n",
       "      <td>1273.0</td>\n",
       "      <td>0.0</td>\n",
       "      <td>0.0</td>\n",
       "      <td>0.0</td>\n",
       "      <td>154.0</td>\n",
       "    </tr>\n",
       "    <tr>\n",
       "      <th>1137</th>\n",
       "      <td>2020-05-20</td>\n",
       "      <td>PV</td>\n",
       "      <td>15.0</td>\n",
       "      <td>13422.0</td>\n",
       "      <td>5358.0</td>\n",
       "      <td>7016.0</td>\n",
       "      <td>578.0</td>\n",
       "      <td>1466.0</td>\n",
       "      <td>16160.0</td>\n",
       "      <td>-2738.0</td>\n",
       "      <td>1.0</td>\n",
       "      <td>0.0</td>\n",
       "      <td>7.0</td>\n",
       "      <td>132.0</td>\n",
       "    </tr>\n",
       "    <tr>\n",
       "      <th>1138</th>\n",
       "      <td>2020-05-20</td>\n",
       "      <td>RI</td>\n",
       "      <td>0.0</td>\n",
       "      <td>4024.0</td>\n",
       "      <td>1393.0</td>\n",
       "      <td>1496.0</td>\n",
       "      <td>91.0</td>\n",
       "      <td>351.0</td>\n",
       "      <td>3107.0</td>\n",
       "      <td>917.0</td>\n",
       "      <td>0.0</td>\n",
       "      <td>0.0</td>\n",
       "      <td>2.0</td>\n",
       "      <td>59.0</td>\n",
       "    </tr>\n",
       "    <tr>\n",
       "      <th>1139</th>\n",
       "      <td>2020-05-20</td>\n",
       "      <td>VC</td>\n",
       "      <td>21.0</td>\n",
       "      <td>10914.0</td>\n",
       "      <td>3810.0</td>\n",
       "      <td>5469.0</td>\n",
       "      <td>725.0</td>\n",
       "      <td>1370.0</td>\n",
       "      <td>9970.0</td>\n",
       "      <td>944.0</td>\n",
       "      <td>15.0</td>\n",
       "      <td>2.0</td>\n",
       "      <td>4.0</td>\n",
       "      <td>63.0</td>\n",
       "    </tr>\n",
       "  </tbody>\n",
       "</table>\n",
       "</div>"
      ],
      "text/plain": [
       "           FECHA CCAA  CASOS     PCR+  TestAc+  Hospitalizados     UCI  \\\n",
       "1120  2020-05-19   VC   43.0  10893.0   3787.0          5454.0   723.0   \n",
       "1121  2020-05-20   AN    8.0  12458.0   3999.0          6178.0   761.0   \n",
       "1122  2020-05-20   AR   25.0   5503.0   1698.0          2659.0   267.0   \n",
       "1123  2020-05-20   AS    3.0   2369.0    985.0          2328.0   153.0   \n",
       "1124  2020-05-20   CB    3.0   2271.0    503.0          1035.0    79.0   \n",
       "1125  2020-05-20   CE    0.0    116.0     59.0            11.0     4.0   \n",
       "1126  2020-05-20   CL   42.0  18512.0   6234.0          8717.0   551.0   \n",
       "1127  2020-05-20   CM   30.0  16648.0   8366.0          9066.0   637.0   \n",
       "1128  2020-05-20   CN    5.0   2294.0      0.0           942.0   178.0   \n",
       "1129  2020-05-20   CT   85.0  55921.0   1643.0         29421.0  2957.0   \n",
       "1130  2020-05-20   EX    1.0   2948.0   1001.0          1775.0   110.0   \n",
       "1131  2020-05-20   GA    5.0   9056.0   1926.0          2934.0   332.0   \n",
       "1132  2020-05-20   IB    2.0   1993.0    105.0          1136.0   169.0   \n",
       "1133  2020-05-20   MC    5.0   1556.0   1039.0           678.0   112.0   \n",
       "1134  2020-05-20   MD    5.0  66302.0   5293.0         42283.0  3594.0   \n",
       "1135  2020-05-20   ML    0.0    121.0     13.0            44.0     3.0   \n",
       "1136  2020-05-20   NC   30.0   5178.0   3157.0          2045.0   136.0   \n",
       "1137  2020-05-20   PV   15.0  13422.0   5358.0          7016.0   578.0   \n",
       "1138  2020-05-20   RI    0.0   4024.0   1393.0          1496.0    91.0   \n",
       "1139  2020-05-20   VC   21.0  10914.0   3810.0          5469.0   725.0   \n",
       "\n",
       "      Fallecidos  Recuperados  ActiveCases  IncHospitalizados  IncUCI  \\\n",
       "1120      1366.0       9907.0        986.0               19.0     1.0   \n",
       "1121      1358.0      10671.0       1787.0                4.0     1.0   \n",
       "1122       838.0       3772.0       1731.0                4.0     1.0   \n",
       "1123       317.0       1063.0       1306.0               17.0     0.0   \n",
       "1124       207.0       2287.0        -16.0                2.0     0.0   \n",
       "1125         4.0        163.0        -47.0                0.0     0.0   \n",
       "1126      1953.0       8716.0       9796.0               27.0     1.0   \n",
       "1127      2898.0       6392.0      10256.0               12.0     0.0   \n",
       "1128       153.0       1537.0        757.0                3.0     0.0   \n",
       "1129      5956.0      26203.0      29718.0               21.0     0.0   \n",
       "1130       500.0       2652.0        296.0                0.0     0.0   \n",
       "1131       607.0       9204.0       -148.0                8.0     0.0   \n",
       "1132       218.0       1533.0        460.0                0.0     0.0   \n",
       "1133       145.0       2180.0       -624.0                2.0     0.0   \n",
       "1134      8863.0      40736.0      25566.0               56.0    10.0   \n",
       "1135         2.0        125.0         -4.0                0.0     0.0   \n",
       "1136       503.0       3905.0       1273.0                0.0     0.0   \n",
       "1137      1466.0      16160.0      -2738.0                1.0     0.0   \n",
       "1138       351.0       3107.0        917.0                0.0     0.0   \n",
       "1139      1370.0       9970.0        944.0               15.0     2.0   \n",
       "\n",
       "      IncFallecidos  IncRecuperados  \n",
       "1120            1.0           146.0  \n",
       "1121            0.0            60.0  \n",
       "1122            0.0            45.0  \n",
       "1123            2.0             2.0  \n",
       "1124            0.0            14.0  \n",
       "1125            0.0             0.0  \n",
       "1126            7.0             0.0  \n",
       "1127            5.0            14.0  \n",
       "1128            2.0            13.0  \n",
       "1129           12.0            31.0  \n",
       "1130            0.0            16.0  \n",
       "1131            1.0            49.0  \n",
       "1132            0.0            10.0  \n",
       "1133            1.0            96.0  \n",
       "1134           16.0            38.0  \n",
       "1135            0.0             1.0  \n",
       "1136            0.0           154.0  \n",
       "1137            7.0           132.0  \n",
       "1138            2.0            59.0  \n",
       "1139            4.0            63.0  "
      ]
     },
     "execution_count": 13,
     "metadata": {},
     "output_type": "execute_result"
    }
   ],
   "source": [
    "res.tail(20)"
   ]
  },
  {
   "cell_type": "code",
   "execution_count": 14,
   "metadata": {},
   "outputs": [
    {
     "data": {
      "text/html": [
       "<div>\n",
       "<style scoped>\n",
       "    .dataframe tbody tr th:only-of-type {\n",
       "        vertical-align: middle;\n",
       "    }\n",
       "\n",
       "    .dataframe tbody tr th {\n",
       "        vertical-align: top;\n",
       "    }\n",
       "\n",
       "    .dataframe thead th {\n",
       "        text-align: right;\n",
       "    }\n",
       "</style>\n",
       "<table border=\"1\" class=\"dataframe\">\n",
       "  <thead>\n",
       "    <tr style=\"text-align: right;\">\n",
       "      <th></th>\n",
       "      <th>FECHA</th>\n",
       "      <th>CCAA</th>\n",
       "      <th>CASOS</th>\n",
       "      <th>PCR+</th>\n",
       "      <th>TestAc+</th>\n",
       "      <th>Hospitalizados</th>\n",
       "      <th>UCI</th>\n",
       "      <th>Fallecidos</th>\n",
       "      <th>Recuperados</th>\n",
       "      <th>ActiveCases</th>\n",
       "      <th>IncHospitalizados</th>\n",
       "      <th>IncUCI</th>\n",
       "      <th>IncFallecidos</th>\n",
       "      <th>IncRecuperados</th>\n",
       "    </tr>\n",
       "  </thead>\n",
       "  <tbody>\n",
       "    <tr>\n",
       "      <th>1051</th>\n",
       "      <td>2020-05-16</td>\n",
       "      <td>CM</td>\n",
       "      <td>17.0</td>\n",
       "      <td>16470.0</td>\n",
       "      <td>7861.0</td>\n",
       "      <td>8980.0</td>\n",
       "      <td>634.0</td>\n",
       "      <td>2852.0</td>\n",
       "      <td>6244.0</td>\n",
       "      <td>10226.0</td>\n",
       "      <td>17.0</td>\n",
       "      <td>2.0</td>\n",
       "      <td>17.0</td>\n",
       "      <td>39.0</td>\n",
       "    </tr>\n",
       "    <tr>\n",
       "      <th>1070</th>\n",
       "      <td>2020-05-17</td>\n",
       "      <td>CM</td>\n",
       "      <td>43.0</td>\n",
       "      <td>16513.0</td>\n",
       "      <td>8014.0</td>\n",
       "      <td>9001.0</td>\n",
       "      <td>635.0</td>\n",
       "      <td>2870.0</td>\n",
       "      <td>6294.0</td>\n",
       "      <td>10219.0</td>\n",
       "      <td>21.0</td>\n",
       "      <td>1.0</td>\n",
       "      <td>18.0</td>\n",
       "      <td>50.0</td>\n",
       "    </tr>\n",
       "    <tr>\n",
       "      <th>1089</th>\n",
       "      <td>2020-05-18</td>\n",
       "      <td>CM</td>\n",
       "      <td>74.0</td>\n",
       "      <td>16587.0</td>\n",
       "      <td>8189.0</td>\n",
       "      <td>9027.0</td>\n",
       "      <td>636.0</td>\n",
       "      <td>2883.0</td>\n",
       "      <td>6328.0</td>\n",
       "      <td>10259.0</td>\n",
       "      <td>26.0</td>\n",
       "      <td>1.0</td>\n",
       "      <td>13.0</td>\n",
       "      <td>34.0</td>\n",
       "    </tr>\n",
       "    <tr>\n",
       "      <th>1108</th>\n",
       "      <td>2020-05-19</td>\n",
       "      <td>CM</td>\n",
       "      <td>31.0</td>\n",
       "      <td>16618.0</td>\n",
       "      <td>8290.0</td>\n",
       "      <td>9054.0</td>\n",
       "      <td>637.0</td>\n",
       "      <td>2893.0</td>\n",
       "      <td>6378.0</td>\n",
       "      <td>10240.0</td>\n",
       "      <td>27.0</td>\n",
       "      <td>1.0</td>\n",
       "      <td>10.0</td>\n",
       "      <td>50.0</td>\n",
       "    </tr>\n",
       "    <tr>\n",
       "      <th>1127</th>\n",
       "      <td>2020-05-20</td>\n",
       "      <td>CM</td>\n",
       "      <td>30.0</td>\n",
       "      <td>16648.0</td>\n",
       "      <td>8366.0</td>\n",
       "      <td>9066.0</td>\n",
       "      <td>637.0</td>\n",
       "      <td>2898.0</td>\n",
       "      <td>6392.0</td>\n",
       "      <td>10256.0</td>\n",
       "      <td>12.0</td>\n",
       "      <td>0.0</td>\n",
       "      <td>5.0</td>\n",
       "      <td>14.0</td>\n",
       "    </tr>\n",
       "  </tbody>\n",
       "</table>\n",
       "</div>"
      ],
      "text/plain": [
       "           FECHA CCAA  CASOS     PCR+  TestAc+  Hospitalizados    UCI  \\\n",
       "1051  2020-05-16   CM   17.0  16470.0   7861.0          8980.0  634.0   \n",
       "1070  2020-05-17   CM   43.0  16513.0   8014.0          9001.0  635.0   \n",
       "1089  2020-05-18   CM   74.0  16587.0   8189.0          9027.0  636.0   \n",
       "1108  2020-05-19   CM   31.0  16618.0   8290.0          9054.0  637.0   \n",
       "1127  2020-05-20   CM   30.0  16648.0   8366.0          9066.0  637.0   \n",
       "\n",
       "      Fallecidos  Recuperados  ActiveCases  IncHospitalizados  IncUCI  \\\n",
       "1051      2852.0       6244.0      10226.0               17.0     2.0   \n",
       "1070      2870.0       6294.0      10219.0               21.0     1.0   \n",
       "1089      2883.0       6328.0      10259.0               26.0     1.0   \n",
       "1108      2893.0       6378.0      10240.0               27.0     1.0   \n",
       "1127      2898.0       6392.0      10256.0               12.0     0.0   \n",
       "\n",
       "      IncFallecidos  IncRecuperados  \n",
       "1051           17.0            39.0  \n",
       "1070           18.0            50.0  \n",
       "1089           13.0            34.0  \n",
       "1108           10.0            50.0  \n",
       "1127            5.0            14.0  "
      ]
     },
     "execution_count": 14,
     "metadata": {},
     "output_type": "execute_result"
    }
   ],
   "source": [
    "res[res['CCAA']=='CM'].tail()"
   ]
  },
  {
   "cell_type": "markdown",
   "metadata": {},
   "source": [
    "### 1.2. Functions to explore data\n",
    "\n",
    "Now we have our data well formatted, is time to explore. For this purpose, several functions are created to easy filter and plot the DataFrame. Interactive plots coming soon :D "
   ]
  },
  {
   "cell_type": "code",
   "execution_count": 15,
   "metadata": {},
   "outputs": [],
   "source": [
    "def displayInfo(df, location=None, date=None, columns=None):\n",
    "    \"\"\"\n",
    "    location: string: region code\n",
    "    date: string: date to query format YYYY-MM-DD\n",
    "    return: dataframe display\n",
    "    \"\"\"\n",
    "    if date == 'today':\n",
    "        date = datetime.now().strftime(\"%Y-%m-%d\") \n",
    "    elif date != None:\n",
    "        df = df[df['FECHA']== date]\n",
    "    if location:\n",
    "        df = df[df['CCAA']==location]\n",
    "    else:\n",
    "        df = df.groupby(['FECHA']).sum().reset_index()\n",
    "    if columns: \n",
    "        df = df[columns]\n",
    "    display(Markdown(\"#### Active cases\"))\n",
    "    display(int(df['PCR+'].iloc[0] - df['Recuperados'].iloc[0]))\n",
    "    display(df)    \n",
    "    \n",
    "def showStats(df, location=None, from_date='2020-03-01', to_date=None, feature='IncFallecidos', aggregate=False):\n",
    "    \"\"\"\n",
    "    df: Pandas DataFrame\n",
    "    location: string: region code\n",
    "    from_date: string: date to start the time window query. Format YYYY-MM-DD\n",
    "    to_date: string: end of the time window query. Format YYYY-MM-DD\n",
    "    feature: string: feature to plot\n",
    "    aggregate: Boolean: if no location provided, aggregation is available\n",
    "    return: None (plot info)\n",
    "    \"\"\"\n",
    "    if location:\n",
    "        print(\"Warning: aggregation not available\")\n",
    "    if location:\n",
    "        df = df[df.CCAA==location]\n",
    "\n",
    "    df = df[df.FECHA >= from_date]\n",
    "    \n",
    "    if to_date:\n",
    "        df = df[df.FECHA >= to_date]\n",
    "\n",
    "    dates = list(df.FECHA.unique())\n",
    "    dates.sort(reverse=False)\n",
    "    \n",
    "    pal = sns.cubehelix_palette(len(df))\n",
    "    rank = df[feature].argsort().argsort()   # http://stackoverflow.com/a/6266510/1628638\n",
    "    if not location and aggregate:\n",
    "        df = df.groupby(['FECHA']).sum().reset_index()\n",
    "        \n",
    "    fig, ax = plt.subplots(1,1, figsize=(16,10))\n",
    "    sns.barplot(data=df,\n",
    "                x='FECHA',\n",
    "                y=feature,\n",
    "                label=feature,\n",
    "                palette=np.array(pal[::1])[rank],\n",
    "                color='lightblue',\n",
    "#                hue='CCAA',\n",
    "                order=dates,\n",
    "                ax=ax)\n",
    "\n",
    "    plt.xticks(rotation=90)\n",
    "    plt.title(\"Evolution {} since {} of {}\".format(location or \"\", from_date, feature, from_date))\n",
    "    plt.legend()\n",
    "    plt.savefig(\"images/{}_{}.png\".format(location or \"\", feature).lower())\n",
    "    plt.show()"
   ]
  },
  {
   "cell_type": "markdown",
   "metadata": {},
   "source": [
    "### Snipet for current situation\n",
    "\n",
    "Use this cell in order to know from the official data ISCIII the evolution. \n",
    "\n",
    "* ```current_day```: controls actual day\n",
    "* ```loc```: specify region or ```None```. Available regions are: \n",
    "```\n",
    "'AN', 'AR', 'AS', 'IB', 'CN',\n",
    "'CB', 'CM', 'CL', 'CT', 'CE',\n",
    "'VC', 'EX', 'GA', 'MD', 'ML',\n",
    "'MC', 'NC', 'PV', 'RI'``` "
   ]
  },
  {
   "cell_type": "code",
   "execution_count": 16,
   "metadata": {},
   "outputs": [],
   "source": [
    "def checkSituation(loc=None, aggregation=False):\n",
    "    # Incremental features\n",
    "    incs = ['FECHA', 'CASOS', 'IncFallecidos', 'IncHospitalizados', 'IncUCI', 'IncRecuperados', 'ActiveCases']\n",
    "    # Absolute features\n",
    "    abss = ['PCR+', 'Hospitalizados', 'Fallecidos', 'UCI', 'Recuperados']\n",
    "    current_day = datetime.now().strftime(\"%Y-%m-%d\")\n",
    "    display(Markdown(\"#### TODAY'S DATA: {} \".format(current_day) + (loc if loc else \"\")))\n",
    "    displayInfo(res, location=loc, date=current_day, columns=incs + abss)\n",
    "    display(Markdown(\"##### Evolution of cases: {} \".format(current_day) + (loc if loc else \"\")))\n",
    "    showStats(res, location=loc, feature='CASOS', aggregate=aggregation)\n",
    "    display(Markdown(\"##### Evolution of deaths: {} \".format(current_day) + (loc if loc else \"\")))\n",
    "    showStats(res, location=loc, feature='IncFallecidos', aggregate=aggregation)\n",
    "    display(Markdown(\"##### Evolution of ActiveCases: {} \".format(current_day) + (loc if loc else \"\")))\n",
    "    showStats(res, location=loc, feature='ActiveCases', aggregate=aggregation)"
   ]
  },
  {
   "cell_type": "markdown",
   "metadata": {},
   "source": [
    "### Checking national situation"
   ]
  },
  {
   "cell_type": "code",
   "execution_count": 17,
   "metadata": {
    "scrolled": false
   },
   "outputs": [
    {
     "data": {
      "text/markdown": [
       "#### TODAY'S DATA: 2020-05-20 "
      ],
      "text/plain": [
       "<IPython.core.display.Markdown object>"
      ]
     },
     "metadata": {},
     "output_type": "display_data"
    },
    {
     "data": {
      "text/markdown": [
       "#### Active cases"
      ],
      "text/plain": [
       "<IPython.core.display.Markdown object>"
      ]
     },
     "metadata": {},
     "output_type": "display_data"
    },
    {
     "data": {
      "text/plain": [
       "81230"
      ]
     },
     "metadata": {},
     "output_type": "display_data"
    },
    {
     "data": {
      "text/html": [
       "<div>\n",
       "<style scoped>\n",
       "    .dataframe tbody tr th:only-of-type {\n",
       "        vertical-align: middle;\n",
       "    }\n",
       "\n",
       "    .dataframe tbody tr th {\n",
       "        vertical-align: top;\n",
       "    }\n",
       "\n",
       "    .dataframe thead th {\n",
       "        text-align: right;\n",
       "    }\n",
       "</style>\n",
       "<table border=\"1\" class=\"dataframe\">\n",
       "  <thead>\n",
       "    <tr style=\"text-align: right;\">\n",
       "      <th></th>\n",
       "      <th>FECHA</th>\n",
       "      <th>CASOS</th>\n",
       "      <th>IncFallecidos</th>\n",
       "      <th>IncHospitalizados</th>\n",
       "      <th>IncUCI</th>\n",
       "      <th>IncRecuperados</th>\n",
       "      <th>ActiveCases</th>\n",
       "      <th>PCR+</th>\n",
       "      <th>Hospitalizados</th>\n",
       "      <th>Fallecidos</th>\n",
       "      <th>UCI</th>\n",
       "      <th>Recuperados</th>\n",
       "    </tr>\n",
       "  </thead>\n",
       "  <tbody>\n",
       "    <tr>\n",
       "      <th>0</th>\n",
       "      <td>2020-05-20</td>\n",
       "      <td>285.0</td>\n",
       "      <td>59.0</td>\n",
       "      <td>172.0</td>\n",
       "      <td>15.0</td>\n",
       "      <td>797.0</td>\n",
       "      <td>81230.0</td>\n",
       "      <td>231606.0</td>\n",
       "      <td>125233.0</td>\n",
       "      <td>27709.0</td>\n",
       "      <td>11437.0</td>\n",
       "      <td>150376.0</td>\n",
       "    </tr>\n",
       "  </tbody>\n",
       "</table>\n",
       "</div>"
      ],
      "text/plain": [
       "        FECHA  CASOS  IncFallecidos  IncHospitalizados  IncUCI  \\\n",
       "0  2020-05-20  285.0           59.0              172.0    15.0   \n",
       "\n",
       "   IncRecuperados  ActiveCases      PCR+  Hospitalizados  Fallecidos      UCI  \\\n",
       "0           797.0      81230.0  231606.0        125233.0     27709.0  11437.0   \n",
       "\n",
       "   Recuperados  \n",
       "0     150376.0  "
      ]
     },
     "metadata": {},
     "output_type": "display_data"
    },
    {
     "data": {
      "text/markdown": [
       "##### Evolution of cases: 2020-05-20 "
      ],
      "text/plain": [
       "<IPython.core.display.Markdown object>"
      ]
     },
     "metadata": {},
     "output_type": "display_data"
    },
    {
     "data": {
      "image/png": "[encoded data removed]",
      "text/plain": [
       "<Figure size 1152x720 with 1 Axes>"
      ]
     },
     "metadata": {
      "needs_background": "light"
     },
     "output_type": "display_data"
    },
    {
     "data": {
      "text/markdown": [
       "##### Evolution of deaths: 2020-05-20 "
      ],
      "text/plain": [
       "<IPython.core.display.Markdown object>"
      ]
     },
     "metadata": {},
     "output_type": "display_data"
    },
    {
     "data": {
      "image/png": "[encoded data removed]",
      "text/plain": [
       "<Figure size 1152x720 with 1 Axes>"
      ]
     },
     "metadata": {
      "needs_background": "light"
     },
     "output_type": "display_data"
    },
    {
     "data": {
      "text/markdown": [
       "##### Evolution of ActiveCases: 2020-05-20 "
      ],
      "text/plain": [
       "<IPython.core.display.Markdown object>"
      ]
     },
     "metadata": {},
     "output_type": "display_data"
    },
    {
     "data": {
      "image/png": "[encoded data removed]",
      "text/plain": [
       "<Figure size 1152x720 with 1 Axes>"
      ]
     },
     "metadata": {
      "needs_background": "light"
     },
     "output_type": "display_data"
    }
   ],
   "source": [
    "checkSituation(loc=None, aggregation=True)"
   ]
  },
  {
   "cell_type": "markdown",
   "metadata": {},
   "source": [
    "### Checking Madrid situation"
   ]
  },
  {
   "cell_type": "code",
   "execution_count": 18,
   "metadata": {
    "scrolled": false
   },
   "outputs": [
    {
     "data": {
      "text/markdown": [
       "#### TODAY'S DATA: 2020-05-20 MD"
      ],
      "text/plain": [
       "<IPython.core.display.Markdown object>"
      ]
     },
     "metadata": {},
     "output_type": "display_data"
    },
    {
     "data": {
      "text/markdown": [
       "#### Active cases"
      ],
      "text/plain": [
       "<IPython.core.display.Markdown object>"
      ]
     },
     "metadata": {},
     "output_type": "display_data"
    },
    {
     "data": {
      "text/plain": [
       "25566"
      ]
     },
     "metadata": {},
     "output_type": "display_data"
    },
    {
     "data": {
      "text/html": [
       "<div>\n",
       "<style scoped>\n",
       "    .dataframe tbody tr th:only-of-type {\n",
       "        vertical-align: middle;\n",
       "    }\n",
       "\n",
       "    .dataframe tbody tr th {\n",
       "        vertical-align: top;\n",
       "    }\n",
       "\n",
       "    .dataframe thead th {\n",
       "        text-align: right;\n",
       "    }\n",
       "</style>\n",
       "<table border=\"1\" class=\"dataframe\">\n",
       "  <thead>\n",
       "    <tr style=\"text-align: right;\">\n",
       "      <th></th>\n",
       "      <th>FECHA</th>\n",
       "      <th>CASOS</th>\n",
       "      <th>IncFallecidos</th>\n",
       "      <th>IncHospitalizados</th>\n",
       "      <th>IncUCI</th>\n",
       "      <th>IncRecuperados</th>\n",
       "      <th>ActiveCases</th>\n",
       "      <th>PCR+</th>\n",
       "      <th>Hospitalizados</th>\n",
       "      <th>Fallecidos</th>\n",
       "      <th>UCI</th>\n",
       "      <th>Recuperados</th>\n",
       "    </tr>\n",
       "  </thead>\n",
       "  <tbody>\n",
       "    <tr>\n",
       "      <th>1134</th>\n",
       "      <td>2020-05-20</td>\n",
       "      <td>5.0</td>\n",
       "      <td>16.0</td>\n",
       "      <td>56.0</td>\n",
       "      <td>10.0</td>\n",
       "      <td>38.0</td>\n",
       "      <td>25566.0</td>\n",
       "      <td>66302.0</td>\n",
       "      <td>42283.0</td>\n",
       "      <td>8863.0</td>\n",
       "      <td>3594.0</td>\n",
       "      <td>40736.0</td>\n",
       "    </tr>\n",
       "  </tbody>\n",
       "</table>\n",
       "</div>"
      ],
      "text/plain": [
       "           FECHA  CASOS  IncFallecidos  IncHospitalizados  IncUCI  \\\n",
       "1134  2020-05-20    5.0           16.0               56.0    10.0   \n",
       "\n",
       "      IncRecuperados  ActiveCases     PCR+  Hospitalizados  Fallecidos  \\\n",
       "1134            38.0      25566.0  66302.0         42283.0      8863.0   \n",
       "\n",
       "         UCI  Recuperados  \n",
       "1134  3594.0      40736.0  "
      ]
     },
     "metadata": {},
     "output_type": "display_data"
    },
    {
     "data": {
      "text/markdown": [
       "##### Evolution of cases: 2020-05-20 MD"
      ],
      "text/plain": [
       "<IPython.core.display.Markdown object>"
      ]
     },
     "metadata": {},
     "output_type": "display_data"
    },
    {
     "name": "stdout",
     "output_type": "stream",
     "text": [
      "Warning: aggregation not available\n"
     ]
    },
    {
     "data": {
      "image/png": "[encoded data removed]",
      "text/plain": [
       "<Figure size 1152x720 with 1 Axes>"
      ]
     },
     "metadata": {
      "needs_background": "light"
     },
     "output_type": "display_data"
    },
    {
     "data": {
      "text/markdown": [
       "##### Evolution of deaths: 2020-05-20 MD"
      ],
      "text/plain": [
       "<IPython.core.display.Markdown object>"
      ]
     },
     "metadata": {},
     "output_type": "display_data"
    },
    {
     "name": "stdout",
     "output_type": "stream",
     "text": [
      "Warning: aggregation not available\n"
     ]
    },
    {
     "data": {
      "image/png": "[encoded data removed]",
      "text/plain": [
       "<Figure size 1152x720 with 1 Axes>"
      ]
     },
     "metadata": {
      "needs_background": "light"
     },
     "output_type": "display_data"
    },
    {
     "data": {
      "text/markdown": [
       "##### Evolution of ActiveCases: 2020-05-20 MD"
      ],
      "text/plain": [
       "<IPython.core.display.Markdown object>"
      ]
     },
     "metadata": {},
     "output_type": "display_data"
    },
    {
     "name": "stdout",
     "output_type": "stream",
     "text": [
      "Warning: aggregation not available\n"
     ]
    },
    {
     "data": {
      "image/png": "[encoded data removed]",
      "text/plain": [
       "<Figure size 1152x720 with 1 Axes>"
      ]
     },
     "metadata": {
      "needs_background": "light"
     },
     "output_type": "display_data"
    }
   ],
   "source": [
    "checkSituation(loc='MD')"
   ]
  },
  {
   "cell_type": "markdown",
   "metadata": {},
   "source": [
    "### Checking Castille-La Mancha situation"
   ]
  },
  {
   "cell_type": "code",
   "execution_count": 19,
   "metadata": {
    "scrolled": false
   },
   "outputs": [
    {
     "data": {
      "text/markdown": [
       "#### TODAY'S DATA: 2020-05-20 CM"
      ],
      "text/plain": [
       "<IPython.core.display.Markdown object>"
      ]
     },
     "metadata": {},
     "output_type": "display_data"
    },
    {
     "data": {
      "text/markdown": [
       "#### Active cases"
      ],
      "text/plain": [
       "<IPython.core.display.Markdown object>"
      ]
     },
     "metadata": {},
     "output_type": "display_data"
    },
    {
     "data": {
      "text/plain": [
       "10256"
      ]
     },
     "metadata": {},
     "output_type": "display_data"
    },
    {
     "data": {
      "text/html": [
       "<div>\n",
       "<style scoped>\n",
       "    .dataframe tbody tr th:only-of-type {\n",
       "        vertical-align: middle;\n",
       "    }\n",
       "\n",
       "    .dataframe tbody tr th {\n",
       "        vertical-align: top;\n",
       "    }\n",
       "\n",
       "    .dataframe thead th {\n",
       "        text-align: right;\n",
       "    }\n",
       "</style>\n",
       "<table border=\"1\" class=\"dataframe\">\n",
       "  <thead>\n",
       "    <tr style=\"text-align: right;\">\n",
       "      <th></th>\n",
       "      <th>FECHA</th>\n",
       "      <th>CASOS</th>\n",
       "      <th>IncFallecidos</th>\n",
       "      <th>IncHospitalizados</th>\n",
       "      <th>IncUCI</th>\n",
       "      <th>IncRecuperados</th>\n",
       "      <th>ActiveCases</th>\n",
       "      <th>PCR+</th>\n",
       "      <th>Hospitalizados</th>\n",
       "      <th>Fallecidos</th>\n",
       "      <th>UCI</th>\n",
       "      <th>Recuperados</th>\n",
       "    </tr>\n",
       "  </thead>\n",
       "  <tbody>\n",
       "    <tr>\n",
       "      <th>1127</th>\n",
       "      <td>2020-05-20</td>\n",
       "      <td>30.0</td>\n",
       "      <td>5.0</td>\n",
       "      <td>12.0</td>\n",
       "      <td>0.0</td>\n",
       "      <td>14.0</td>\n",
       "      <td>10256.0</td>\n",
       "      <td>16648.0</td>\n",
       "      <td>9066.0</td>\n",
       "      <td>2898.0</td>\n",
       "      <td>637.0</td>\n",
       "      <td>6392.0</td>\n",
       "    </tr>\n",
       "  </tbody>\n",
       "</table>\n",
       "</div>"
      ],
      "text/plain": [
       "           FECHA  CASOS  IncFallecidos  IncHospitalizados  IncUCI  \\\n",
       "1127  2020-05-20   30.0            5.0               12.0     0.0   \n",
       "\n",
       "      IncRecuperados  ActiveCases     PCR+  Hospitalizados  Fallecidos    UCI  \\\n",
       "1127            14.0      10256.0  16648.0          9066.0      2898.0  637.0   \n",
       "\n",
       "      Recuperados  \n",
       "1127       6392.0  "
      ]
     },
     "metadata": {},
     "output_type": "display_data"
    },
    {
     "data": {
      "text/markdown": [
       "##### Evolution of cases: 2020-05-20 CM"
      ],
      "text/plain": [
       "<IPython.core.display.Markdown object>"
      ]
     },
     "metadata": {},
     "output_type": "display_data"
    },
    {
     "name": "stdout",
     "output_type": "stream",
     "text": [
      "Warning: aggregation not available\n"
     ]
    },
    {
     "data": {
      "image/png": "[encoded data removed]",
      "text/plain": [
       "<Figure size 1152x720 with 1 Axes>"
      ]
     },
     "metadata": {
      "needs_background": "light"
     },
     "output_type": "display_data"
    },
    {
     "data": {
      "text/markdown": [
       "##### Evolution of deaths: 2020-05-20 CM"
      ],
      "text/plain": [
       "<IPython.core.display.Markdown object>"
      ]
     },
     "metadata": {},
     "output_type": "display_data"
    },
    {
     "name": "stdout",
     "output_type": "stream",
     "text": [
      "Warning: aggregation not available\n"
     ]
    },
    {
     "data": {
      "image/png": "[encoded data removed]",
      "text/plain": [
       "<Figure size 1152x720 with 1 Axes>"
      ]
     },
     "metadata": {
      "needs_background": "light"
     },
     "output_type": "display_data"
    },
    {
     "data": {
      "text/markdown": [
       "##### Evolution of ActiveCases: 2020-05-20 CM"
      ],
      "text/plain": [
       "<IPython.core.display.Markdown object>"
      ]
     },
     "metadata": {},
     "output_type": "display_data"
    },
    {
     "name": "stdout",
     "output_type": "stream",
     "text": [
      "Warning: aggregation not available\n"
     ]
    },
    {
     "data": {
      "image/png": "[encoded data removed]",
      "text/plain": [
       "<Figure size 1152x720 with 1 Axes>"
      ]
     },
     "metadata": {
      "needs_background": "light"
     },
     "output_type": "display_data"
    }
   ],
   "source": [
    "checkSituation(loc='CM')"
   ]
  },
  {
   "cell_type": "markdown",
   "metadata": {},
   "source": [
    "Ready to work with. Interactive graphs coming soon ; )"
   ]
  },
  {
   "cell_type": "markdown",
   "metadata": {},
   "source": [
    "### 2. MoMo Dataset\n",
    "\n",
    "MoMo dataset is aimed to mortality data. Is well prepared and no extra preprocessing is needed in order to have good insights. Here we have the features: \n",
    "\n",
    "* ```ambito```: nacional or ccaa (national or regional)\n",
    "* ```cod_ambito```: empty if nacional. Region ISO code if regional\n",
    "* ```cod_ine_ambito```: INE region code\n",
    "* ```nombre_ambito```: Name of the region\n",
    "* ```cod_sexo```: INE Sex code. man: 1, woman: 6 \n",
    "* ```nombre_sexo```: Sex name (hombres, mujeres)\n",
    "* ```cod_gedad```: Age group: menos_65, 65_74, mas_74\n",
    "* ```nombre_gedad```: name of age group\n",
    "* ```fecha_defuncion```: decease date\n",
    "* ```defunciones_observadas```: number of deceases observed (included delay corrections)\n",
    "* ```defunciones_observadas_lim_inf```: inferior limit of confidence interval\n",
    "* ```defunciones_observadas_lim_sup```: superior limit of confidence interval\n",
    "* ```defunciones_esperadas```: expected deceases\n",
    "* ```defunciones_esperadas_q01```: Percentil 1 of expecteds\n",
    "* ```defunciones_esperadas_q99```: Percentil 99 of expecteds"
   ]
  },
  {
   "cell_type": "code",
   "execution_count": 20,
   "metadata": {},
   "outputs": [],
   "source": [
    "momo = pd.read_csv(\"https://momo.isciii.es/public/momo/data\")"
   ]
  },
  {
   "cell_type": "code",
   "execution_count": 21,
   "metadata": {},
   "outputs": [
    {
     "data": {
      "text/markdown": [
       "#### Description"
      ],
      "text/plain": [
       "<IPython.core.display.Markdown object>"
      ]
     },
     "metadata": {},
     "output_type": "display_data"
    },
    {
     "data": {
      "text/html": [
       "<div>\n",
       "<style scoped>\n",
       "    .dataframe tbody tr th:only-of-type {\n",
       "        vertical-align: middle;\n",
       "    }\n",
       "\n",
       "    .dataframe tbody tr th {\n",
       "        vertical-align: top;\n",
       "    }\n",
       "\n",
       "    .dataframe thead th {\n",
       "        text-align: right;\n",
       "    }\n",
       "</style>\n",
       "<table border=\"1\" class=\"dataframe\">\n",
       "  <thead>\n",
       "    <tr style=\"text-align: right;\">\n",
       "      <th></th>\n",
       "      <th>cod_ine_ambito</th>\n",
       "      <th>defunciones_observadas</th>\n",
       "      <th>defunciones_observadas_lim_inf</th>\n",
       "      <th>defunciones_observadas_lim_sup</th>\n",
       "      <th>defunciones_esperadas</th>\n",
       "      <th>defunciones_esperadas_q01</th>\n",
       "      <th>defunciones_esperadas_q99</th>\n",
       "    </tr>\n",
       "  </thead>\n",
       "  <tbody>\n",
       "    <tr>\n",
       "      <th>count</th>\n",
       "      <td>170772.000000</td>\n",
       "      <td>179760.000000</td>\n",
       "      <td>179760.000000</td>\n",
       "      <td>179760.000000</td>\n",
       "      <td>179760.000000</td>\n",
       "      <td>179760.000000</td>\n",
       "      <td>179760.000000</td>\n",
       "    </tr>\n",
       "    <tr>\n",
       "      <th>mean</th>\n",
       "      <td>10.000000</td>\n",
       "      <td>36.856937</td>\n",
       "      <td>36.827197</td>\n",
       "      <td>36.893304</td>\n",
       "      <td>36.110013</td>\n",
       "      <td>27.373636</td>\n",
       "      <td>47.609247</td>\n",
       "    </tr>\n",
       "    <tr>\n",
       "      <th>std</th>\n",
       "      <td>5.477242</td>\n",
       "      <td>112.257349</td>\n",
       "      <td>112.216658</td>\n",
       "      <td>112.301898</td>\n",
       "      <td>107.839091</td>\n",
       "      <td>95.290221</td>\n",
       "      <td>125.424447</td>\n",
       "    </tr>\n",
       "    <tr>\n",
       "      <th>min</th>\n",
       "      <td>1.000000</td>\n",
       "      <td>0.000000</td>\n",
       "      <td>0.000000</td>\n",
       "      <td>0.000000</td>\n",
       "      <td>0.000000</td>\n",
       "      <td>0.000000</td>\n",
       "      <td>0.000000</td>\n",
       "    </tr>\n",
       "    <tr>\n",
       "      <th>25%</th>\n",
       "      <td>5.000000</td>\n",
       "      <td>2.000000</td>\n",
       "      <td>2.000000</td>\n",
       "      <td>2.000000</td>\n",
       "      <td>2.000000</td>\n",
       "      <td>0.000000</td>\n",
       "      <td>6.310000</td>\n",
       "    </tr>\n",
       "    <tr>\n",
       "      <th>50%</th>\n",
       "      <td>10.000000</td>\n",
       "      <td>8.000000</td>\n",
       "      <td>8.000000</td>\n",
       "      <td>8.000000</td>\n",
       "      <td>8.000000</td>\n",
       "      <td>2.690000</td>\n",
       "      <td>15.000000</td>\n",
       "    </tr>\n",
       "    <tr>\n",
       "      <th>75%</th>\n",
       "      <td>15.000000</td>\n",
       "      <td>27.000000</td>\n",
       "      <td>27.000000</td>\n",
       "      <td>27.000000</td>\n",
       "      <td>26.500000</td>\n",
       "      <td>16.380000</td>\n",
       "      <td>38.620000</td>\n",
       "    </tr>\n",
       "    <tr>\n",
       "      <th>max</th>\n",
       "      <td>19.000000</td>\n",
       "      <td>2466.000000</td>\n",
       "      <td>2466.000000</td>\n",
       "      <td>2466.000000</td>\n",
       "      <td>1329.000000</td>\n",
       "      <td>1178.280000</td>\n",
       "      <td>1695.270000</td>\n",
       "    </tr>\n",
       "  </tbody>\n",
       "</table>\n",
       "</div>"
      ],
      "text/plain": [
       "       cod_ine_ambito  defunciones_observadas  defunciones_observadas_lim_inf  \\\n",
       "count   170772.000000           179760.000000                   179760.000000   \n",
       "mean        10.000000               36.856937                       36.827197   \n",
       "std          5.477242              112.257349                      112.216658   \n",
       "min          1.000000                0.000000                        0.000000   \n",
       "25%          5.000000                2.000000                        2.000000   \n",
       "50%         10.000000                8.000000                        8.000000   \n",
       "75%         15.000000               27.000000                       27.000000   \n",
       "max         19.000000             2466.000000                     2466.000000   \n",
       "\n",
       "       defunciones_observadas_lim_sup  defunciones_esperadas  \\\n",
       "count                   179760.000000          179760.000000   \n",
       "mean                        36.893304              36.110013   \n",
       "std                        112.301898             107.839091   \n",
       "min                          0.000000               0.000000   \n",
       "25%                          2.000000               2.000000   \n",
       "50%                          8.000000               8.000000   \n",
       "75%                         27.000000              26.500000   \n",
       "max                       2466.000000            1329.000000   \n",
       "\n",
       "       defunciones_esperadas_q01  defunciones_esperadas_q99  \n",
       "count              179760.000000              179760.000000  \n",
       "mean                   27.373636                  47.609247  \n",
       "std                    95.290221                 125.424447  \n",
       "min                     0.000000                   0.000000  \n",
       "25%                     0.000000                   6.310000  \n",
       "50%                     2.690000                  15.000000  \n",
       "75%                    16.380000                  38.620000  \n",
       "max                  1178.280000                1695.270000  "
      ]
     },
     "metadata": {},
     "output_type": "display_data"
    },
    {
     "data": {
      "text/markdown": [
       "#### Head"
      ],
      "text/plain": [
       "<IPython.core.display.Markdown object>"
      ]
     },
     "metadata": {},
     "output_type": "display_data"
    },
    {
     "data": {
      "text/html": [
       "<div>\n",
       "<style scoped>\n",
       "    .dataframe tbody tr th:only-of-type {\n",
       "        vertical-align: middle;\n",
       "    }\n",
       "\n",
       "    .dataframe tbody tr th {\n",
       "        vertical-align: top;\n",
       "    }\n",
       "\n",
       "    .dataframe thead th {\n",
       "        text-align: right;\n",
       "    }\n",
       "</style>\n",
       "<table border=\"1\" class=\"dataframe\">\n",
       "  <thead>\n",
       "    <tr style=\"text-align: right;\">\n",
       "      <th></th>\n",
       "      <th>ambito</th>\n",
       "      <th>cod_ambito</th>\n",
       "      <th>cod_ine_ambito</th>\n",
       "      <th>nombre_ambito</th>\n",
       "      <th>cod_sexo</th>\n",
       "      <th>nombre_sexo</th>\n",
       "      <th>cod_gedad</th>\n",
       "      <th>nombre_gedad</th>\n",
       "      <th>fecha_defuncion</th>\n",
       "      <th>defunciones_observadas</th>\n",
       "      <th>defunciones_observadas_lim_inf</th>\n",
       "      <th>defunciones_observadas_lim_sup</th>\n",
       "      <th>defunciones_esperadas</th>\n",
       "      <th>defunciones_esperadas_q01</th>\n",
       "      <th>defunciones_esperadas_q99</th>\n",
       "    </tr>\n",
       "  </thead>\n",
       "  <tbody>\n",
       "    <tr>\n",
       "      <th>0</th>\n",
       "      <td>nacional</td>\n",
       "      <td>NaN</td>\n",
       "      <td>NaN</td>\n",
       "      <td>NaN</td>\n",
       "      <td>all</td>\n",
       "      <td>todos</td>\n",
       "      <td>all</td>\n",
       "      <td>todos</td>\n",
       "      <td>2018-05-02</td>\n",
       "      <td>940</td>\n",
       "      <td>940.0</td>\n",
       "      <td>940.0</td>\n",
       "      <td>1046.0</td>\n",
       "      <td>953.56</td>\n",
       "      <td>1149.965</td>\n",
       "    </tr>\n",
       "    <tr>\n",
       "      <th>1</th>\n",
       "      <td>nacional</td>\n",
       "      <td>NaN</td>\n",
       "      <td>NaN</td>\n",
       "      <td>NaN</td>\n",
       "      <td>all</td>\n",
       "      <td>todos</td>\n",
       "      <td>all</td>\n",
       "      <td>todos</td>\n",
       "      <td>2018-05-03</td>\n",
       "      <td>1049</td>\n",
       "      <td>1049.0</td>\n",
       "      <td>1049.0</td>\n",
       "      <td>1047.0</td>\n",
       "      <td>953.56</td>\n",
       "      <td>1149.965</td>\n",
       "    </tr>\n",
       "    <tr>\n",
       "      <th>2</th>\n",
       "      <td>nacional</td>\n",
       "      <td>NaN</td>\n",
       "      <td>NaN</td>\n",
       "      <td>NaN</td>\n",
       "      <td>all</td>\n",
       "      <td>todos</td>\n",
       "      <td>all</td>\n",
       "      <td>todos</td>\n",
       "      <td>2018-05-04</td>\n",
       "      <td>989</td>\n",
       "      <td>989.0</td>\n",
       "      <td>989.0</td>\n",
       "      <td>1049.0</td>\n",
       "      <td>953.56</td>\n",
       "      <td>1149.965</td>\n",
       "    </tr>\n",
       "    <tr>\n",
       "      <th>3</th>\n",
       "      <td>nacional</td>\n",
       "      <td>NaN</td>\n",
       "      <td>NaN</td>\n",
       "      <td>NaN</td>\n",
       "      <td>all</td>\n",
       "      <td>todos</td>\n",
       "      <td>all</td>\n",
       "      <td>todos</td>\n",
       "      <td>2018-05-05</td>\n",
       "      <td>1035</td>\n",
       "      <td>1035.0</td>\n",
       "      <td>1035.0</td>\n",
       "      <td>1049.0</td>\n",
       "      <td>976.28</td>\n",
       "      <td>1149.965</td>\n",
       "    </tr>\n",
       "    <tr>\n",
       "      <th>4</th>\n",
       "      <td>nacional</td>\n",
       "      <td>NaN</td>\n",
       "      <td>NaN</td>\n",
       "      <td>NaN</td>\n",
       "      <td>all</td>\n",
       "      <td>todos</td>\n",
       "      <td>all</td>\n",
       "      <td>todos</td>\n",
       "      <td>2018-05-06</td>\n",
       "      <td>997</td>\n",
       "      <td>997.0</td>\n",
       "      <td>997.0</td>\n",
       "      <td>1060.0</td>\n",
       "      <td>987.38</td>\n",
       "      <td>1165.570</td>\n",
       "    </tr>\n",
       "  </tbody>\n",
       "</table>\n",
       "</div>"
      ],
      "text/plain": [
       "     ambito cod_ambito  cod_ine_ambito nombre_ambito cod_sexo nombre_sexo  \\\n",
       "0  nacional        NaN             NaN           NaN      all       todos   \n",
       "1  nacional        NaN             NaN           NaN      all       todos   \n",
       "2  nacional        NaN             NaN           NaN      all       todos   \n",
       "3  nacional        NaN             NaN           NaN      all       todos   \n",
       "4  nacional        NaN             NaN           NaN      all       todos   \n",
       "\n",
       "  cod_gedad nombre_gedad fecha_defuncion  defunciones_observadas  \\\n",
       "0       all        todos      2018-05-02                     940   \n",
       "1       all        todos      2018-05-03                    1049   \n",
       "2       all        todos      2018-05-04                     989   \n",
       "3       all        todos      2018-05-05                    1035   \n",
       "4       all        todos      2018-05-06                     997   \n",
       "\n",
       "   defunciones_observadas_lim_inf  defunciones_observadas_lim_sup  \\\n",
       "0                           940.0                           940.0   \n",
       "1                          1049.0                          1049.0   \n",
       "2                           989.0                           989.0   \n",
       "3                          1035.0                          1035.0   \n",
       "4                           997.0                           997.0   \n",
       "\n",
       "   defunciones_esperadas  defunciones_esperadas_q01  defunciones_esperadas_q99  \n",
       "0                 1046.0                     953.56                   1149.965  \n",
       "1                 1047.0                     953.56                   1149.965  \n",
       "2                 1049.0                     953.56                   1149.965  \n",
       "3                 1049.0                     976.28                   1149.965  \n",
       "4                 1060.0                     987.38                   1165.570  "
      ]
     },
     "metadata": {},
     "output_type": "display_data"
    },
    {
     "data": {
      "text/markdown": [
       "#### Tail"
      ],
      "text/plain": [
       "<IPython.core.display.Markdown object>"
      ]
     },
     "metadata": {},
     "output_type": "display_data"
    },
    {
     "data": {
      "text/html": [
       "<div>\n",
       "<style scoped>\n",
       "    .dataframe tbody tr th:only-of-type {\n",
       "        vertical-align: middle;\n",
       "    }\n",
       "\n",
       "    .dataframe tbody tr th {\n",
       "        vertical-align: top;\n",
       "    }\n",
       "\n",
       "    .dataframe thead th {\n",
       "        text-align: right;\n",
       "    }\n",
       "</style>\n",
       "<table border=\"1\" class=\"dataframe\">\n",
       "  <thead>\n",
       "    <tr style=\"text-align: right;\">\n",
       "      <th></th>\n",
       "      <th>ambito</th>\n",
       "      <th>cod_ambito</th>\n",
       "      <th>cod_ine_ambito</th>\n",
       "      <th>nombre_ambito</th>\n",
       "      <th>cod_sexo</th>\n",
       "      <th>nombre_sexo</th>\n",
       "      <th>cod_gedad</th>\n",
       "      <th>nombre_gedad</th>\n",
       "      <th>fecha_defuncion</th>\n",
       "      <th>defunciones_observadas</th>\n",
       "      <th>defunciones_observadas_lim_inf</th>\n",
       "      <th>defunciones_observadas_lim_sup</th>\n",
       "      <th>defunciones_esperadas</th>\n",
       "      <th>defunciones_esperadas_q01</th>\n",
       "      <th>defunciones_esperadas_q99</th>\n",
       "    </tr>\n",
       "  </thead>\n",
       "  <tbody>\n",
       "    <tr>\n",
       "      <th>179755</th>\n",
       "      <td>ccaa</td>\n",
       "      <td>ML</td>\n",
       "      <td>19.0</td>\n",
       "      <td>Melilla</td>\n",
       "      <td>6</td>\n",
       "      <td>mujeres</td>\n",
       "      <td>mas_74</td>\n",
       "      <td>edad &gt; 75</td>\n",
       "      <td>2020-05-15</td>\n",
       "      <td>0</td>\n",
       "      <td>0.000000</td>\n",
       "      <td>0.226342</td>\n",
       "      <td>0.0</td>\n",
       "      <td>0.0</td>\n",
       "      <td>2.00</td>\n",
       "    </tr>\n",
       "    <tr>\n",
       "      <th>179756</th>\n",
       "      <td>ccaa</td>\n",
       "      <td>ML</td>\n",
       "      <td>19.0</td>\n",
       "      <td>Melilla</td>\n",
       "      <td>6</td>\n",
       "      <td>mujeres</td>\n",
       "      <td>mas_74</td>\n",
       "      <td>edad &gt; 75</td>\n",
       "      <td>2020-05-16</td>\n",
       "      <td>0</td>\n",
       "      <td>0.000000</td>\n",
       "      <td>0.321010</td>\n",
       "      <td>0.0</td>\n",
       "      <td>0.0</td>\n",
       "      <td>2.31</td>\n",
       "    </tr>\n",
       "    <tr>\n",
       "      <th>179757</th>\n",
       "      <td>ccaa</td>\n",
       "      <td>ML</td>\n",
       "      <td>19.0</td>\n",
       "      <td>Melilla</td>\n",
       "      <td>6</td>\n",
       "      <td>mujeres</td>\n",
       "      <td>mas_74</td>\n",
       "      <td>edad &gt; 75</td>\n",
       "      <td>2020-05-17</td>\n",
       "      <td>0</td>\n",
       "      <td>0.000000</td>\n",
       "      <td>0.423254</td>\n",
       "      <td>0.0</td>\n",
       "      <td>0.0</td>\n",
       "      <td>2.31</td>\n",
       "    </tr>\n",
       "    <tr>\n",
       "      <th>179758</th>\n",
       "      <td>ccaa</td>\n",
       "      <td>ML</td>\n",
       "      <td>19.0</td>\n",
       "      <td>Melilla</td>\n",
       "      <td>6</td>\n",
       "      <td>mujeres</td>\n",
       "      <td>mas_74</td>\n",
       "      <td>edad &gt; 75</td>\n",
       "      <td>2020-05-18</td>\n",
       "      <td>1</td>\n",
       "      <td>0.556511</td>\n",
       "      <td>1.659330</td>\n",
       "      <td>0.0</td>\n",
       "      <td>0.0</td>\n",
       "      <td>2.31</td>\n",
       "    </tr>\n",
       "    <tr>\n",
       "      <th>179759</th>\n",
       "      <td>ccaa</td>\n",
       "      <td>ML</td>\n",
       "      <td>19.0</td>\n",
       "      <td>Melilla</td>\n",
       "      <td>6</td>\n",
       "      <td>mujeres</td>\n",
       "      <td>mas_74</td>\n",
       "      <td>edad &gt; 75</td>\n",
       "      <td>2020-05-19</td>\n",
       "      <td>1</td>\n",
       "      <td>0.278134</td>\n",
       "      <td>1.856180</td>\n",
       "      <td>0.0</td>\n",
       "      <td>0.0</td>\n",
       "      <td>3.00</td>\n",
       "    </tr>\n",
       "  </tbody>\n",
       "</table>\n",
       "</div>"
      ],
      "text/plain": [
       "       ambito cod_ambito  cod_ine_ambito nombre_ambito cod_sexo nombre_sexo  \\\n",
       "179755   ccaa         ML            19.0       Melilla        6     mujeres   \n",
       "179756   ccaa         ML            19.0       Melilla        6     mujeres   \n",
       "179757   ccaa         ML            19.0       Melilla        6     mujeres   \n",
       "179758   ccaa         ML            19.0       Melilla        6     mujeres   \n",
       "179759   ccaa         ML            19.0       Melilla        6     mujeres   \n",
       "\n",
       "       cod_gedad nombre_gedad fecha_defuncion  defunciones_observadas  \\\n",
       "179755    mas_74    edad > 75      2020-05-15                       0   \n",
       "179756    mas_74    edad > 75      2020-05-16                       0   \n",
       "179757    mas_74    edad > 75      2020-05-17                       0   \n",
       "179758    mas_74    edad > 75      2020-05-18                       1   \n",
       "179759    mas_74    edad > 75      2020-05-19                       1   \n",
       "\n",
       "        defunciones_observadas_lim_inf  defunciones_observadas_lim_sup  \\\n",
       "179755                        0.000000                        0.226342   \n",
       "179756                        0.000000                        0.321010   \n",
       "179757                        0.000000                        0.423254   \n",
       "179758                        0.556511                        1.659330   \n",
       "179759                        0.278134                        1.856180   \n",
       "\n",
       "        defunciones_esperadas  defunciones_esperadas_q01  \\\n",
       "179755                    0.0                        0.0   \n",
       "179756                    0.0                        0.0   \n",
       "179757                    0.0                        0.0   \n",
       "179758                    0.0                        0.0   \n",
       "179759                    0.0                        0.0   \n",
       "\n",
       "        defunciones_esperadas_q99  \n",
       "179755                       2.00  \n",
       "179756                       2.31  \n",
       "179757                       2.31  \n",
       "179758                       2.31  \n",
       "179759                       3.00  "
      ]
     },
     "metadata": {},
     "output_type": "display_data"
    }
   ],
   "source": [
    "display(Markdown(\"#### Description\"))\n",
    "display(momo.describe())\n",
    "display(Markdown(\"#### Head\"))\n",
    "display(momo.head())\n",
    "display(Markdown(\"#### Tail\"))\n",
    "display(momo.tail())"
   ]
  },
  {
   "cell_type": "code",
   "execution_count": 22,
   "metadata": {},
   "outputs": [
    {
     "data": {
      "text/plain": [
       "array(['AN', 'AR', 'AS', 'IB', 'CN', 'CB', 'CL', 'CM', 'CT', 'VC', 'EX',\n",
       "       'GA', 'MD', 'MC', 'NC', 'PV', 'RI', 'CE', 'ML'], dtype=object)"
      ]
     },
     "execution_count": 22,
     "metadata": {},
     "output_type": "execute_result"
    }
   ],
   "source": [
    "momo[momo.ambito=='ccaa'].cod_ambito.unique()"
   ]
  },
  {
   "cell_type": "code",
   "execution_count": 23,
   "metadata": {},
   "outputs": [],
   "source": [
    "def showDeceases(df, location=None, from_date='2020-03-01', sex='all', age='all'):\n",
    "    \"\"\"\n",
    "    df: Pandas DataFrame\n",
    "    location: string: code of the region\n",
    "    from_date: string: date to start the time window query. Format YYYY-MM-DD\n",
    "    sex: string: sex code for filters\n",
    "    age: string: age code for filters\n",
    "    \"\"\"\n",
    "\n",
    "    if location:\n",
    "        df = df[df.cod_ambito==location]\n",
    "    df = df[df.cod_gedad==age]\n",
    "    df = df[df.cod_sexo==sex]\n",
    "    df = df[df['fecha_defuncion']>=from_date]\n",
    "    covid = res[res['FECHA'] >= from_date]\n",
    "\n",
    "    extra_q99 = df['defunciones_esperadas_q99'].sum()\n",
    "    extra_q01 = df['defunciones_esperadas_q01'].sum()\n",
    "    extra =  df['defunciones_esperadas'].sum()\n",
    "    total_obs = df['defunciones_observadas'].sum()\n",
    "    covid_deaths = covid['IncFallecidos'].sum()\n",
    "\n",
    "    \n",
    "    display(Markdown(\"### Period observed deaths\"))\n",
    "    display(int(total_obs))\n",
    "#    display(Markdown(\"### Period Covid19 deaths\"))\n",
    "#    display(int(covid_deaths))\n",
    "    display(Markdown(\"### Extra over expected deaths\"))\n",
    "    display(int(extra))\n",
    "    display(Markdown(\"### Extra over expected deaths (inferior limit)\"))\n",
    "    display(int(extra_q99))\n",
    "    display(Markdown(\"### Extra over expected deaths (superior limit)\"))\n",
    "    display(int(extra_q01))\n",
    "    \n",
    "    dates = list(df.fecha_defuncion.unique())\n",
    "    dates.sort(reverse=False)\n",
    "    \n",
    "    pal = sns.cubehelix_palette(len(df))\n",
    "    rank = df['defunciones_observadas'].argsort().argsort()   # http://stackoverflow.com/a/6266510/1628638\n",
    "\n",
    "    fig, ax = plt.subplots(1,1, figsize=(16,10))\n",
    "    sns.barplot(data=df,\n",
    "                x='fecha_defuncion',\n",
    "                y='defunciones_observadas',\n",
    "                label='Observed deceases',\n",
    "#                palette=np.array(pal[::1])[rank],\n",
    "                color='lightblue',\n",
    "                order=dates,\n",
    "                ax=ax)\n",
    "    sns.lineplot(data=df,\n",
    "                 x='fecha_defuncion',\n",
    "                 y='defunciones_esperadas',\n",
    "                 label='Expected deceases',\n",
    "                 markers=True,\n",
    "                 dashes=False,\n",
    "                 color='g'\n",
    "                )\n",
    "    sns.lineplot(data=df,\n",
    "                 x='fecha_defuncion',\n",
    "                 y='defunciones_esperadas_q01',\n",
    "                 label='Expected deceases (inf)',\n",
    "                 markers=True,\n",
    "                 dashes=True,\n",
    "                 color='y'\n",
    "                )\n",
    "    sns.lineplot(data=df,\n",
    "                 x='fecha_defuncion',\n",
    "                 y='defunciones_esperadas_q99',\n",
    "                 label='Expected deceases (sup)',\n",
    "                 markers=True,\n",
    "                 dashes=True,\n",
    "                 color='r'\n",
    "                )\n",
    "    plt.xticks(rotation=90)\n",
    "    plt.title(\"Deceases {} since {} - Age {} Sex {}\".format(location, from_date, age, sex))\n",
    "    plt.legend()\n",
    "    plt.savefig(\"images/momo_data.png\")\n",
    "    plt.show()"
   ]
  },
  {
   "cell_type": "code",
   "execution_count": 24,
   "metadata": {},
   "outputs": [
    {
     "data": {
      "text/markdown": [
       "### Period observed deaths"
      ],
      "text/plain": [
       "<IPython.core.display.Markdown object>"
      ]
     },
     "metadata": {},
     "output_type": "display_data"
    },
    {
     "data": {
      "text/plain": [
       "22162"
      ]
     },
     "metadata": {},
     "output_type": "display_data"
    },
    {
     "data": {
      "text/markdown": [
       "### Extra over expected deaths"
      ],
      "text/plain": [
       "<IPython.core.display.Markdown object>"
      ]
     },
     "metadata": {},
     "output_type": "display_data"
    },
    {
     "data": {
      "text/plain": [
       "10446"
      ]
     },
     "metadata": {},
     "output_type": "display_data"
    },
    {
     "data": {
      "text/markdown": [
       "### Extra over expected deaths (inferior limit)"
      ],
      "text/plain": [
       "<IPython.core.display.Markdown object>"
      ]
     },
     "metadata": {},
     "output_type": "display_data"
    },
    {
     "data": {
      "text/plain": [
       "12697"
      ]
     },
     "metadata": {},
     "output_type": "display_data"
    },
    {
     "data": {
      "text/markdown": [
       "### Extra over expected deaths (superior limit)"
      ],
      "text/plain": [
       "<IPython.core.display.Markdown object>"
      ]
     },
     "metadata": {},
     "output_type": "display_data"
    },
    {
     "data": {
      "text/plain": [
       "8443"
      ]
     },
     "metadata": {},
     "output_type": "display_data"
    },
    {
     "data": {
      "image/png": "[encoded data removed]",
      "text/plain": [
       "<Figure size 1152x720 with 1 Axes>"
      ]
     },
     "metadata": {
      "needs_background": "light"
     },
     "output_type": "display_data"
    }
   ],
   "source": [
    "showDeceases(momo, from_date='2020-02-20', location = 'MD')"
   ]
  },
  {
   "cell_type": "markdown",
   "metadata": {},
   "source": [
    "### 3. \tEuropean Centre for Disease Prevention and Control\n",
    "\n",
    "As is said at the [link](https://www.ecdc.europa.eu/en/publications-data/download-todays-data-geographic-distribution-covid-19-cases-worldwide), the downloadable data file is updated daily and contains the latest available public data on COVID-19. Each row/entry contains the number of new cases reported per day and per country. You may use the data in line with ECDC’s copyright policy.\n",
    "\n",
    "#### Columns\n",
    "\n",
    "* ```dateRep```: date of the record (format DD/MM/YYYY)\n",
    "* ```day```: disaggregated data from ```dateRep```\n",
    "* ```month```: disaggregated data from ```dateRep```\n",
    "* ```year```: disaggregated data from ```dateRep```\n",
    "* ```cases```: number of new cases \n",
    "* ```deaths```: number of new deceases\n",
    "* ```countriesAndTerritories```: name of the country \n",
    "* ```geoId```: two letter geolocation identifier\n",
    "* ```countryterritoryCode```: three letter country code\n",
    "* ```popData2018```: population accounted at 2018\n",
    "* ```continentExp```: continent related to that country\n"
   ]
  },
  {
   "cell_type": "code",
   "execution_count": 25,
   "metadata": {},
   "outputs": [],
   "source": [
    "eur = pd.read_csv(\"https://opendata.ecdc.europa.eu/covid19/casedistribution/csv\")"
   ]
  },
  {
   "cell_type": "code",
   "execution_count": 26,
   "metadata": {},
   "outputs": [
    {
     "data": {
      "text/markdown": [
       "#### Description"
      ],
      "text/plain": [
       "<IPython.core.display.Markdown object>"
      ]
     },
     "metadata": {},
     "output_type": "display_data"
    },
    {
     "data": {
      "text/html": [
       "<div>\n",
       "<style scoped>\n",
       "    .dataframe tbody tr th:only-of-type {\n",
       "        vertical-align: middle;\n",
       "    }\n",
       "\n",
       "    .dataframe tbody tr th {\n",
       "        vertical-align: top;\n",
       "    }\n",
       "\n",
       "    .dataframe thead th {\n",
       "        text-align: right;\n",
       "    }\n",
       "</style>\n",
       "<table border=\"1\" class=\"dataframe\">\n",
       "  <thead>\n",
       "    <tr style=\"text-align: right;\">\n",
       "      <th></th>\n",
       "      <th>day</th>\n",
       "      <th>month</th>\n",
       "      <th>year</th>\n",
       "      <th>cases</th>\n",
       "      <th>deaths</th>\n",
       "      <th>popData2018</th>\n",
       "    </tr>\n",
       "  </thead>\n",
       "  <tbody>\n",
       "    <tr>\n",
       "      <th>count</th>\n",
       "      <td>18203.000000</td>\n",
       "      <td>18203.000000</td>\n",
       "      <td>18203.000000</td>\n",
       "      <td>18203.000000</td>\n",
       "      <td>18203.000000</td>\n",
       "      <td>1.796700e+04</td>\n",
       "    </tr>\n",
       "    <tr>\n",
       "      <th>mean</th>\n",
       "      <td>15.374004</td>\n",
       "      <td>3.492172</td>\n",
       "      <td>2019.996319</td>\n",
       "      <td>267.068945</td>\n",
       "      <td>17.715926</td>\n",
       "      <td>5.130280e+07</td>\n",
       "    </tr>\n",
       "    <tr>\n",
       "      <th>std</th>\n",
       "      <td>8.587789</td>\n",
       "      <td>1.367718</td>\n",
       "      <td>0.060559</td>\n",
       "      <td>1687.404903</td>\n",
       "      <td>124.644891</td>\n",
       "      <td>1.754285e+08</td>\n",
       "    </tr>\n",
       "    <tr>\n",
       "      <th>min</th>\n",
       "      <td>1.000000</td>\n",
       "      <td>1.000000</td>\n",
       "      <td>2019.000000</td>\n",
       "      <td>-2461.000000</td>\n",
       "      <td>-217.000000</td>\n",
       "      <td>1.000000e+03</td>\n",
       "    </tr>\n",
       "    <tr>\n",
       "      <th>25%</th>\n",
       "      <td>8.000000</td>\n",
       "      <td>3.000000</td>\n",
       "      <td>2020.000000</td>\n",
       "      <td>0.000000</td>\n",
       "      <td>0.000000</td>\n",
       "      <td>2.254126e+06</td>\n",
       "    </tr>\n",
       "    <tr>\n",
       "      <th>50%</th>\n",
       "      <td>15.000000</td>\n",
       "      <td>4.000000</td>\n",
       "      <td>2020.000000</td>\n",
       "      <td>2.000000</td>\n",
       "      <td>0.000000</td>\n",
       "      <td>9.630959e+06</td>\n",
       "    </tr>\n",
       "    <tr>\n",
       "      <th>75%</th>\n",
       "      <td>22.000000</td>\n",
       "      <td>4.000000</td>\n",
       "      <td>2020.000000</td>\n",
       "      <td>40.000000</td>\n",
       "      <td>1.000000</td>\n",
       "      <td>3.602914e+07</td>\n",
       "    </tr>\n",
       "    <tr>\n",
       "      <th>max</th>\n",
       "      <td>31.000000</td>\n",
       "      <td>12.000000</td>\n",
       "      <td>2020.000000</td>\n",
       "      <td>48529.000000</td>\n",
       "      <td>4928.000000</td>\n",
       "      <td>1.392730e+09</td>\n",
       "    </tr>\n",
       "  </tbody>\n",
       "</table>\n",
       "</div>"
      ],
      "text/plain": [
       "                day         month          year         cases        deaths  \\\n",
       "count  18203.000000  18203.000000  18203.000000  18203.000000  18203.000000   \n",
       "mean      15.374004      3.492172   2019.996319    267.068945     17.715926   \n",
       "std        8.587789      1.367718      0.060559   1687.404903    124.644891   \n",
       "min        1.000000      1.000000   2019.000000  -2461.000000   -217.000000   \n",
       "25%        8.000000      3.000000   2020.000000      0.000000      0.000000   \n",
       "50%       15.000000      4.000000   2020.000000      2.000000      0.000000   \n",
       "75%       22.000000      4.000000   2020.000000     40.000000      1.000000   \n",
       "max       31.000000     12.000000   2020.000000  48529.000000   4928.000000   \n",
       "\n",
       "        popData2018  \n",
       "count  1.796700e+04  \n",
       "mean   5.130280e+07  \n",
       "std    1.754285e+08  \n",
       "min    1.000000e+03  \n",
       "25%    2.254126e+06  \n",
       "50%    9.630959e+06  \n",
       "75%    3.602914e+07  \n",
       "max    1.392730e+09  "
      ]
     },
     "metadata": {},
     "output_type": "display_data"
    },
    {
     "data": {
      "text/markdown": [
       "#### Head"
      ],
      "text/plain": [
       "<IPython.core.display.Markdown object>"
      ]
     },
     "metadata": {},
     "output_type": "display_data"
    },
    {
     "data": {
      "text/html": [
       "<div>\n",
       "<style scoped>\n",
       "    .dataframe tbody tr th:only-of-type {\n",
       "        vertical-align: middle;\n",
       "    }\n",
       "\n",
       "    .dataframe tbody tr th {\n",
       "        vertical-align: top;\n",
       "    }\n",
       "\n",
       "    .dataframe thead th {\n",
       "        text-align: right;\n",
       "    }\n",
       "</style>\n",
       "<table border=\"1\" class=\"dataframe\">\n",
       "  <thead>\n",
       "    <tr style=\"text-align: right;\">\n",
       "      <th></th>\n",
       "      <th>dateRep</th>\n",
       "      <th>day</th>\n",
       "      <th>month</th>\n",
       "      <th>year</th>\n",
       "      <th>cases</th>\n",
       "      <th>deaths</th>\n",
       "      <th>countriesAndTerritories</th>\n",
       "      <th>geoId</th>\n",
       "      <th>countryterritoryCode</th>\n",
       "      <th>popData2018</th>\n",
       "      <th>continentExp</th>\n",
       "    </tr>\n",
       "  </thead>\n",
       "  <tbody>\n",
       "    <tr>\n",
       "      <th>0</th>\n",
       "      <td>20/05/2020</td>\n",
       "      <td>20</td>\n",
       "      <td>5</td>\n",
       "      <td>2020</td>\n",
       "      <td>581</td>\n",
       "      <td>5</td>\n",
       "      <td>Afghanistan</td>\n",
       "      <td>AF</td>\n",
       "      <td>AFG</td>\n",
       "      <td>37172386.0</td>\n",
       "      <td>Asia</td>\n",
       "    </tr>\n",
       "    <tr>\n",
       "      <th>1</th>\n",
       "      <td>19/05/2020</td>\n",
       "      <td>19</td>\n",
       "      <td>5</td>\n",
       "      <td>2020</td>\n",
       "      <td>408</td>\n",
       "      <td>4</td>\n",
       "      <td>Afghanistan</td>\n",
       "      <td>AF</td>\n",
       "      <td>AFG</td>\n",
       "      <td>37172386.0</td>\n",
       "      <td>Asia</td>\n",
       "    </tr>\n",
       "    <tr>\n",
       "      <th>2</th>\n",
       "      <td>18/05/2020</td>\n",
       "      <td>18</td>\n",
       "      <td>5</td>\n",
       "      <td>2020</td>\n",
       "      <td>262</td>\n",
       "      <td>1</td>\n",
       "      <td>Afghanistan</td>\n",
       "      <td>AF</td>\n",
       "      <td>AFG</td>\n",
       "      <td>37172386.0</td>\n",
       "      <td>Asia</td>\n",
       "    </tr>\n",
       "    <tr>\n",
       "      <th>3</th>\n",
       "      <td>17/05/2020</td>\n",
       "      <td>17</td>\n",
       "      <td>5</td>\n",
       "      <td>2020</td>\n",
       "      <td>0</td>\n",
       "      <td>0</td>\n",
       "      <td>Afghanistan</td>\n",
       "      <td>AF</td>\n",
       "      <td>AFG</td>\n",
       "      <td>37172386.0</td>\n",
       "      <td>Asia</td>\n",
       "    </tr>\n",
       "    <tr>\n",
       "      <th>4</th>\n",
       "      <td>16/05/2020</td>\n",
       "      <td>16</td>\n",
       "      <td>5</td>\n",
       "      <td>2020</td>\n",
       "      <td>1063</td>\n",
       "      <td>32</td>\n",
       "      <td>Afghanistan</td>\n",
       "      <td>AF</td>\n",
       "      <td>AFG</td>\n",
       "      <td>37172386.0</td>\n",
       "      <td>Asia</td>\n",
       "    </tr>\n",
       "  </tbody>\n",
       "</table>\n",
       "</div>"
      ],
      "text/plain": [
       "      dateRep  day  month  year  cases  deaths countriesAndTerritories geoId  \\\n",
       "0  20/05/2020   20      5  2020    581       5             Afghanistan    AF   \n",
       "1  19/05/2020   19      5  2020    408       4             Afghanistan    AF   \n",
       "2  18/05/2020   18      5  2020    262       1             Afghanistan    AF   \n",
       "3  17/05/2020   17      5  2020      0       0             Afghanistan    AF   \n",
       "4  16/05/2020   16      5  2020   1063      32             Afghanistan    AF   \n",
       "\n",
       "  countryterritoryCode  popData2018 continentExp  \n",
       "0                  AFG   37172386.0         Asia  \n",
       "1                  AFG   37172386.0         Asia  \n",
       "2                  AFG   37172386.0         Asia  \n",
       "3                  AFG   37172386.0         Asia  \n",
       "4                  AFG   37172386.0         Asia  "
      ]
     },
     "metadata": {},
     "output_type": "display_data"
    },
    {
     "data": {
      "text/markdown": [
       "#### Tail"
      ],
      "text/plain": [
       "<IPython.core.display.Markdown object>"
      ]
     },
     "metadata": {},
     "output_type": "display_data"
    },
    {
     "data": {
      "text/html": [
       "<div>\n",
       "<style scoped>\n",
       "    .dataframe tbody tr th:only-of-type {\n",
       "        vertical-align: middle;\n",
       "    }\n",
       "\n",
       "    .dataframe tbody tr th {\n",
       "        vertical-align: top;\n",
       "    }\n",
       "\n",
       "    .dataframe thead th {\n",
       "        text-align: right;\n",
       "    }\n",
       "</style>\n",
       "<table border=\"1\" class=\"dataframe\">\n",
       "  <thead>\n",
       "    <tr style=\"text-align: right;\">\n",
       "      <th></th>\n",
       "      <th>dateRep</th>\n",
       "      <th>day</th>\n",
       "      <th>month</th>\n",
       "      <th>year</th>\n",
       "      <th>cases</th>\n",
       "      <th>deaths</th>\n",
       "      <th>countriesAndTerritories</th>\n",
       "      <th>geoId</th>\n",
       "      <th>countryterritoryCode</th>\n",
       "      <th>popData2018</th>\n",
       "      <th>continentExp</th>\n",
       "    </tr>\n",
       "  </thead>\n",
       "  <tbody>\n",
       "    <tr>\n",
       "      <th>18198</th>\n",
       "      <td>25/03/2020</td>\n",
       "      <td>25</td>\n",
       "      <td>3</td>\n",
       "      <td>2020</td>\n",
       "      <td>0</td>\n",
       "      <td>0</td>\n",
       "      <td>Zimbabwe</td>\n",
       "      <td>ZW</td>\n",
       "      <td>ZWE</td>\n",
       "      <td>14439018.0</td>\n",
       "      <td>Africa</td>\n",
       "    </tr>\n",
       "    <tr>\n",
       "      <th>18199</th>\n",
       "      <td>24/03/2020</td>\n",
       "      <td>24</td>\n",
       "      <td>3</td>\n",
       "      <td>2020</td>\n",
       "      <td>0</td>\n",
       "      <td>1</td>\n",
       "      <td>Zimbabwe</td>\n",
       "      <td>ZW</td>\n",
       "      <td>ZWE</td>\n",
       "      <td>14439018.0</td>\n",
       "      <td>Africa</td>\n",
       "    </tr>\n",
       "    <tr>\n",
       "      <th>18200</th>\n",
       "      <td>23/03/2020</td>\n",
       "      <td>23</td>\n",
       "      <td>3</td>\n",
       "      <td>2020</td>\n",
       "      <td>0</td>\n",
       "      <td>0</td>\n",
       "      <td>Zimbabwe</td>\n",
       "      <td>ZW</td>\n",
       "      <td>ZWE</td>\n",
       "      <td>14439018.0</td>\n",
       "      <td>Africa</td>\n",
       "    </tr>\n",
       "    <tr>\n",
       "      <th>18201</th>\n",
       "      <td>22/03/2020</td>\n",
       "      <td>22</td>\n",
       "      <td>3</td>\n",
       "      <td>2020</td>\n",
       "      <td>1</td>\n",
       "      <td>0</td>\n",
       "      <td>Zimbabwe</td>\n",
       "      <td>ZW</td>\n",
       "      <td>ZWE</td>\n",
       "      <td>14439018.0</td>\n",
       "      <td>Africa</td>\n",
       "    </tr>\n",
       "    <tr>\n",
       "      <th>18202</th>\n",
       "      <td>21/03/2020</td>\n",
       "      <td>21</td>\n",
       "      <td>3</td>\n",
       "      <td>2020</td>\n",
       "      <td>1</td>\n",
       "      <td>0</td>\n",
       "      <td>Zimbabwe</td>\n",
       "      <td>ZW</td>\n",
       "      <td>ZWE</td>\n",
       "      <td>14439018.0</td>\n",
       "      <td>Africa</td>\n",
       "    </tr>\n",
       "  </tbody>\n",
       "</table>\n",
       "</div>"
      ],
      "text/plain": [
       "          dateRep  day  month  year  cases  deaths countriesAndTerritories  \\\n",
       "18198  25/03/2020   25      3  2020      0       0                Zimbabwe   \n",
       "18199  24/03/2020   24      3  2020      0       1                Zimbabwe   \n",
       "18200  23/03/2020   23      3  2020      0       0                Zimbabwe   \n",
       "18201  22/03/2020   22      3  2020      1       0                Zimbabwe   \n",
       "18202  21/03/2020   21      3  2020      1       0                Zimbabwe   \n",
       "\n",
       "      geoId countryterritoryCode  popData2018 continentExp  \n",
       "18198    ZW                  ZWE   14439018.0       Africa  \n",
       "18199    ZW                  ZWE   14439018.0       Africa  \n",
       "18200    ZW                  ZWE   14439018.0       Africa  \n",
       "18201    ZW                  ZWE   14439018.0       Africa  \n",
       "18202    ZW                  ZWE   14439018.0       Africa  "
      ]
     },
     "metadata": {},
     "output_type": "display_data"
    }
   ],
   "source": [
    "display(Markdown(\"#### Description\"))\n",
    "display(eur.describe())\n",
    "display(Markdown(\"#### Head\"))\n",
    "display(eur.head())\n",
    "display(Markdown(\"#### Tail\"))\n",
    "display(eur.tail())"
   ]
  },
  {
   "cell_type": "code",
   "execution_count": 27,
   "metadata": {},
   "outputs": [
    {
     "data": {
      "text/plain": [
       "Index(['dateRep', 'day', 'month', 'year', 'cases', 'deaths',\n",
       "       'countriesAndTerritories', 'geoId', 'countryterritoryCode',\n",
       "       'popData2018', 'continentExp'],\n",
       "      dtype='object')"
      ]
     },
     "execution_count": 27,
     "metadata": {},
     "output_type": "execute_result"
    }
   ],
   "source": [
    "eur.columns"
   ]
  },
  {
   "cell_type": "markdown",
   "metadata": {},
   "source": [
    "#### Date processing\n",
    "\n",
    "In order to have an easy way to filter rows, let's generate a date column compliant with format ```YYYY-MM-DD```."
   ]
  },
  {
   "cell_type": "code",
   "execution_count": 28,
   "metadata": {},
   "outputs": [],
   "source": [
    "eur['date'] = pd.to_datetime(eur['dateRep'], infer_datetime_format=True).apply(\n",
    "    lambda x: str(x).split(\" \")[0])"
   ]
  },
  {
   "cell_type": "code",
   "execution_count": 29,
   "metadata": {},
   "outputs": [],
   "source": [
    "def showCases(df, location='ES', from_date='2020-03-01', date_limit=None):\n",
    "    if not date_limit:\n",
    "        from datetime import date\n",
    "        date_limit = date.today().strftime(\"%Y-%m-%d\")\n",
    "\n",
    "    if type(location) == 'str':\n",
    "        df = df[df.geoId==location]\n",
    "    elif type(location) == list:\n",
    "        df = df[df.geoId.isin(location)]\n",
    "    \n",
    "    df = df[df['date']>=from_date]\n",
    "    df = df[df['date']<=date_limit]\n",
    "\n",
    "    dates = list(df.date.unique())\n",
    "    dates.sort(reverse=False)\n",
    "    \n",
    "    fig, ax = plt.subplots(1,1, figsize=(16,10))\n",
    "    sns.barplot(data=df,\n",
    "                x='date',\n",
    "                y='cases',\n",
    "                label='Observed infections',\n",
    "                color='lightblue',\n",
    "                order=dates,\n",
    "                ax=ax)\n",
    "    sns.lineplot(data=df,\n",
    "                 x='date',\n",
    "                 y='deaths',\n",
    "                 label='Deaths',\n",
    "                 markers=True,\n",
    "                 dashes=True,\n",
    "                 color='m'\n",
    "                )\n",
    "    plt.xticks(rotation=90)\n",
    "    plt.title(\"Cases {} since {}\".format(location or \"Europe\", from_date))\n",
    "    plt.legend()\n",
    "    plt.savefig(\"images/eur_data.png\")\n",
    "    plt.show()"
   ]
  },
  {
   "cell_type": "code",
   "execution_count": 30,
   "metadata": {},
   "outputs": [
    {
     "data": {
      "text/plain": [
       "array(['AF', 'AL', 'DZ', 'AD', 'AO', 'AI', 'AG', 'AR', 'AM', 'AW', 'AU',\n",
       "       'AT', 'AZ', 'BS', 'BH', 'BD', 'BB', 'BY', 'BE', 'BZ', 'BJ', 'BM',\n",
       "       'BT', 'BO', 'BQ', 'BA', 'BW', 'BR', 'VG', 'BN', 'BG', 'BF', 'BI',\n",
       "       'KH', 'CM', 'CA', 'CV', 'JPG11668', 'KY', 'CF', 'TD', 'CL', 'CN',\n",
       "       'CO', 'KM', 'CG', 'CR', 'CI', 'HR', 'CU', 'CW', 'CY', 'CZ', 'CD',\n",
       "       'DK', 'DJ', 'DM', 'DO', 'EC', 'EG', 'SV', 'GQ', 'ER', 'EE', 'SZ',\n",
       "       'ET', 'FK', 'FO', 'FJ', 'FI', 'FR', 'PF', 'GA', 'GM', 'GE', 'DE',\n",
       "       'GH', 'GI', 'EL', 'GL', 'GD', 'GU', 'GT', 'GG', 'GN', 'GW', 'GY',\n",
       "       'HT', 'VA', 'HN', 'HU', 'IS', 'IN', 'ID', 'IR', 'IQ', 'IE', 'IM',\n",
       "       'IL', 'IT', 'JM', 'JP', 'JE', 'JO', 'KZ', 'KE', 'XK', 'KW', 'KG',\n",
       "       'LA', 'LV', 'LB', 'LS', 'LR', 'LY', 'LI', 'LT', 'LU', 'MG', 'MW',\n",
       "       'MY', 'MV', 'ML', 'MT', 'MR', 'MU', 'MX', 'MD', 'MC', 'MN', 'ME',\n",
       "       'MS', 'MA', 'MZ', 'MM', nan, 'NP', 'NL', 'NC', 'NZ', 'NI', 'NE',\n",
       "       'NG', 'MK', 'MP', 'NO', 'OM', 'PK', 'PS', 'PA', 'PG', 'PY', 'PE',\n",
       "       'PH', 'PL', 'PT', 'PR', 'QA', 'RO', 'RU', 'RW', 'KN', 'LC', 'VC',\n",
       "       'SM', 'ST', 'SA', 'SN', 'RS', 'SC', 'SL', 'SG', 'SX', 'SK', 'SI',\n",
       "       'SO', 'ZA', 'KR', 'SS', 'ES', 'LK', 'SD', 'SR', 'SE', 'CH', 'SY',\n",
       "       'TW', 'TJ', 'TH', 'TL', 'TG', 'TT', 'TN', 'TR', 'TC', 'UG', 'UA',\n",
       "       'AE', 'UK', 'TZ', 'US', 'VI', 'UY', 'UZ', 'VE', 'VN', 'EH', 'YE',\n",
       "       'ZM', 'ZW'], dtype=object)"
      ]
     },
     "execution_count": 30,
     "metadata": {},
     "output_type": "execute_result"
    }
   ],
   "source": [
    "eur.geoId.unique()"
   ]
  },
  {
   "cell_type": "code",
   "execution_count": 31,
   "metadata": {
    "scrolled": false
   },
   "outputs": [
    {
     "data": {
      "image/png": "[encoded data removed]",
      "text/plain": [
       "<Figure size 1152x720 with 1 Axes>"
      ]
     },
     "metadata": {
      "needs_background": "light"
     },
     "output_type": "display_data"
    },
    {
     "data": {
      "image/png": "[encoded data removed]",
      "text/plain": [
       "<Figure size 1152x720 with 1 Axes>"
      ]
     },
     "metadata": {
      "needs_background": "light"
     },
     "output_type": "display_data"
    },
    {
     "data": {
      "image/png": "[encoded data removed]",
      "text/plain": [
       "<Figure size 1152x720 with 1 Axes>"
      ]
     },
     "metadata": {
      "needs_background": "light"
     },
     "output_type": "display_data"
    }
   ],
   "source": [
    "showCases(eur, location='ES', from_date='2020-03-29')\n",
    "showCases(eur, location=None, from_date='2020-03-29')\n",
    "showCases(eur, location=['ES', 'FR', 'IT', 'GE'], from_date='2020-03-15')"
   ]
  },
  {
   "cell_type": "code",
   "execution_count": null,
   "metadata": {},
   "outputs": [],
   "source": []
  }
 ],
 "metadata": {
  "kernelspec": {
   "display_name": "Python 3",
   "language": "python",
   "name": "python3"
  },
  "language_info": {
   "codemirror_mode": {
    "name": "ipython",
    "version": 3
   },
   "file_extension": ".py",
   "mimetype": "text/x-python",
   "name": "python",
   "nbconvert_exporter": "python",
   "pygments_lexer": "ipython3",
   "version": "3.6.8"
  }
 },
 "nbformat": 4,
 "nbformat_minor": 2
}
